{
  "nbformat": 4,
  "nbformat_minor": 0,
  "metadata": {
    "colab": {
      "provenance": []
    },
    "kernelspec": {
      "name": "python3",
      "display_name": "Python 3"
    },
    "language_info": {
      "name": "python"
    }
  },
  "cells": [
    {
      "cell_type": "code",
      "source": [
        "#Question 1"
      ],
      "metadata": {
        "id": "CqERxJxgJu4x"
      },
      "execution_count": null,
      "outputs": []
    },
    {
      "cell_type": "code",
      "execution_count": 1,
      "metadata": {
        "id": "pB4rxK6NIh__"
      },
      "outputs": [],
      "source": [
        "num1 = 20\n",
        "num2 = 10"
      ]
    },
    {
      "cell_type": "code",
      "source": [
        "num1+num2"
      ],
      "metadata": {
        "colab": {
          "base_uri": "https://localhost:8080/"
        },
        "id": "ozDCnJldJRg-",
        "outputId": "29f5e4be-5989-4bbb-b670-43b8a7d9a648"
      },
      "execution_count": 2,
      "outputs": [
        {
          "output_type": "execute_result",
          "data": {
            "text/plain": [
              "30"
            ]
          },
          "metadata": {},
          "execution_count": 2
        }
      ]
    },
    {
      "cell_type": "code",
      "source": [
        "num1-num2"
      ],
      "metadata": {
        "colab": {
          "base_uri": "https://localhost:8080/"
        },
        "id": "stnDEalTJlnm",
        "outputId": "f6a0f1f6-9d02-4e62-81cf-8acdaa65d60a"
      },
      "execution_count": 3,
      "outputs": [
        {
          "output_type": "execute_result",
          "data": {
            "text/plain": [
              "10"
            ]
          },
          "metadata": {},
          "execution_count": 3
        }
      ]
    },
    {
      "cell_type": "code",
      "source": [
        "num1/num2"
      ],
      "metadata": {
        "colab": {
          "base_uri": "https://localhost:8080/"
        },
        "id": "U-Y2nD7AJnd7",
        "outputId": "9a279427-43bc-4fd4-a692-281de1c17613"
      },
      "execution_count": 4,
      "outputs": [
        {
          "output_type": "execute_result",
          "data": {
            "text/plain": [
              "2.0"
            ]
          },
          "metadata": {},
          "execution_count": 4
        }
      ]
    },
    {
      "cell_type": "code",
      "source": [
        "num1*num2"
      ],
      "metadata": {
        "colab": {
          "base_uri": "https://localhost:8080/"
        },
        "id": "sPzvCWE3JqeB",
        "outputId": "7f0fe577-e188-45af-812c-9e9a2b2877f1"
      },
      "execution_count": 5,
      "outputs": [
        {
          "output_type": "execute_result",
          "data": {
            "text/plain": [
              "200"
            ]
          },
          "metadata": {},
          "execution_count": 5
        }
      ]
    },
    {
      "cell_type": "code",
      "source": [
        "#Question 2"
      ],
      "metadata": {
        "id": "CY-0o1PGJuD7"
      },
      "execution_count": 6,
      "outputs": []
    },
    {
      "cell_type": "code",
      "source": [
        "num1+=num2"
      ],
      "metadata": {
        "id": "ohiX-NEtJySE"
      },
      "execution_count": 7,
      "outputs": []
    },
    {
      "cell_type": "code",
      "source": [
        "num1"
      ],
      "metadata": {
        "colab": {
          "base_uri": "https://localhost:8080/"
        },
        "id": "f2iEGspJJyP0",
        "outputId": "fa526638-82ed-43ca-acb9-4786fa4f7574"
      },
      "execution_count": 8,
      "outputs": [
        {
          "output_type": "execute_result",
          "data": {
            "text/plain": [
              "30"
            ]
          },
          "metadata": {},
          "execution_count": 8
        }
      ]
    },
    {
      "cell_type": "code",
      "source": [
        "num1/=num2"
      ],
      "metadata": {
        "id": "yIYQ01IBJyNO"
      },
      "execution_count": 9,
      "outputs": []
    },
    {
      "cell_type": "code",
      "source": [
        "num1\n"
      ],
      "metadata": {
        "colab": {
          "base_uri": "https://localhost:8080/"
        },
        "id": "bulzyVIYJyK3",
        "outputId": "5298e0c2-6b9f-4470-95ac-1195124013be"
      },
      "execution_count": 10,
      "outputs": [
        {
          "output_type": "execute_result",
          "data": {
            "text/plain": [
              "3.0"
            ]
          },
          "metadata": {},
          "execution_count": 10
        }
      ]
    },
    {
      "cell_type": "code",
      "source": [
        "num1*=num2"
      ],
      "metadata": {
        "id": "s1Nej-XxJyIQ"
      },
      "execution_count": 11,
      "outputs": []
    },
    {
      "cell_type": "code",
      "source": [
        "num1"
      ],
      "metadata": {
        "colab": {
          "base_uri": "https://localhost:8080/"
        },
        "id": "m0bC8WYiJyF1",
        "outputId": "f35d90a8-75ea-48c2-e5e0-c7c468d75b6b"
      },
      "execution_count": 12,
      "outputs": [
        {
          "output_type": "execute_result",
          "data": {
            "text/plain": [
              "30.0"
            ]
          },
          "metadata": {},
          "execution_count": 12
        }
      ]
    },
    {
      "cell_type": "code",
      "source": [
        "#Question 3"
      ],
      "metadata": {
        "id": "E3tLLCUGJyDd"
      },
      "execution_count": 15,
      "outputs": []
    },
    {
      "cell_type": "code",
      "source": [
        "compare1= 100\n",
        "compare2=100\n"
      ],
      "metadata": {
        "id": "_ZN-ZEUEJyA-"
      },
      "execution_count": 18,
      "outputs": []
    },
    {
      "cell_type": "code",
      "source": [
        "compare1==compare2"
      ],
      "metadata": {
        "colab": {
          "base_uri": "https://localhost:8080/"
        },
        "id": "3EQY6oF0Jx-l",
        "outputId": "c3164940-cb1c-4d63-9e2b-cebc34b3827f"
      },
      "execution_count": 19,
      "outputs": [
        {
          "output_type": "execute_result",
          "data": {
            "text/plain": [
              "True"
            ]
          },
          "metadata": {},
          "execution_count": 19
        }
      ]
    },
    {
      "cell_type": "code",
      "source": [
        "#QUestion 4"
      ],
      "metadata": {
        "id": "1pbgV4L-KokV"
      },
      "execution_count": 20,
      "outputs": []
    },
    {
      "cell_type": "code",
      "source": [
        "x=True\n",
        "y=False"
      ],
      "metadata": {
        "id": "EjbMHXmpKs6f"
      },
      "execution_count": 25,
      "outputs": []
    },
    {
      "cell_type": "code",
      "source": [
        "print(\"AND operator result = \", x and y)\n",
        "print(\"OR operator result = \", x or y)\n",
        "print(\"NOT operator result = \" ,  not y)"
      ],
      "metadata": {
        "colab": {
          "base_uri": "https://localhost:8080/"
        },
        "id": "dH-16iywKs25",
        "outputId": "dacd1d54-c1c2-4b46-843d-9dc2fa71b178"
      },
      "execution_count": 30,
      "outputs": [
        {
          "output_type": "stream",
          "name": "stdout",
          "text": [
            "AND operator result =  False\n",
            "OR operator result =  True\n",
            "NOT operator result =  True\n"
          ]
        }
      ]
    },
    {
      "cell_type": "code",
      "source": [
        "#Question 5"
      ],
      "metadata": {
        "id": "Hya64sAwKszw"
      },
      "execution_count": null,
      "outputs": []
    },
    {
      "cell_type": "code",
      "source": [
        "iden_1= 20\n",
        "iden_2 = 30"
      ],
      "metadata": {
        "id": "SB5wvwp7Ksxe"
      },
      "execution_count": 31,
      "outputs": []
    },
    {
      "cell_type": "code",
      "source": [
        "print(\"The id of 1 = \", id(iden_1))\n",
        "print(\"The id of 2 = \", id(iden_2))"
      ],
      "metadata": {
        "colab": {
          "base_uri": "https://localhost:8080/"
        },
        "id": "-Nm4d1nHKsu9",
        "outputId": "09fe905d-3b15-472f-9524-18b97e15489a"
      },
      "execution_count": 32,
      "outputs": [
        {
          "output_type": "stream",
          "name": "stdout",
          "text": [
            "The id of 1 =  135023759164240\n",
            "The id of 2 =  135023759164560\n"
          ]
        }
      ]
    },
    {
      "cell_type": "code",
      "source": [
        "#What if both the value is same then the id is\n",
        "#iden_1 = 20\n",
        "iden_2= 20\n",
        "if(id(iden_1) == id(iden_2)):\n",
        "  print(\"Both the id value is same\")\n",
        "else:\n",
        "  print(\"The id value is different\")"
      ],
      "metadata": {
        "colab": {
          "base_uri": "https://localhost:8080/"
        },
        "id": "A7Gj3A86Kssl",
        "outputId": "00c78b5f-3459-4db1-c65e-085209bd6eba"
      },
      "execution_count": 35,
      "outputs": [
        {
          "output_type": "stream",
          "name": "stdout",
          "text": [
            "Both the id value is same\n"
          ]
        }
      ]
    },
    {
      "cell_type": "code",
      "source": [
        "#Question 6"
      ],
      "metadata": {
        "id": "QdieaBbuKsqE"
      },
      "execution_count": 36,
      "outputs": []
    },
    {
      "cell_type": "code",
      "source": [
        "a=10\n",
        "b=5"
      ],
      "metadata": {
        "id": "Bg179bY9Ksnw"
      },
      "execution_count": 39,
      "outputs": []
    },
    {
      "cell_type": "code",
      "source": [
        "print(\"the bitwise OR is = \" , a | b)\n",
        "print(\"the bitwise AND is = \", a & b)\n",
        "print(\"the bitwise NOT is = \", ~a)\n",
        "print(\"the bitwise XOR is = \", a^b)\n",
        "print(\"the left shift is = \", a<<1)\n",
        "print(\"the right shift is = \", a>>1)"
      ],
      "metadata": {
        "colab": {
          "base_uri": "https://localhost:8080/"
        },
        "id": "QeyAARPiSvRa",
        "outputId": "99c11aea-9f52-414d-f730-243a498f7bce"
      },
      "execution_count": 41,
      "outputs": [
        {
          "output_type": "stream",
          "name": "stdout",
          "text": [
            "the bitwise OR is =  15\n",
            "the bitwise AND is =  0\n",
            "the bitwise NOT is =  -11\n",
            "the bitwise XOR is =  15\n",
            "the left shift is =  20\n",
            "the right shift is =  5\n"
          ]
        }
      ]
    },
    {
      "cell_type": "code",
      "source": [
        "#Question 7"
      ],
      "metadata": {
        "id": "nczbFIfWUQkO"
      },
      "execution_count": null,
      "outputs": []
    },
    {
      "cell_type": "code",
      "source": [
        "c=20\n",
        "b= -c"
      ],
      "metadata": {
        "id": "am35xTFzUQg5"
      },
      "execution_count": 42,
      "outputs": []
    },
    {
      "cell_type": "code",
      "source": [
        "b"
      ],
      "metadata": {
        "colab": {
          "base_uri": "https://localhost:8080/"
        },
        "id": "Wya79rGeUQev",
        "outputId": "39f4c89a-d08e-41e9-c2b7-a61b756ec07d"
      },
      "execution_count": 43,
      "outputs": [
        {
          "output_type": "execute_result",
          "data": {
            "text/plain": [
              "-20"
            ]
          },
          "metadata": {},
          "execution_count": 43
        }
      ]
    },
    {
      "cell_type": "code",
      "source": [
        "#Question 8"
      ],
      "metadata": {
        "id": "HsrFPW1_UQcK"
      },
      "execution_count": null,
      "outputs": []
    },
    {
      "cell_type": "code",
      "source": [
        "number = 10\n",
        "even_check = \"Even number \" if number%2==0 else \"odd number\""
      ],
      "metadata": {
        "id": "2opRwmTAUQZz"
      },
      "execution_count": 44,
      "outputs": []
    },
    {
      "cell_type": "code",
      "source": [
        "print(\"the number is \" , even_check)"
      ],
      "metadata": {
        "colab": {
          "base_uri": "https://localhost:8080/"
        },
        "id": "d_--TDjbUQXa",
        "outputId": "1a95684c-19fe-46df-db81-b0ad4d26b748"
      },
      "execution_count": 45,
      "outputs": [
        {
          "output_type": "stream",
          "name": "stdout",
          "text": [
            "the number is  Even number \n"
          ]
        }
      ]
    },
    {
      "cell_type": "code",
      "source": [],
      "metadata": {
        "id": "rkAdUU0-UQU8"
      },
      "execution_count": null,
      "outputs": []
    }
  ]
}