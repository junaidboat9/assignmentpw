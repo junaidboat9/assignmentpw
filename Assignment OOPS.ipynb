{
 "cells": [
  {
   "cell_type": "markdown",
   "id": "f2217c81-8df3-4a71-87db-d065dfffff62",
   "metadata": {},
   "source": [
    "PW Skills Assignment Solutions\n",
    "Assignment-08 Python Object Oriented Programming"
   ]
  },
  {
   "cell_type": "markdown",
   "id": "a4d414b5-ab1e-42a6-af13-9c440bcd1e80",
   "metadata": {},
   "source": [
    "Q1.  Explain the importance of functions"
   ]
  },
  {
   "cell_type": "markdown",
   "id": "294a3dd2-56c2-4fcb-a62e-1f29144f3d55",
   "metadata": {},
   "source": [
    "Functions are important in Object Oriented programmimg due to its following features:\n",
    "1. Modularity : structured in a module for ease of use\n",
    "2. Code reusability : Can be reused multiple times\n",
    "3. Abstarction : Abstract away implementation details which is not needed to be known by other users\n",
    "4. Encapsulation :  Functions allow you to encapsulate related code into a single unit, hiding its implementation details from the rest of the program.\n",
    "5. Readability : As it has a structured module and well defined doc string it makes it easy to read\n",
    "6. Testing and debbugging : Easy to identify errors and fix it as it is isolated from rest of the program."
   ]
  },
  {
   "cell_type": "markdown",
   "id": "b873b7c9-7a1e-4414-987b-d7e13a6d18f6",
   "metadata": {},
   "source": [
    "Q2. Write a basic function to greet the students."
   ]
  },
  {
   "cell_type": "code",
   "execution_count": 1,
   "id": "d90bcf59-6c2d-4c19-8aba-3a44b81adb59",
   "metadata": {},
   "outputs": [
    {
     "data": {
      "text/plain": [
       "'Hello, Ankita welcome to Data Science Domain'"
      ]
     },
     "execution_count": 1,
     "metadata": {},
     "output_type": "execute_result"
    }
   ],
   "source": [
    "def greet(name): #defining a function with an argument\n",
    "    return f\"Hello, {name} welcome to Data Science Domain\"\n",
    "\n",
    "greet(\"Ankita\") # calling function"
   ]
  },
  {
   "cell_type": "markdown",
   "id": "6535d7b5-acbd-4ff2-858e-967644817b42",
   "metadata": {},
   "source": [
    "Q3. What is difference between print and return statements"
   ]
  },
  {
   "cell_type": "markdown",
   "id": "7799f714-904d-41ff-9e2b-b7eaf3e833e0",
   "metadata": {},
   "source": [
    "1. Print statement is an output display function, where as return sends back value to the function caller.\n",
    "2. print cannot store data whereas return data can be stored in a variable\n",
    "3. A function can have multiple print statements but can have only single return statement as return is the last line of function code"
   ]
  },
  {
   "cell_type": "code",
   "execution_count": 3,
   "id": "79ae0f6e-c08e-47e6-9421-2d75f78ff660",
   "metadata": {},
   "outputs": [
    {
     "name": "stdout",
     "output_type": "stream",
     "text": [
      "The sum of two numbers is 11\n",
      "The sum of two numbers is 5\n"
     ]
    }
   ],
   "source": [
    "def addp(a,b):\n",
    "    print(f\"The sum of two numbers is {a+b}\")\n",
    "\n",
    "def addr(x,y):\n",
    "    return x+y\n",
    "\n",
    "addp(5,6)\n",
    "s=addr(2,3)\n",
    "print(f\"The sum of two numbers is {s}\")"
   ]
  },
  {
   "cell_type": "markdown",
   "id": "09cc4a06-098d-4bf7-80c4-6c95260b7f66",
   "metadata": {},
   "source": [
    "Q4. What are *args and **kwargs?"
   ]
  },
  {
   "cell_type": "markdown",
   "id": "994e1612-90c2-46ed-a5e2-87fe57f98836",
   "metadata": {},
   "source": [
    "In Python, *args and **kwargs are special syntax used in function definitions to handle variable-length arguments.\n",
    "\n",
    "*args (Arbitrary Arguments)\n",
    "Purpose: *args allows a function to accept any number of positional arguments. It collects these arguments into a tuple within the function.\n",
    "Syntax: *args is written with an asterisk (*) followed by the parameter name (args is a convention, but you can use any name after the asterisk).\n",
    "Usage: It's useful when we are unsure how many arguments the function will receive, or when you want to pass a variable number of arguments to another function.\n",
    "\n",
    "**kwargs (Arbitrary Keyword Arguments)\n",
    "Purpose: **kwargs allows a function to accept any number of keyword arguments. It collects these arguments into a dictionary within the function.\n",
    "Syntax: **kwargs is written with two asterisks (**) followed by the parameter name (kwargs is a convention, but you can use any name after the asterisks).\n",
    "Usage: It's useful when we want to accept keyword arguments of unknown quantity or when you want to pass keyword arguments to another function."
   ]
  },
  {
   "cell_type": "code",
   "execution_count": 3,
   "id": "50da6597-3565-42e9-86d4-88ef81740e86",
   "metadata": {},
   "outputs": [
    {
     "name": "stdout",
     "output_type": "stream",
     "text": [
      "14\n",
      "39\n"
     ]
    }
   ],
   "source": [
    "def sum_all(*args):\n",
    "    total=0\n",
    "    for i in args:\n",
    "        total+=i\n",
    "    return total\n",
    "\n",
    "print(sum_all(2,3,4,5))\n",
    "print(sum_all(10,9,8,7,5))"
   ]
  },
  {
   "cell_type": "code",
   "execution_count": 8,
   "id": "ecd67e71-ba01-465b-b4fc-3b8f6b268d48",
   "metadata": {},
   "outputs": [
    {
     "name": "stdout",
     "output_type": "stream",
     "text": [
      "Hello, Ankita welcome to Data Science Domain\n",
      "Hello, Deepak welcome to AI Domain\n"
     ]
    }
   ],
   "source": [
    "def greet(**kwargs):\n",
    "    for key, value in kwargs.items():\n",
    "        print (f\"Hello, {key} welcome to {value} Domain\")\n",
    "    \n",
    "greet(Ankita =\"Data Science\", Deepak= \"AI\")"
   ]
  },
  {
   "cell_type": "markdown",
   "id": "55e4bee6-16b4-48ef-bc23-5159535fe673",
   "metadata": {},
   "source": [
    "Q5. Explain the iterator function"
   ]
  },
  {
   "cell_type": "markdown",
   "id": "04a2204f-54d3-480c-acac-63825f1da5d3",
   "metadata": {},
   "source": [
    "Iterator function in python is a special method to traverse through any iterable data type(eg. strings, tuple, list, sets etc.) using two special or dunder methods __iter__ and __next__"
   ]
  },
  {
   "cell_type": "code",
   "execution_count": 9,
   "id": "c125f018-a742-4c4d-b200-d259c6006713",
   "metadata": {},
   "outputs": [
    {
     "name": "stdout",
     "output_type": "stream",
     "text": [
      "1\n",
      "2\n"
     ]
    }
   ],
   "source": [
    "lst=[1,2,3,4,5,6,7]\n",
    "a=iter(lst)\n",
    "print(next(a))\n",
    "print(next(a))"
   ]
  },
  {
   "cell_type": "markdown",
   "id": "b0973ad9-4eb9-4bdb-80e1-5116e838b80c",
   "metadata": {},
   "source": [
    " Q6. Write a code that generates squares of numbers from 1 to n using a generators"
   ]
  },
  {
   "cell_type": "code",
   "execution_count": 16,
   "id": "8d86b929-c6ff-41b9-9c0f-0e2589c386bb",
   "metadata": {},
   "outputs": [
    {
     "name": "stdin",
     "output_type": "stream",
     "text": [
      "Enter the number upto which squares of number is required: 5\n"
     ]
    },
    {
     "name": "stdout",
     "output_type": "stream",
     "text": [
      "1\n",
      "4\n",
      "9\n",
      "16\n",
      "25\n"
     ]
    }
   ],
   "source": [
    "def Sq(n):\n",
    "    for i in range(1, n+1):\n",
    "        yield i**2\n",
    "\n",
    "n=int(input(\"Enter the number upto which squares of number is required:\"))\n",
    "for j in Sq(n):\n",
    "    print(j)"
   ]
  },
  {
   "cell_type": "markdown",
   "id": "0d9fa2e6-6f68-44b3-a4c6-1f9a1d4a7039",
   "metadata": {},
   "source": [
    "Q7. Write a code that generates palindrome numbers from 1 to n using a generator"
   ]
  },
  {
   "cell_type": "code",
   "execution_count": 18,
   "id": "5ca25abb-17c6-48dc-8135-3dcfc8c6b537",
   "metadata": {},
   "outputs": [
    {
     "name": "stdout",
     "output_type": "stream",
     "text": [
      "1\n",
      "2\n",
      "3\n",
      "4\n",
      "5\n",
      "6\n",
      "7\n",
      "8\n",
      "9\n",
      "11\n",
      "22\n",
      "33\n",
      "44\n",
      "55\n",
      "66\n",
      "77\n",
      "88\n",
      "99\n"
     ]
    }
   ],
   "source": [
    "def palindrome_numbers(n):\n",
    "    for i in range(1, n + 1):\n",
    "        if str(i)==str(i)[::-1]:\n",
    "            yield i\n",
    "\n",
    "# Example usage\n",
    "n = 100  # Find palindromes from 1 to 100\n",
    "for palindrome in palindrome_numbers(n):\n",
    "    print(palindrome)"
   ]
  },
  {
   "cell_type": "markdown",
   "id": "79eb6b7e-e7eb-42f3-b517-efbd721cce6f",
   "metadata": {},
   "source": [
    "Q8. Write a code that generates even numbers from 2 to n using a generator"
   ]
  },
  {
   "cell_type": "code",
   "execution_count": 19,
   "id": "e132851c-2af9-44ab-83f0-aeef50873f00",
   "metadata": {},
   "outputs": [
    {
     "name": "stdin",
     "output_type": "stream",
     "text": [
      "Enter the number upto which list of even number is desired: 11\n"
     ]
    },
    {
     "name": "stdout",
     "output_type": "stream",
     "text": [
      "2\n",
      "4\n",
      "6\n",
      "8\n",
      "10\n"
     ]
    }
   ],
   "source": [
    "def even(n):\n",
    "    for i in range (2,n+1):\n",
    "        if i%2==0:\n",
    "            yield i\n",
    "            \n",
    "n=int(input(\"Enter the number upto which list of even number is desired:\"))\n",
    "for j in even(n):\n",
    "    print(j)"
   ]
  },
  {
   "cell_type": "markdown",
   "id": "408224fb-55c6-4313-93dd-07df0b4dac94",
   "metadata": {},
   "source": [
    "Q9. Write a code that generates power of two upto n using a generator"
   ]
  },
  {
   "cell_type": "code",
   "execution_count": 20,
   "id": "5eed3abf-25ed-46d6-8d4e-ce8413de4ab5",
   "metadata": {},
   "outputs": [
    {
     "name": "stdin",
     "output_type": "stream",
     "text": [
      "Enter the number upto which list of power of two is desired: 5\n"
     ]
    },
    {
     "name": "stdout",
     "output_type": "stream",
     "text": [
      "1\n",
      "4\n",
      "9\n",
      "16\n",
      "25\n"
     ]
    }
   ],
   "source": [
    "def power(n):\n",
    "    for i in range (1, n+1):\n",
    "        yield i**2\n",
    "        \n",
    "n=int(input(\"Enter the number upto which list of power of two is desired:\"))\n",
    "for j in power(n):\n",
    "    print(j)"
   ]
  },
  {
   "cell_type": "markdown",
   "id": "960a16e7-5101-476d-acbe-63a6e2202599",
   "metadata": {},
   "source": [
    "Q10. Write a code that generates prime numbers upto n using a generator"
   ]
  },
  {
   "cell_type": "code",
   "execution_count": 32,
   "id": "3127909d-2302-4ef6-a43d-1e22a50a4614",
   "metadata": {},
   "outputs": [
    {
     "name": "stdin",
     "output_type": "stream",
     "text": [
      "Enter the number up to which list of prime numbers is desired:  17\n"
     ]
    },
    {
     "name": "stdout",
     "output_type": "stream",
     "text": [
      "The Prime numbers are:\n",
      "2\n",
      "3\n",
      "5\n",
      "7\n",
      "11\n",
      "13\n",
      "17\n"
     ]
    }
   ],
   "source": [
    "def prime(n):\n",
    "    if n == 1:\n",
    "        yield \"1 is neither prime nor a composite number\"\n",
    "    elif n >= 2:\n",
    "        yield \"The Prime numbers are:\"\n",
    "        for i in range(2, n+1):\n",
    "            is_prime = True\n",
    "            for j in range(2, int(i ** 0.5) + 1):  # Only go up to the square root\n",
    "                if i % j == 0:\n",
    "                    is_prime = False\n",
    "                    break  # Break out of the inner loop if a factor is found\n",
    "            if is_prime:\n",
    "                yield i\n",
    "\n",
    "n = int(input(\"Enter the number up to which list of prime numbers is desired: \"))\n",
    "for k in prime(n):\n",
    "    print(k)"
   ]
  },
  {
   "cell_type": "markdown",
   "id": "511bb525-5806-4124-80f3-a1b24a3327a7",
   "metadata": {},
   "source": [
    "Q11. Write a code that uses lambda function to create sum of two numbers"
   ]
  },
  {
   "cell_type": "code",
   "execution_count": 34,
   "id": "92fbffb1-1c78-421e-8745-23283780b623",
   "metadata": {},
   "outputs": [
    {
     "name": "stdout",
     "output_type": "stream",
     "text": [
      "12\n"
     ]
    }
   ],
   "source": [
    "add=lambda x,y:x+y\n",
    "print(add(5,7))"
   ]
  },
  {
   "cell_type": "markdown",
   "id": "cb3ad981-6053-4d92-a5bb-a43705c2860b",
   "metadata": {},
   "source": [
    "Q12. Write a code that uses lambda function to create square of a number"
   ]
  },
  {
   "cell_type": "code",
   "execution_count": 35,
   "id": "dbb36add-04e7-4755-ab41-d97467bb5531",
   "metadata": {},
   "outputs": [
    {
     "name": "stdout",
     "output_type": "stream",
     "text": [
      "16\n"
     ]
    }
   ],
   "source": [
    "Sq_num=lambda x: x**2\n",
    "print((Sq_num(4)))"
   ]
  },
  {
   "cell_type": "markdown",
   "id": "82b8cd02-023b-407c-a748-da3c5f8284b3",
   "metadata": {},
   "source": [
    "Q13. Write a code that uses lambda function to check whether a given number is even or odd"
   ]
  },
  {
   "cell_type": "code",
   "execution_count": 36,
   "id": "fcb25431-e1d4-4c64-89d7-5fb1274f54f7",
   "metadata": {},
   "outputs": [
    {
     "name": "stdout",
     "output_type": "stream",
     "text": [
      "The number is odd\n"
     ]
    }
   ],
   "source": [
    "check=lambda x: \"The number is even\" if x%2==0 else \"The number is odd\"\n",
    "print((check(5)))"
   ]
  },
  {
   "cell_type": "markdown",
   "id": "b637db77-c532-4e43-bcbb-b30e79ad0e2e",
   "metadata": {},
   "source": [
    "Q15. Write a code that uses lambda function to concatenate two strings"
   ]
  },
  {
   "cell_type": "code",
   "execution_count": 37,
   "id": "3118475d-09bd-4620-9b70-ecbd1342f30a",
   "metadata": {},
   "outputs": [
    {
     "name": "stdout",
     "output_type": "stream",
     "text": [
      "datascience\n"
     ]
    }
   ],
   "source": [
    "concat= lambda s1,s2: s1+s2\n",
    "print(concat(\"data\", \"science\"))"
   ]
  },
  {
   "cell_type": "markdown",
   "id": "40b5b8b4-5588-4045-aac6-35fdaa6e4a67",
   "metadata": {},
   "source": [
    "Q16. Write a code that uses lambda function to find maximum of three given numbers "
   ]
  },
  {
   "cell_type": "code",
   "execution_count": 38,
   "id": "ae274f79-577c-446a-b5c0-44343dc9618a",
   "metadata": {},
   "outputs": [
    {
     "name": "stdout",
     "output_type": "stream",
     "text": [
      "10\n",
      "2\n"
     ]
    }
   ],
   "source": [
    "maxm=lambda a,b,c: max(a,b,c)\n",
    "print(maxm(10,3,6))\n",
    "print(maxm(2,2,2))"
   ]
  },
  {
   "cell_type": "markdown",
   "id": "fefc56af-d22e-4016-a0a5-341cc90fe24c",
   "metadata": {},
   "source": [
    "Q17. Write a code that generates square of even numbers from a given list"
   ]
  },
  {
   "cell_type": "code",
   "execution_count": 41,
   "id": "32ce9340-6b88-421a-84da-865244825123",
   "metadata": {},
   "outputs": [
    {
     "name": "stdout",
     "output_type": "stream",
     "text": [
      "4\n",
      "16\n",
      "36\n",
      "64\n"
     ]
    }
   ],
   "source": [
    "def Gen_sq(l):\n",
    "    for i in l:\n",
    "        if i%2==0:\n",
    "            yield i**2\n",
    "            \n",
    "l=[1,2,3,4,5,6,7,8]\n",
    "for j in Gen_sq(l):\n",
    "    print(j)"
   ]
  },
  {
   "cell_type": "markdown",
   "id": "78bdba06-bca0-47d0-958c-c377d3141ced",
   "metadata": {},
   "source": [
    "Q18. Write a code that calculates product of positive numbers from a given list"
   ]
  },
  {
   "cell_type": "code",
   "execution_count": 42,
   "id": "a5a3ef8d-53f9-4960-a82c-55ebeb1dce88",
   "metadata": {},
   "outputs": [
    {
     "data": {
      "text/plain": [
       "576"
      ]
     },
     "execution_count": 42,
     "metadata": {},
     "output_type": "execute_result"
    }
   ],
   "source": [
    "lst=[1,-3,4,6,-7,8,-2,3]\n",
    "def prod(lst):\n",
    "    result=1\n",
    "    for i in lst:\n",
    "        if i>0:\n",
    "            result*=i\n",
    "    return result\n",
    "\n",
    "prod(lst)\n",
    "            "
   ]
  },
  {
   "cell_type": "markdown",
   "id": "e83fe8c2-7907-4f4a-b791-1c441ef53fd0",
   "metadata": {},
   "source": [
    "Q19. Write a code that doubles the value of odd numbers from a given list"
   ]
  },
  {
   "cell_type": "code",
   "execution_count": 44,
   "id": "1b637714-f984-493f-9c41-e3cee08b779a",
   "metadata": {},
   "outputs": [
    {
     "data": {
      "text/plain": [
       "[6, 14, 10, 18, 2]"
      ]
     },
     "execution_count": 44,
     "metadata": {},
     "output_type": "execute_result"
    }
   ],
   "source": [
    "l=[3,8,7,6,5,9,4,2,1]\n",
    "def dob_odd(l):\n",
    "    l1=[]\n",
    "    for i in l:\n",
    "        if i%2!=0:\n",
    "            l1.append(i*2)\n",
    "    return l1\n",
    "\n",
    "dob_odd(l)"
   ]
  },
  {
   "cell_type": "markdown",
   "id": "b1e47aca-5d1c-4798-bac9-91ac6ddacb77",
   "metadata": {},
   "source": [
    "Q20. Write a code that calculates sum of cubes of numbers from a given list."
   ]
  },
  {
   "cell_type": "code",
   "execution_count": 1,
   "id": "5714b4fd-633d-4c5b-9989-d746aa8954f9",
   "metadata": {},
   "outputs": [
    {
     "data": {
      "text/plain": [
       "440"
      ]
     },
     "execution_count": 1,
     "metadata": {},
     "output_type": "execute_result"
    }
   ],
   "source": [
    "lst=[2,3,4,5,6]\n",
    "def sum_cube(l):\n",
    "    total=0\n",
    "    for i in l:\n",
    "        total+=(i**3)\n",
    "    return total\n",
    "\n",
    "sum_cube(lst)"
   ]
  },
  {
   "cell_type": "markdown",
   "id": "fda6e7dd-ad58-48b3-b77a-7a37cbf9a65a",
   "metadata": {},
   "source": [
    "Q21. Write a code that filters out prime number from given list"
   ]
  },
  {
   "cell_type": "code",
   "execution_count": 21,
   "id": "a52d6739-0f98-4e68-ae61-16ca75f935c5",
   "metadata": {},
   "outputs": [
    {
     "name": "stdout",
     "output_type": "stream",
     "text": [
      "[2, 3, 5, 7, 11, 13, 17, 19]\n"
     ]
    }
   ],
   "source": [
    "def is_prime(n):\n",
    "    if n<=1:\n",
    "        return False\n",
    "    elif n>=2:\n",
    "        for j in range(2, int(n**0.5)+1):\n",
    "            if n%j==0:\n",
    "                return False\n",
    "        return True\n",
    "\n",
    "lst=[i for i in range(1,22)]\n",
    "filter_lst=list(filter(lambda x: is_prime(x),lst))\n",
    "print(filter_lst)"
   ]
  },
  {
   "cell_type": "markdown",
   "id": "f9b36693-0d1d-45c2-a1d8-394b5e952f84",
   "metadata": {},
   "source": [
    "Q22. to Q. 26 is repeated"
   ]
  },
  {
   "cell_type": "markdown",
   "id": "d0fad8dd-d00f-456b-840d-8ab3e401c005",
   "metadata": {},
   "source": [
    "Q.27 What is encapsulation in OOPs?"
   ]
  },
  {
   "cell_type": "markdown",
   "id": "63b2e678-a338-4ec6-ae4a-d425d14c4ae1",
   "metadata": {},
   "source": [
    "Encapsulation is a fundamental concept in object-oriented programming (OOP) that involves bundling of data(variables) and methods(functions) in a single unit class(object). It restrict access to data(Hiding data) through acess modifiers like private, protected and public to prevent accidental misuse of data."
   ]
  },
  {
   "cell_type": "markdown",
   "id": "358057ef-06f4-459a-aaf3-ae8315994e9c",
   "metadata": {},
   "source": [
    "Q.28 Explain the use of access modifiers in Python classes."
   ]
  },
  {
   "cell_type": "markdown",
   "id": "c49ffbb2-0889-4e4e-a3e3-68e8f09e3b9d",
   "metadata": {},
   "source": [
    "There are three types of access modifiers in python:\n",
    "1. Private    #self.__name (can be accessed within the class only)\n",
    "2. Protected  #self._name (can be accessed within the class and its subclasses only.)\n",
    "3. Public     #self.name (can be accessed from anywhere - inside the class, from its subclasses, or from outside the class.)"
   ]
  },
  {
   "cell_type": "code",
   "execution_count": 13,
   "id": "5efb7903-1f6c-4609-b2b9-3f2d9f3bdf35",
   "metadata": {},
   "outputs": [],
   "source": [
    "class Student:\n",
    "    def __init__(self, name, age, std):\n",
    "        self.__name=name    #private \n",
    "        self._age=age       #protected\n",
    "        self.std=std        #public\n",
    "    def display(self):\n",
    "        print(f\"{self.__name}, {self._age} years old is studying in standard {self.std}\")"
   ]
  },
  {
   "cell_type": "code",
   "execution_count": 14,
   "id": "d48c9be4-860b-48fd-a574-6286fe928db4",
   "metadata": {},
   "outputs": [],
   "source": [
    "stud=Student(\"Ankita\",16,\"Tenth\")"
   ]
  },
  {
   "cell_type": "code",
   "execution_count": 15,
   "id": "66043657-e5b8-42b7-80b1-13c19a029be6",
   "metadata": {},
   "outputs": [
    {
     "name": "stdout",
     "output_type": "stream",
     "text": [
      "Ankita, 16 years old is studying in standard Tenth\n"
     ]
    }
   ],
   "source": [
    "stud.display()"
   ]
  },
  {
   "cell_type": "markdown",
   "id": "c441e36b-67b7-4848-bc6a-c285226f9667",
   "metadata": {},
   "source": [
    "Q.29 What is inheritance in OOPs?"
   ]
  },
  {
   "cell_type": "markdown",
   "id": "a6fe9488-65b3-4bbe-982a-9c8f15fcad06",
   "metadata": {},
   "source": [
    "Inheritance is a fundamental concept in object-oriented programming (OOP) that allows a class (child class) to inherit properties and methods from another class(parent class)."
   ]
  },
  {
   "cell_type": "code",
   "execution_count": 25,
   "id": "b3707433-9d2f-4a72-a94d-f96a18f81dd2",
   "metadata": {},
   "outputs": [],
   "source": [
    "class Vehicle:\n",
    "    def __init__(self, make, model):\n",
    "        self.make=make\n",
    "        self.model=model\n",
    "    def display(self):\n",
    "        print(f\"The Vehicle make is {self.make} and model is {self.model}\")\n",
    "\n",
    "class Car(Vehicle):\n",
    "    def __init__(self, make, model, year):\n",
    "        super().__init__(make, model)\n",
    "        self.year=year\n",
    "    def display(self):\n",
    "        print(f\"The Car of brand {self.make} and model {self.model} was made in the year {self.year}\")     "
   ]
  },
  {
   "cell_type": "code",
   "execution_count": 26,
   "id": "bff57750-8de9-46f1-9deb-31de78afee7c",
   "metadata": {},
   "outputs": [],
   "source": [
    "c=Car(\"Honda\",\"WR-V\",2019)"
   ]
  },
  {
   "cell_type": "code",
   "execution_count": 27,
   "id": "54c33623-57b2-443b-9c79-38e8e791ecb0",
   "metadata": {},
   "outputs": [
    {
     "name": "stdout",
     "output_type": "stream",
     "text": [
      "The Car of brand Honda and model WR-V was made in the year 2019\n"
     ]
    }
   ],
   "source": [
    "c.display()"
   ]
  },
  {
   "cell_type": "markdown",
   "id": "ab094b3e-7c81-4cc6-b89b-eb218fca200e",
   "metadata": {},
   "source": [
    "Q.30 Define polymorphism in OOPs."
   ]
  },
  {
   "cell_type": "markdown",
   "id": "96b69186-050a-4095-b69e-f50ff8b3f121",
   "metadata": {},
   "source": [
    "Polymorphism means \"many shapes\".It is the ability of different objects to respond in its own way to the method call. polymorphism lets us treat objects of different classes that have a common interface as if they were objects of a common superclass."
   ]
  },
  {
   "cell_type": "code",
   "execution_count": 5,
   "id": "bee04097-9d43-417e-a1fc-c7f3767a10c3",
   "metadata": {},
   "outputs": [],
   "source": [
    "class Animal:\n",
    "    def speaks(self):\n",
    "        print(\"Animal speaks\")\n",
    "class Dog(Animal):\n",
    "    def speaks(self):\n",
    "        print(\"Dog barks\")\n",
    "class Cat(Animal):\n",
    "    def speaks(self):\n",
    "        print(\"Cat meows\")\n",
    "def animalspeak(animal):\n",
    "    animal.speaks()"
   ]
  },
  {
   "cell_type": "code",
   "execution_count": 6,
   "id": "602b9689-afb0-42d1-8ef9-eca910a0384c",
   "metadata": {},
   "outputs": [],
   "source": [
    "d=Dog()\n",
    "c=Cat()"
   ]
  },
  {
   "cell_type": "code",
   "execution_count": 8,
   "id": "cd7f0e30-f31c-4c9a-a7f1-7850fccb2bfb",
   "metadata": {},
   "outputs": [
    {
     "name": "stdout",
     "output_type": "stream",
     "text": [
      "Dog barks\n"
     ]
    }
   ],
   "source": [
    "animalspeak(d)"
   ]
  },
  {
   "cell_type": "code",
   "execution_count": 9,
   "id": "21ee203a-11a1-4ceb-af86-7f73d624300f",
   "metadata": {},
   "outputs": [
    {
     "name": "stdout",
     "output_type": "stream",
     "text": [
      "Cat meows\n"
     ]
    }
   ],
   "source": [
    "animalspeak(c)"
   ]
  },
  {
   "cell_type": "markdown",
   "id": "9c328bf9-2749-4a3f-aa6f-efba6e4f41bc",
   "metadata": {},
   "source": [
    "Q.31 Explain method Overriding in Python"
   ]
  },
  {
   "cell_type": "code",
   "execution_count": 1,
   "id": "42096611-d9cd-445d-a223-e99557d5ab83",
   "metadata": {},
   "outputs": [],
   "source": [
    "class Animal:\n",
    "    def sound(self):\n",
    "        print(\"Animal sound\")\n",
    "class Dog(Animal):\n",
    "    def sound(self):        #method overriding\n",
    "        print(\"Dog barks\")"
   ]
  },
  {
   "cell_type": "code",
   "execution_count": 3,
   "id": "2ac45ea0-b12e-47da-8a72-82526e58e15a",
   "metadata": {},
   "outputs": [],
   "source": [
    "d=Dog()"
   ]
  },
  {
   "cell_type": "code",
   "execution_count": 4,
   "id": "fb745a4c-932d-4f51-a2e6-a418131b552f",
   "metadata": {},
   "outputs": [
    {
     "name": "stdout",
     "output_type": "stream",
     "text": [
      "Dog barks\n"
     ]
    }
   ],
   "source": [
    "d.sound()"
   ]
  },
  {
   "cell_type": "markdown",
   "id": "3f893fba-4325-4e4b-9260-6e34563963da",
   "metadata": {},
   "source": [
    "Q.32 Define a parent class Animal with a method make_sound that prints a \"Generic animal sound\" Create a\n",
    "child class Dog inheriting from Animal with a method make_sound that prints \"Woof!\""
   ]
  },
  {
   "cell_type": "code",
   "execution_count": 5,
   "id": "baf09299-fab4-4eb7-aca6-9d9a5b6bf1bb",
   "metadata": {},
   "outputs": [],
   "source": [
    "class Animal:\n",
    "    def make_sound(self):\n",
    "        print(\"Generic animal sound\")\n",
    "class Dog(Animal):\n",
    "    def make_sound(self):\n",
    "        print(\"Woof!\")"
   ]
  },
  {
   "cell_type": "code",
   "execution_count": 6,
   "id": "d6ed1bd8-0194-4c44-93b1-f490008abda5",
   "metadata": {},
   "outputs": [
    {
     "name": "stdout",
     "output_type": "stream",
     "text": [
      "Woof!\n"
     ]
    }
   ],
   "source": [
    "dog=Dog()\n",
    "dog.make_sound()"
   ]
  },
  {
   "cell_type": "markdown",
   "id": "053e5407-25ad-45ec-8970-c5be43cb06d3",
   "metadata": {},
   "source": [
    "Q.33 Define a method move in the animal class that prints \"animal moves\" Override the move method in the\n",
    "Dog class to print \"Dog runs\""
   ]
  },
  {
   "cell_type": "code",
   "execution_count": 7,
   "id": "8487f5c4-ccca-47f2-81fa-1c822bb5e547",
   "metadata": {},
   "outputs": [],
   "source": [
    "class Animal:\n",
    "    def move(self):\n",
    "        print(\"animal moves\")\n",
    "class Dog(Animal):\n",
    "    def move(self):\n",
    "        print(\"Dog runs\")"
   ]
  },
  {
   "cell_type": "code",
   "execution_count": 8,
   "id": "c6f2c60f-a2cf-4543-8f02-21ee43fab7f1",
   "metadata": {},
   "outputs": [
    {
     "name": "stdout",
     "output_type": "stream",
     "text": [
      "Dog runs\n"
     ]
    }
   ],
   "source": [
    "d=Dog()\n",
    "d.move()"
   ]
  },
  {
   "cell_type": "markdown",
   "id": "ed6b71e6-7dc7-45e1-aaf7-a194a10060a0",
   "metadata": {},
   "source": [
    "Q.34 Create a class Mammal with a method reproduce that prints \"Giving birth to live young\". Create a class\n",
    "DogMammal inheriting from both Dog and Mammal."
   ]
  },
  {
   "cell_type": "code",
   "execution_count": 9,
   "id": "015fdedd-effd-42b5-b332-a1799ed0fc64",
   "metadata": {},
   "outputs": [],
   "source": [
    "class Mammal:\n",
    "    def reproduce(self):\n",
    "        print(\"Giving birth to live young\")\n",
    "class Dog:\n",
    "    def sound(self):\n",
    "        print(\"Dog Barks\")\n",
    "class DogMammal(Mammal, Dog):\n",
    "    def move(self):\n",
    "        print(\"Dog runs\")"
   ]
  },
  {
   "cell_type": "code",
   "execution_count": 10,
   "id": "358b7de1-3960-49c2-8c8a-50d4cce7c8c2",
   "metadata": {},
   "outputs": [
    {
     "name": "stdout",
     "output_type": "stream",
     "text": [
      "Giving birth to live young\n",
      "Dog Barks\n",
      "Dog runs\n"
     ]
    }
   ],
   "source": [
    "dog=DogMammal()\n",
    "dog.reproduce()\n",
    "dog.sound()\n",
    "dog.move()"
   ]
  },
  {
   "cell_type": "markdown",
   "id": "4c5a3402-6b6f-4ac2-94ad-44d8403f2bb6",
   "metadata": {},
   "source": [
    "Q.35 Create a class Germanshepherd inheriting from Dog and Override the make_sound method to print\n",
    "\"Barks!\""
   ]
  },
  {
   "cell_type": "code",
   "execution_count": 11,
   "id": "d36c3d94-33f3-48c7-a5fa-f84f82452eb9",
   "metadata": {},
   "outputs": [
    {
     "name": "stdout",
     "output_type": "stream",
     "text": [
      "Barks!\n"
     ]
    }
   ],
   "source": [
    "class Dog:\n",
    "    def make_sound(self):\n",
    "        print(\"The Dog woofs\")\n",
    "class Germanshepherd(Dog):\n",
    "    def make_sound(self):\n",
    "        print(\"Barks!\")\n",
    "        \n",
    "gs=Germanshepherd()\n",
    "gs.make_sound()\n"
   ]
  },
  {
   "cell_type": "markdown",
   "id": "2a0d17aa-f139-4382-b10f-c290473a6e06",
   "metadata": {},
   "source": [
    "Q.36  Define constructors in both the animal and Dog classes with different initialisation parameters."
   ]
  },
  {
   "cell_type": "code",
   "execution_count": 21,
   "id": "dc23d8e0-76c2-4784-bcf7-713425e304f0",
   "metadata": {},
   "outputs": [
    {
     "name": "stdout",
     "output_type": "stream",
     "text": [
      "The Dog is an animal which barks\n"
     ]
    }
   ],
   "source": [
    "class Animal:\n",
    "    def __init__(self, name=\" \"):\n",
    "        self.name=name\n",
    "    def outp(self):\n",
    "        print(f\"The {self.name} is an animal\")\n",
    "class Dog(Animal):\n",
    "    def __init__(self,name=\" \", sound=\" \"):\n",
    "        self.sound=sound\n",
    "        super().__init__(\"Dog\")\n",
    "    def outp(self):\n",
    "        print(f\"The {self.name} is an animal which {self.sound}\")\n",
    "        \n",
    "dog1=Dog(\"dog\", \"barks\")\n",
    "dog1.outp()"
   ]
  },
  {
   "cell_type": "markdown",
   "id": "99878983-5f7c-4e29-919f-c496394a8832",
   "metadata": {},
   "source": [
    "Q.37 What is abstraction in Python? How is it implemented?"
   ]
  },
  {
   "cell_type": "markdown",
   "id": "4326a8c8-400f-4d9d-8d1a-78204ad3d868",
   "metadata": {},
   "source": [
    "Abstraction is a core concept of OOPs. It is a concept of hiding the complex implementation."
   ]
  },
  {
   "cell_type": "code",
   "execution_count": 1,
   "id": "d19f60d3-985a-482d-a1c1-946b7d340b25",
   "metadata": {},
   "outputs": [
    {
     "name": "stdout",
     "output_type": "stream",
     "text": [
      "Area of triangle is (1/2)*height*base\n",
      "Area of cicleis pi*r^2\n",
      "Area of Rectangle is length*breadth\n"
     ]
    }
   ],
   "source": [
    "import abc\n",
    "class Shape:\n",
    "    @abc.abstractmethod\n",
    "    def area(self):\n",
    "        pass\n",
    "class Triangle(Shape):\n",
    "    def area(self):\n",
    "        print(\"Area of triangle is (1/2)*height*base\")\n",
    "class Circle(Shape):\n",
    "    def area(self):\n",
    "        print(\"Area of cicleis pi*r^2\")\n",
    "class Rectangle(Shape):\n",
    "    def area(self):\n",
    "        print(\"Area of Rectangle is length*breadth\")\n",
    "\n",
    "t=Triangle()\n",
    "c=Circle()\n",
    "r=Rectangle()\n",
    "t.area()\n",
    "c.area()\n",
    "r.area()"
   ]
  },
  {
   "cell_type": "markdown",
   "id": "e14379a8-0e48-4916-9787-8def9a9c442a",
   "metadata": {},
   "source": [
    "Q.38 Explain the importance of abstraction in object oriented programming"
   ]
  },
  {
   "cell_type": "markdown",
   "id": "70924793-6d79-4ade-ba5c-fec40f5d5281",
   "metadata": {},
   "source": [
    "Importance of abstraction in OOPs is due to it's following features:\n",
    "1. Complexity Management\n",
    "2. Modularity\n",
    "3. Code reusability\n",
    "4. Flexibility and Maintainability\n",
    "5. Encapsulation (encapsulation hides objects and abstraction hides methods)\n",
    "6. Scalability"
   ]
  },
  {
   "cell_type": "markdown",
   "id": "f6c7f186-c510-404f-a077-dc15e29cf6ff",
   "metadata": {},
   "source": [
    "Q.39 How are abstract methods different from regular methods in Python?"
   ]
  },
  {
   "cell_type": "markdown",
   "id": "efcd7be1-aaf5-4597-81a5-9d6c70f266e1",
   "metadata": {},
   "source": [
    "Abstract method are different from regular methods in python as follows:\n",
    "\n",
    "1. Declaration:\n",
    "\n",
    "Abstract methods are declared within abstract classes using the @abstractmethod decorator from the abc module.\n",
    "Regular methods are declared within classes without any special decorator.\n",
    "\n",
    "2. Implementation:\n",
    "\n",
    "Abstract methods do not have any implementation in the abstract class where they are defined. Their purpose is to provide a method signature or interface that must be implemented by subclasses.\n",
    "Regular methods have concrete implementations within the class where they are defined. They perform specific actions or operations when called.\n",
    "\n",
    "3. Purpose:\n",
    "\n",
    "Abstract methods serve as placeholders for methods that must be implemented by subclasses. They define a contract that subclasses must adhere to.\n",
    "Regular methods provide functionality or behavior associated with the class where they are defined. They are directly callable and can be used to perform actions or manipulate data.\n"
   ]
  },
  {
   "cell_type": "markdown",
   "id": "764b21ae-b904-44ce-8452-ed9c13bc8da9",
   "metadata": {},
   "source": [
    "Q.40 How can you achieve abstraction using interfaces in Python?"
   ]
  },
  {
   "cell_type": "code",
   "execution_count": 2,
   "id": "f767a7ad-dadd-4998-808a-0f89196ac6cc",
   "metadata": {},
   "outputs": [
    {
     "name": "stdout",
     "output_type": "stream",
     "text": [
      "Rectangle:\n",
      "Area: 20\n",
      "Perimeter: 18\n",
      "\n",
      "Circle:\n",
      "Area: 28.259999999999998\n",
      "Perimeter: 18.84\n"
     ]
    }
   ],
   "source": [
    "from abc import ABC, abstractmethod\n",
    "\n",
    "# Define the interface\n",
    "class Shape(ABC):\n",
    "    @abstractmethod\n",
    "    def area(self):\n",
    "        pass\n",
    "\n",
    "    @abstractmethod\n",
    "    def perimeter(self):\n",
    "        pass\n",
    "\n",
    "# Implement the interface\n",
    "class Rectangle(Shape):\n",
    "    def __init__(self, width, height):\n",
    "        self.width = width\n",
    "        self.height = height\n",
    "\n",
    "    def area(self):\n",
    "        return self.width * self.height\n",
    "\n",
    "    def perimeter(self):\n",
    "        return 2 * (self.width + self.height)\n",
    "\n",
    "class Circle(Shape):\n",
    "    def __init__(self, radius):\n",
    "        self.radius = radius\n",
    "\n",
    "    def area(self):\n",
    "        return 3.14 * self.radius * self.radius\n",
    "\n",
    "    def perimeter(self):\n",
    "        return 2 * 3.14 * self.radius\n",
    "\n",
    "# Usage\n",
    "rectangle = Rectangle(5, 4)\n",
    "circle = Circle(3)\n",
    "\n",
    "print(\"Rectangle:\")\n",
    "print(\"Area:\", rectangle.area())\n",
    "print(\"Perimeter:\", rectangle.perimeter())\n",
    "\n",
    "print(\"\\nCircle:\")\n",
    "print(\"Area:\", circle.area())\n",
    "print(\"Perimeter:\", circle.perimeter())\n"
   ]
  },
  {
   "cell_type": "markdown",
   "id": "7f2af869-708c-4296-ac25-078c9d98ed3e",
   "metadata": {},
   "source": [
    "Q.41 Can you provide an example of how abstraction can be utilized to create a common interface forr a group\n",
    "of related classes in Python."
   ]
  },
  {
   "cell_type": "code",
   "execution_count": null,
   "id": "a51a2015-53c0-419e-9ef4-e204231e8a72",
   "metadata": {},
   "outputs": [],
   "source": [
    "from abc import ABC, abstractmethod\n",
    "\n",
    "# Define the common interface for animals\n",
    "class Animal(ABC):\n",
    "    @abstractmethod\n",
    "    def make_sound(self):\n",
    "        pass\n",
    "\n",
    "# Define concrete animal classes that implement the common interface\n",
    "class Dog(Animal):\n",
    "    def make_sound(self):\n",
    "        return \"Woof!\"\n",
    "\n",
    "class Cat(Animal):\n",
    "    def make_sound(self):\n",
    "        return \"Meow!\"\n",
    "\n",
    "class Cow(Animal):\n",
    "    def make_sound(self):\n",
    "        return \"Moo!\"\n",
    "\n",
    "# Usage example\n",
    "def animal_sound(animal):\n",
    "    if isinstance(animal, Animal):\n",
    "        print(f\"The {animal.__class__.__name__} says: {animal.make_sound()}\")\n",
    "    else:\n",
    "        print(\"Not a valid animal!\")\n",
    "\n",
    "# Create instances of different animal classes\n",
    "dog = Dog()\n",
    "cat = Cat()\n",
    "cow = Cow()\n",
    "\n",
    "# Produce sounds of different animals\n",
    "animal_sound(dog)  # Outputs: The Dog says: Woof!\n",
    "animal_sound(cat)  # Outputs: The Cat says: Meow!\n",
    "animal_sound(cow)  # Outputs: The Cow says: Moo!\n"
   ]
  },
  {
   "cell_type": "markdown",
   "id": "0ea4d84c-2dbf-483b-a1af-4ba78e47c499",
   "metadata": {},
   "source": [
    "Q.42 How does Python achieve polymorphism through method overriding?"
   ]
  },
  {
   "cell_type": "code",
   "execution_count": 1,
   "id": "548b85d7-c6c5-4bee-bdfd-897d4a392db5",
   "metadata": {},
   "outputs": [
    {
     "name": "stdout",
     "output_type": "stream",
     "text": [
      "Woof\n",
      "Meow\n"
     ]
    }
   ],
   "source": [
    "class Animal:\n",
    "    def sound(self):\n",
    "        print(\"Some generic sound\")\n",
    "\n",
    "class Dog(Animal):\n",
    "    def sound(self):\n",
    "        print(\"Woof\")\n",
    "\n",
    "class Cat(Animal):\n",
    "    def sound(self):\n",
    "        print(\"Meow\")\n",
    "\n",
    "# Polymorphism in action\n",
    "animals = [Dog(), Cat()]\n",
    "\n",
    "for animal in animals:\n",
    "    animal.sound()"
   ]
  },
  {
   "cell_type": "markdown",
   "id": "dcc732e1-e465-46c9-a917-a62dc7be3dfe",
   "metadata": {},
   "source": [
    "Q.43  Define a base class with a method and a subclass that overrides the method."
   ]
  },
  {
   "cell_type": "code",
   "execution_count": 2,
   "id": "84cc3b03-cde6-4f61-9cd3-142ac27c43a4",
   "metadata": {},
   "outputs": [
    {
     "name": "stdout",
     "output_type": "stream",
     "text": [
      "Woof\n"
     ]
    }
   ],
   "source": [
    "class Animal:\n",
    "    def sound(self):\n",
    "        print(\"Some generic sound\")\n",
    "\n",
    "class Dog(Animal):\n",
    "    def sound(self):\n",
    "        print(\"Woof\")\n",
    "\n",
    "d=Dog()\n",
    "d.sound()"
   ]
  },
  {
   "cell_type": "markdown",
   "id": "7634dab4-3c98-4458-bfdf-42f2213393d3",
   "metadata": {},
   "source": [
    "Q.44  Define a base class and multiple subclasses with overridden methods"
   ]
  },
  {
   "cell_type": "markdown",
   "id": "e75e19b8-1c51-49d1-9871-2a45d5607d30",
   "metadata": {},
   "source": [
    "As in solution of Q.42"
   ]
  },
  {
   "cell_type": "markdown",
   "id": "c2988c4c-e475-45a1-b766-91dc109f5072",
   "metadata": {},
   "source": [
    "Q.45 How does polymorphism improve code readability and reusability?"
   ]
  },
  {
   "cell_type": "markdown",
   "id": "762966c6-4ca4-456f-af62-550e8829c68e",
   "metadata": {},
   "source": [
    "Polymorphism improves code readability as it depicts clear intention of the programmer and the codebase is simpler and cleaner. It improves reusability as it is extendable and flexible to code"
   ]
  },
  {
   "cell_type": "code",
   "execution_count": null,
   "id": "feb33075-e4a7-4a96-888f-383df33741cd",
   "metadata": {},
   "outputs": [],
   "source": [
    "class Shape:\n",
    "    def draw(self):\n",
    "        pass\n",
    "\n",
    "class Circle(Shape):\n",
    "    def draw(self):\n",
    "        print(\"Drawing a circle\")\n",
    "\n",
    "class Rectangle(Shape):\n",
    "    def draw(self):\n",
    "        print(\"Drawing a rectangle\")\n",
    "\n",
    "# Use polymorphism to draw any shape\n",
    "def draw_shape(shape):\n",
    "    shape.draw()\n",
    "\n",
    "# Code reusability and readability in action\n",
    "shapes = [Circle(), Rectangle()]\n",
    "for shape in shapes:\n",
    "    draw_shape(shape)  # The same function works for any shape\n"
   ]
  },
  {
   "cell_type": "markdown",
   "id": "ddcbf888-fd18-469a-b71f-6db967b2ee77",
   "metadata": {},
   "source": [
    "Q.46 describe how python supports polymorphism with duck typing"
   ]
  },
  {
   "cell_type": "code",
   "execution_count": 3,
   "id": "b927a174-e23f-4c17-a231-f2366a1bb552",
   "metadata": {},
   "outputs": [
    {
     "name": "stdout",
     "output_type": "stream",
     "text": [
      "Quack, quack!\n",
      "I'm pretending to be a duck!\n"
     ]
    }
   ],
   "source": [
    "class Duck:\n",
    "    def quack(self):\n",
    "        print(\"Quack, quack!\")\n",
    "\n",
    "class Person:\n",
    "    def quack(self):\n",
    "        print(\"I'm pretending to be a duck!\")\n",
    "\n",
    "def make_it_quack(duck):\n",
    "    duck.quack()\n",
    "\n",
    "# Both Duck and Person have a quack method\n",
    "duck = Duck()\n",
    "person = Person()\n",
    "\n",
    "# Both objects can be passed to make_it_quack\n",
    "make_it_quack(duck)   # Outputs: Quack, quack!\n",
    "make_it_quack(person) # Outputs: I'm pretending to be a duck!"
   ]
  },
  {
   "cell_type": "markdown",
   "id": "1cb8306e-3128-4736-a817-e7b5875b903f",
   "metadata": {},
   "source": [
    "Q.47 How do you achieve encapsulation in Python?"
   ]
  },
  {
   "cell_type": "code",
   "execution_count": 4,
   "id": "3c7cc68b-c517-401f-b753-2b37b341e051",
   "metadata": {},
   "outputs": [
    {
     "name": "stdout",
     "output_type": "stream",
     "text": [
      "Ankita, 16 years old is studying in standard Tenth\n"
     ]
    }
   ],
   "source": [
    "class Student:\n",
    "    def __init__(self, name, age, std):\n",
    "        self.__name=name    #private \n",
    "        self._age=age       #protected\n",
    "        self.std=std        #public\n",
    "    def display(self):\n",
    "        print(f\"{self.__name}, {self._age} years old is studying in standard {self.std}\")\n",
    "stud=Student(\"Ankita\", 16, \"Tenth\")\n",
    "stud.display()"
   ]
  },
  {
   "cell_type": "markdown",
   "id": "387e6272-7697-4b87-ae80-97c1334db70e",
   "metadata": {},
   "source": [
    "Q.48  Can encapsulation be bypassed in Python? If so, how?"
   ]
  },
  {
   "cell_type": "code",
   "execution_count": 5,
   "id": "5780e833-c549-4353-82e7-99034367e63f",
   "metadata": {},
   "outputs": [
    {
     "name": "stdout",
     "output_type": "stream",
     "text": [
      "Camry\n",
      "0\n",
      "Driving...\n",
      "100\n"
     ]
    }
   ],
   "source": [
    "class Car:\n",
    "    def __init__(self, brand, model):\n",
    "        self.brand = brand           # Public attribute\n",
    "        self._model = model          # Protected attribute\n",
    "        self.__mileage = 0           # Private attribute\n",
    "\n",
    "    def drive(self):\n",
    "        print(\"Driving...\")\n",
    "\n",
    "    def __update_mileage(self, miles):\n",
    "        self.__mileage += miles\n",
    "\n",
    "    def get_mileage(self):\n",
    "        return self.__mileage\n",
    "\n",
    "# Creating a car object\n",
    "my_car = Car(\"Toyota\", \"Camry\")\n",
    "\n",
    "# Accessing protected attribute (convention, not enforced)\n",
    "print(my_car._model)  # Output: Camry\n",
    "\n",
    "# Accessing private attribute (name mangling)\n",
    "# This is generally discouraged and not recommended\n",
    "print(my_car._Car__mileage)  # Output: 0\n",
    "\n",
    "# Calling public method\n",
    "my_car.drive()  # Output: Driving...\n",
    "\n",
    "# Calling private method (name mangling)\n",
    "# Again, discouraged and not recommended\n",
    "my_car._Car__update_mileage(100)\n",
    "print(my_car.get_mileage())  # Output: 100\n"
   ]
  },
  {
   "cell_type": "markdown",
   "id": "1dd6107c-4ea2-4198-ac4d-f24be6d1812b",
   "metadata": {},
   "source": [
    "Q.49  Implement a class Bankaccount with a private balance attribute. Include methods to deposit, withdraw,\n",
    "and check the balance."
   ]
  },
  {
   "cell_type": "code",
   "execution_count": 8,
   "id": "70b5e7eb-444a-4896-a885-7bc5c8afa3ed",
   "metadata": {},
   "outputs": [
    {
     "name": "stdout",
     "output_type": "stream",
     "text": [
      " Hello Ankita!\n"
     ]
    }
   ],
   "source": [
    "class Bankaccount:\n",
    "    def __init__(self, name, balance):\n",
    "        self.name=name\n",
    "        print(f\" Hello {self.name}!\")\n",
    "        self.__balance= balance\n",
    "        \n",
    "    def deposit(self, amount):\n",
    "        self.amount=amount\n",
    "        self.__balance+=self.amount\n",
    "        print(f\"The total balance as of now is {self.__balance}\")\n",
    "    \n",
    "    def withdraw(self, draw):\n",
    "        self.draw=draw\n",
    "        print(f\" Withdrawing amount Rs {self.draw}\")\n",
    "        self.__balance-=self.draw\n",
    "        print(f\"The total balance as of now is {self.__balance}\")\n",
    "        \n",
    "    def check_balance(self):\n",
    "        print(f\" {self.name} your account balance is {self.__balance}\")\n",
    "        \n",
    "ba=Bankaccount(\"Ankita\", 10000)"
   ]
  },
  {
   "cell_type": "code",
   "execution_count": 9,
   "id": "1be8d8b3-4ecb-4af8-909a-54d7fe40846d",
   "metadata": {},
   "outputs": [
    {
     "name": "stdout",
     "output_type": "stream",
     "text": [
      "The total balance as of now is 10500\n"
     ]
    }
   ],
   "source": [
    "ba.deposit(500)"
   ]
  },
  {
   "cell_type": "code",
   "execution_count": 10,
   "id": "67f4c544-500d-4e82-923c-b3882f56d071",
   "metadata": {},
   "outputs": [
    {
     "name": "stdout",
     "output_type": "stream",
     "text": [
      " Withdrawing amount Rs 200\n",
      "The total balance as of now is 10300\n"
     ]
    }
   ],
   "source": [
    "ba.withdraw(200)"
   ]
  },
  {
   "cell_type": "code",
   "execution_count": 11,
   "id": "6a327f78-116c-4b8f-9733-7fdcca105d50",
   "metadata": {},
   "outputs": [
    {
     "name": "stdout",
     "output_type": "stream",
     "text": [
      " Ankita your account balance is 10300\n"
     ]
    }
   ],
   "source": [
    "ba.check_balance()"
   ]
  },
  {
   "cell_type": "markdown",
   "id": "7124a58b-71b0-4584-a4df-394f81f48e6a",
   "metadata": {},
   "source": [
    "Q.50 Develop a Person class with private attributes name and email, and methods to set and get the email."
   ]
  },
  {
   "cell_type": "code",
   "execution_count": 12,
   "id": "1a2f2443-951a-4746-a078-60f6881d8c75",
   "metadata": {},
   "outputs": [
    {
     "name": "stdout",
     "output_type": "stream",
     "text": [
      "Your email is achand@gmail.com\n",
      "Your email is star@gmail.com\n"
     ]
    }
   ],
   "source": [
    "class Person:\n",
    "    def __init__(self, name, email):\n",
    "        self.__name=name\n",
    "        self.__email=email\n",
    "        \n",
    "    def set_email(self,new_email):\n",
    "        self.__email=new_email\n",
    "        \n",
    "    def get_email(self):\n",
    "        print(f\"Your email is {self.__email}\")\n",
    "\n",
    "p=Person(\"Ankita\", \"achand@gmail.com\")\n",
    "p.get_email()\n",
    "p.set_email(\"star@gmail.com\")\n",
    "p.get_email()"
   ]
  },
  {
   "cell_type": "markdown",
   "id": "a76f09eb-bb3b-47d4-972e-a53026850ab0",
   "metadata": {},
   "source": [
    "Q.51 Why is encapsulation considered a pillar of object-oriented programming (OOP)?"
   ]
  },
  {
   "cell_type": "markdown",
   "id": "89b8a6d5-7284-4b38-b6de-b716624e6075",
   "metadata": {},
   "source": [
    "Encapsulation is considered one of the foundational pillars of object-oriented programming (OOP) because it plays a critical role in how we design and structure our software. It embodies the principle of bundling data (attributes) and methods (functions or operations) that operate on the data into a single unit, known as an object, and controlling access to that data. It provides:\n",
    "1. Data Hiding\n",
    "2. Modularity\n",
    "3. Simplicity\n",
    "4. Reusability\n",
    "5. Flexibility and Maintenance\n",
    "6. Security"
   ]
  },
  {
   "cell_type": "markdown",
   "id": "49bf39f0-deb6-40a9-8fe6-4d9f58950670",
   "metadata": {},
   "source": [
    "Q.52  Create a decorator in python that adds functionality to asimple function by printing a message before and after the function execution"
   ]
  },
  {
   "cell_type": "code",
   "execution_count": 8,
   "id": "fc06fb2e-0e98-479d-b6ca-1b6f8c6daf56",
   "metadata": {},
   "outputs": [],
   "source": [
    "def decorator(func):\n",
    "    def wrapper():\n",
    "        print(\"This is before function execution\")\n",
    "        func()\n",
    "        print(\"This is after function execution\")\n",
    "    return wrapper"
   ]
  },
  {
   "cell_type": "code",
   "execution_count": 9,
   "id": "8bdde8f7-1a4e-4d39-900c-4c9003499ee8",
   "metadata": {},
   "outputs": [],
   "source": [
    "@decorator\n",
    "def hello():\n",
    "    print(\"Hello!\")"
   ]
  },
  {
   "cell_type": "code",
   "execution_count": 10,
   "id": "9f9182d9-509e-44d3-8a7f-8b496ed765f0",
   "metadata": {},
   "outputs": [
    {
     "name": "stdout",
     "output_type": "stream",
     "text": [
      "This is before function execution\n",
      "Hello!\n",
      "This is after function execution\n"
     ]
    }
   ],
   "source": [
    "hello()"
   ]
  },
  {
   "cell_type": "markdown",
   "id": "d2f5a343-920a-41fb-822a-21e75650d795",
   "metadata": {},
   "source": [
    "Q.53 Modify the decorator to accept arguments and print the function name along with the message"
   ]
  },
  {
   "cell_type": "code",
   "execution_count": 18,
   "id": "cabaf3cf-8de7-43d4-80e6-f5945e0ceb79",
   "metadata": {},
   "outputs": [],
   "source": [
    "def decorator(func):\n",
    "    def wrapper(*args, **kwargs):\n",
    "        print(\"This is before function execution\")\n",
    "        func(*args, **kwargs)\n",
    "        print(\"This is after function execution\")\n",
    "    return wrapper"
   ]
  },
  {
   "cell_type": "code",
   "execution_count": 21,
   "id": "3ea29a69-f719-4fb3-8af2-fbb399535d41",
   "metadata": {},
   "outputs": [],
   "source": [
    "@decorator\n",
    "def hello(name):\n",
    "    print(f\"Hello! {name}\")"
   ]
  },
  {
   "cell_type": "code",
   "execution_count": 22,
   "id": "943d0dce-b937-4544-995a-567b9a8ea7b1",
   "metadata": {},
   "outputs": [
    {
     "name": "stdout",
     "output_type": "stream",
     "text": [
      "This is before function execution\n",
      "Hello! Ankita\n",
      "This is after function execution\n"
     ]
    }
   ],
   "source": [
    "hello(\"Ankita\")"
   ]
  },
  {
   "cell_type": "markdown",
   "id": "c093fc04-e83a-4c45-90e7-499b86f223fc",
   "metadata": {},
   "source": [
    "Q.54 Create two decorators and apply them to a single function.Ensure that they execute in order of application."
   ]
  },
  {
   "cell_type": "code",
   "execution_count": 1,
   "id": "cabeb5a2-d684-4bb0-9307-d0d372bcbf80",
   "metadata": {},
   "outputs": [],
   "source": [
    "def decor1(func):\n",
    "    def wrapper(*args, **kwargs):\n",
    "        print(\"Before Function decorator 1 \")\n",
    "        res=func(*args, **kwargs)\n",
    "        print(\"After function decorator 1\")\n",
    "        return res\n",
    "    return wrapper\n",
    "\n",
    "def decor2(func):\n",
    "    def wrapper(*args, **kwargs):\n",
    "        print(\"Before Function decorator 2 \")\n",
    "        res=func(*args, **kwargs)\n",
    "        print(\"After function decorator 2\")\n",
    "        return res\n",
    "    return wrapper"
   ]
  },
  {
   "cell_type": "code",
   "execution_count": 2,
   "id": "ab2d286f-1927-4201-ab3e-5c11967c7e4b",
   "metadata": {},
   "outputs": [],
   "source": [
    "@decor1\n",
    "@decor2\n",
    "def hello(name):\n",
    "    print(f\"Hello! {name}\")"
   ]
  },
  {
   "cell_type": "code",
   "execution_count": 3,
   "id": "73b07443-f2a3-413c-b76a-2d0878663cf2",
   "metadata": {},
   "outputs": [
    {
     "name": "stdout",
     "output_type": "stream",
     "text": [
      "Before Function decorator 1 \n",
      "Before Function decorator 2 \n",
      "Hello! Deepak\n",
      "After function decorator 2\n",
      "After function decorator 1\n"
     ]
    }
   ],
   "source": [
    "hello(\"Deepak\")"
   ]
  },
  {
   "cell_type": "markdown",
   "id": "e078bed6-ca82-4532-ab09-ec2bb0f0638b",
   "metadata": {},
   "source": [
    "Q.55 Modify the decorator to accept and pass function arguments to the wrapped function"
   ]
  },
  {
   "cell_type": "code",
   "execution_count": 4,
   "id": "967a6875-9f83-44fa-aa9c-53c7069a0445",
   "metadata": {},
   "outputs": [
    {
     "name": "stdout",
     "output_type": "stream",
     "text": [
      "This is before function execution\n",
      "Hello! World\n",
      "This is after function execution\n"
     ]
    }
   ],
   "source": [
    "def decor(func):\n",
    "    def wrapper(*args, **kwargs):\n",
    "        print(\"This is before function execution\")\n",
    "        func(*args, **kwargs)\n",
    "        print(\"This is after function execution\")\n",
    "    return wrapper\n",
    "\n",
    "@decor\n",
    "def hello(name):\n",
    "    print(f\"Hello! {name}\")\n",
    "\n",
    "hello(\"World\")"
   ]
  },
  {
   "cell_type": "markdown",
   "id": "a3997372-4261-4e36-b9c4-2c633c149952",
   "metadata": {},
   "source": [
    "Q.56 Create a decorator that preserves metadata of the original function "
   ]
  },
  {
   "cell_type": "code",
   "execution_count": 5,
   "id": "9af73328-3d99-4f29-b21f-cadc9f3ee02a",
   "metadata": {},
   "outputs": [
    {
     "name": "stdout",
     "output_type": "stream",
     "text": [
      "Function name: example_function\n",
      "Function docstring: \n",
      "    This is an example function.\n",
      "    \n"
     ]
    }
   ],
   "source": [
    "import functools\n",
    "\n",
    "def decorator(func):\n",
    "    @functools.wraps(func)  # Preserve metadata of the original function\n",
    "    def wrapper(*args, **kwargs):\n",
    "        print(\"Decorator is executing\")\n",
    "        result = func(*args, **kwargs)  # Call the original function\n",
    "        print(\"Decorator execution is completed\")\n",
    "        return result\n",
    "    return wrapper\n",
    "\n",
    "@decorator\n",
    "def example_function(arg1, arg2):\n",
    "    \"\"\"\n",
    "    This is an example function.\n",
    "    \"\"\"\n",
    "    print(f\"Arguments passed to the function: {arg1}, {arg2}\")\n",
    "\n",
    "# Print metadata of the decorated function\n",
    "print(\"Function name:\", example_function.__name__)\n",
    "print(\"Function docstring:\", example_function.__doc__)\n"
   ]
  },
  {
   "cell_type": "markdown",
   "id": "c5f053ec-67cd-4f39-bcfd-7fbc14f688d4",
   "metadata": {},
   "source": [
    "Q.57 Create a python class 'Calculator' with a static method 'add' that takes in two method and return their sum."
   ]
  },
  {
   "cell_type": "code",
   "execution_count": 10,
   "id": "e0992dfe-1d89-485c-b38c-a385f61996f7",
   "metadata": {},
   "outputs": [
    {
     "data": {
      "text/plain": [
       "11"
      ]
     },
     "execution_count": 10,
     "metadata": {},
     "output_type": "execute_result"
    }
   ],
   "source": [
    "class Calculator:\n",
    "    \n",
    "    @staticmethod\n",
    "    def add(x, y):\n",
    "        return x+y\n",
    "    \n",
    "Calculator.add(4,7)"
   ]
  },
  {
   "cell_type": "markdown",
   "id": "6472dcbf-3ccf-4316-a5a3-326ccaa61d61",
   "metadata": {},
   "source": [
    "Q.58 create a python class 'Employee' with a python method 'get_employee_count' that returns total number of employees created."
   ]
  },
  {
   "cell_type": "code",
   "execution_count": 11,
   "id": "e1aee7ac-ecc0-468f-902b-9a5f99b0c06e",
   "metadata": {},
   "outputs": [],
   "source": [
    "class Employee:\n",
    "    count=0\n",
    "    def __init__(self, name):\n",
    "        self.name=name\n",
    "        Employee.count+=1\n",
    "        \n",
    "    @classmethod\n",
    "    def get_employee_count(cls):\n",
    "        return Employee.count\n",
    "        "
   ]
  },
  {
   "cell_type": "code",
   "execution_count": 12,
   "id": "087330e2-72ff-45c3-a60a-570bcf7c8f83",
   "metadata": {},
   "outputs": [
    {
     "data": {
      "text/plain": [
       "3"
      ]
     },
     "execution_count": 12,
     "metadata": {},
     "output_type": "execute_result"
    }
   ],
   "source": [
    "emp1=Employee(\"Ankita\")\n",
    "emp2=Employee(\"Deepak\")\n",
    "emp3=Employee(\"Asmita\")\n",
    "Employee.get_employee_count()"
   ]
  },
  {
   "cell_type": "markdown",
   "id": "ee68613a-6f6b-488d-9944-f3f5c23a0e55",
   "metadata": {},
   "source": [
    "Q.59 Create a python class 'StringFormatter' with a static method 'reverse_string'that takes a string as input and returns the reversed string."
   ]
  },
  {
   "cell_type": "code",
   "execution_count": 13,
   "id": "8132f975-3b74-4adc-91ec-f2b9df50415d",
   "metadata": {},
   "outputs": [
    {
     "data": {
      "text/plain": [
       "'ecneicS ataD'"
      ]
     },
     "execution_count": 13,
     "metadata": {},
     "output_type": "execute_result"
    }
   ],
   "source": [
    "class StringFormatter:\n",
    "    @staticmethod\n",
    "    def reverse_string(str):\n",
    "        return str[::-1]\n",
    "\n",
    "StringFormatter.reverse_string(\"Data Science\")"
   ]
  },
  {
   "cell_type": "markdown",
   "id": "083d2494-de80-417a-9b87-b215fb5a41de",
   "metadata": {},
   "source": [
    "Q.60 Create a python class Circle with a class method calculate_area that calculates area of a circle given its radius."
   ]
  },
  {
   "cell_type": "code",
   "execution_count": 16,
   "id": "e1e26a9c-1212-461a-b422-93f926c06a67",
   "metadata": {},
   "outputs": [
    {
     "data": {
      "text/plain": [
       "78.5"
      ]
     },
     "execution_count": 16,
     "metadata": {},
     "output_type": "execute_result"
    }
   ],
   "source": [
    "class Circle:\n",
    "    @classmethod\n",
    "    def calculate_area(cls, radius):\n",
    "        return 3.14*(radius**2)\n",
    "    \n",
    "c=Circle()\n",
    "c.calculate_area(5)"
   ]
  },
  {
   "cell_type": "markdown",
   "id": "f734c646-26f0-47cc-9f55-d59701e6bc3d",
   "metadata": {},
   "source": [
    "Q.61 Create a python class Tempconvertor with a static method celsius_to_farenheit to convert temperature from celsius to farenheit."
   ]
  },
  {
   "cell_type": "code",
   "execution_count": 17,
   "id": "1cdac0ac-e579-415d-8479-271238068446",
   "metadata": {},
   "outputs": [
    {
     "data": {
      "text/plain": [
       "100.4"
      ]
     },
     "execution_count": 17,
     "metadata": {},
     "output_type": "execute_result"
    }
   ],
   "source": [
    "class Tempconvertor:\n",
    "    @staticmethod\n",
    "    def celsius_to_farenheit(cel):\n",
    "        return cel*(9/5)+32\n",
    "    \n",
    "Tempconvertor.celsius_to_farenheit(38)"
   ]
  },
  {
   "cell_type": "markdown",
   "id": "f7363fe5-aca4-45e3-89db-633ba1dc6e42",
   "metadata": {},
   "source": [
    "Q.62 What is the purpose of __str__() method in python classes? give an example."
   ]
  },
  {
   "cell_type": "code",
   "execution_count": 19,
   "id": "b256935c-7b76-4b53-be43-2d0e6c26ce76",
   "metadata": {},
   "outputs": [
    {
     "name": "stdout",
     "output_type": "stream",
     "text": [
      "Person(name=Ankita, age=32)\n"
     ]
    }
   ],
   "source": [
    "class Person:\n",
    "    def __init__(self, name, age):\n",
    "        self.name = name\n",
    "        self.age = age\n",
    "\n",
    "    def __str__(self):\n",
    "        return f\"Person(name={self.name}, age={self.age})\"\n",
    "\n",
    "# Creating an instance of the Person class\n",
    "person = Person(\"Ankita\", 32)\n",
    "\n",
    "# Printing the object\n",
    "print(person)"
   ]
  },
  {
   "cell_type": "markdown",
   "id": "0d014b9a-d17d-4a9a-bc40-d978a2d372fa",
   "metadata": {},
   "source": [
    "Q.63 How does __len__() method work in python?Provide an example."
   ]
  },
  {
   "cell_type": "code",
   "execution_count": 23,
   "id": "0124b7f1-a8ae-4ef0-a2bc-78182f650c5b",
   "metadata": {},
   "outputs": [
    {
     "name": "stdout",
     "output_type": "stream",
     "text": [
      "The bookshelf contains 3 books.\n"
     ]
    }
   ],
   "source": [
    "class BookShelf:\n",
    "    def __init__(self):\n",
    "        self.books = []\n",
    "\n",
    "    def add_book(self, book):\n",
    "        self.books.append(book)\n",
    "\n",
    "    def __len__(self):\n",
    "        return len(self.books)\n",
    "\n",
    "# Create a bookshelf and add some books\n",
    "shelf = BookShelf()\n",
    "shelf.add_book(\"Python Programming\")\n",
    "shelf.add_book(\"Learning Machine Learning\")\n",
    "shelf.add_book(\"Data Structures and Algorithms\")\n",
    "\n",
    "# Use len() to get the number of books on the shelf\n",
    "print(f\"The bookshelf contains {shelf.__len__()} books.\")"
   ]
  },
  {
   "cell_type": "markdown",
   "id": "b7b3b9d2-2f73-4949-828f-8a3e9bb55cc3",
   "metadata": {},
   "source": [
    "Q.64 Explain the usage of __add__() method in python classes. Provide an example."
   ]
  },
  {
   "cell_type": "code",
   "execution_count": 24,
   "id": "ef53fc4e-8473-4498-a001-ed4edba0869a",
   "metadata": {},
   "outputs": [
    {
     "name": "stdout",
     "output_type": "stream",
     "text": [
      "Result of adding 1 + 2i and 3 + 4i is 4 + 6i\n"
     ]
    }
   ],
   "source": [
    "class ComplexNumber:\n",
    "    def __init__(self, real, imag):\n",
    "        self.real = real\n",
    "        self.imag = imag\n",
    "\n",
    "    def __add__(self, other):\n",
    "        return ComplexNumber(self.real + other.real, self.imag + other.imag)\n",
    "\n",
    "    def __str__(self):\n",
    "        return f\"{self.real} + {self.imag}i\"\n",
    "\n",
    "# Creating two complex numbers\n",
    "c1 = ComplexNumber(1, 2)\n",
    "c2 = ComplexNumber(3, 4)\n",
    "\n",
    "# Adding the two complex numbers\n",
    "result = c1 + c2\n",
    "\n",
    "# Displaying the result\n",
    "print(f\"Result of adding {c1} and {c2} is {result}\")"
   ]
  },
  {
   "cell_type": "markdown",
   "id": "773e17d8-b0e7-4763-989e-d02a7d1ecfbe",
   "metadata": {},
   "source": [
    "Q.65 What is the purpose of__getitem__() method in python? Provide an example."
   ]
  },
  {
   "cell_type": "code",
   "execution_count": 25,
   "id": "6db22ffc-72cd-43fc-a183-1a119554c8bd",
   "metadata": {},
   "outputs": [
    {
     "name": "stdout",
     "output_type": "stream",
     "text": [
      "0\n",
      "4\n",
      "16\n",
      "index out of range\n"
     ]
    }
   ],
   "source": [
    "class Squares:\n",
    "    def __init__(self, length):\n",
    "        self.length = length\n",
    "    \n",
    "    def __getitem__(self, index):\n",
    "        if index >= self.length or index < 0:\n",
    "            raise IndexError('index out of range')\n",
    "        return index ** 2\n",
    "\n",
    "# Creating an instance of Squares with length 5\n",
    "squares = Squares(5)\n",
    "\n",
    "# Accessing individual items using the [] operator\n",
    "print(squares[0])  # Output: 0\n",
    "print(squares[2])  # Output: 4\n",
    "print(squares[4])  # Output: 16\n",
    "\n",
    "# Trying to access an item out of bounds\n",
    "try:\n",
    "    print(squares[5])\n",
    "except IndexError as e:\n",
    "    print(e)  # Output: index out of range\n"
   ]
  },
  {
   "cell_type": "markdown",
   "id": "a35d1f8b-0747-4a0a-b15c-4121541a05e5",
   "metadata": {},
   "source": [
    "Q.66 Explain the usage of __iter__() and __next__() methods in python. Provide an example using iterators."
   ]
  },
  {
   "cell_type": "code",
   "execution_count": 32,
   "id": "4f667459-85b4-4eb4-9f5b-ab948971d56d",
   "metadata": {},
   "outputs": [
    {
     "name": "stdout",
     "output_type": "stream",
     "text": [
      "0 1 1 2 3 5 8 13 21 34 "
     ]
    }
   ],
   "source": [
    "class Fibonacci:\n",
    "    def __init__(self):\n",
    "        self.a, self.b = 0, 1  # Initial two numbers in the sequence\n",
    "\n",
    "    def __iter__(self):\n",
    "        return self  # An iterator must return an iterator object. Here, it's the instance itself.\n",
    "\n",
    "    def __next__(self):\n",
    "        fib = self.a\n",
    "        if fib > 50:  # Stopping condition\n",
    "            raise StopIteration  # Signals the end of the iteration\n",
    "        self.a, self.b = self.b, self.a + self.b\n",
    "        return fib\n",
    "\n",
    "# Using the Fibonacci iterator\n",
    "fib_sequence = Fibonacci()\n",
    "\n",
    "for num in fib_sequence:\n",
    "    print(num, end=\" \")"
   ]
  },
  {
   "cell_type": "markdown",
   "id": "d1a2abac-ddb6-412d-adde-510dcd29cc75",
   "metadata": {},
   "source": [
    "Q.67 What is the purpose of getter method in python? Provide an example demonstrating the use of getter method using property decorators."
   ]
  },
  {
   "cell_type": "code",
   "execution_count": 37,
   "id": "4c4290a3-b91d-474c-a28a-1cc1e38e9de5",
   "metadata": {},
   "outputs": [],
   "source": [
    "class Employee:\n",
    "    def __init__(self, name, income):\n",
    "        self.__name = name\n",
    "        self.__income = income\n",
    "        \n",
    "    @property \n",
    "    def access_income(self):\n",
    "        return self.__income\n",
    "    \n",
    "    @access_income.getter\n",
    "    def get_income(self):\n",
    "        return self.__income"
   ]
  },
  {
   "cell_type": "code",
   "execution_count": 38,
   "id": "56ab5971-626c-4a17-a2f4-19197748b85a",
   "metadata": {},
   "outputs": [
    {
     "data": {
      "text/plain": [
       "100000"
      ]
     },
     "execution_count": 38,
     "metadata": {},
     "output_type": "execute_result"
    }
   ],
   "source": [
    "emp=Employee(\"Ankita\", 100000)\n",
    "emp.get_income"
   ]
  },
  {
   "cell_type": "markdown",
   "id": "882d0bec-232c-4599-b327-d12dc9287380",
   "metadata": {},
   "source": [
    "Q.68 Explain the role of setter methods in python. Demonstrate how to use a setter method to modify the class attribute using property decorator."
   ]
  },
  {
   "cell_type": "code",
   "execution_count": 35,
   "id": "b78be6a4-911a-486d-9bf2-ebb1c73b7b02",
   "metadata": {},
   "outputs": [
    {
     "data": {
      "text/plain": [
       "100000"
      ]
     },
     "execution_count": 35,
     "metadata": {},
     "output_type": "execute_result"
    }
   ],
   "source": [
    "class Employee:\n",
    "    def __init__(self, name, income):\n",
    "        self.__name = name\n",
    "        self.__income = income\n",
    "        \n",
    "    @property #it will make accesS_price as attribute of the class\n",
    "    def access_income(self):\n",
    "        return self.__income\n",
    "    \n",
    "    @access_income.setter\n",
    "    def income_set(self, income_new):\n",
    "        self.__income = income_new\n",
    "\n",
    "emp=Employee(\"Ankita\",100000)\n",
    "emp.access_income"
   ]
  },
  {
   "cell_type": "code",
   "execution_count": 36,
   "id": "23570449-5447-4a0e-a9fd-3ec155bebe1a",
   "metadata": {},
   "outputs": [
    {
     "data": {
      "text/plain": [
       "200000"
      ]
     },
     "execution_count": 36,
     "metadata": {},
     "output_type": "execute_result"
    }
   ],
   "source": [
    "emp.income_set=200000\n",
    "emp.access_income"
   ]
  },
  {
   "cell_type": "markdown",
   "id": "b064e072-58b1-47cf-8c6a-ee39b8abcffc",
   "metadata": {},
   "source": [
    "Q.69 What is the purpose of @property decorator in python? provide an example illustrating it usage."
   ]
  },
  {
   "cell_type": "code",
   "execution_count": 33,
   "id": "b20fdbff-27b8-41ce-9b06-11fdd688c712",
   "metadata": {},
   "outputs": [
    {
     "data": {
      "text/plain": [
       "100000"
      ]
     },
     "execution_count": 33,
     "metadata": {},
     "output_type": "execute_result"
    }
   ],
   "source": [
    "class Employee:\n",
    "    def __init__(self, name, income):\n",
    "        self.__name = name\n",
    "        self.__income = income\n",
    "        \n",
    "    @property #it will make accesS_price as attribute of the class\n",
    "    def access_income(self):\n",
    "        return self.__income\n",
    "\n",
    "emp=Employee(\"Ankita\",100000)\n",
    "emp.access_income"
   ]
  },
  {
   "cell_type": "markdown",
   "id": "0eeb2282-562c-435a-be63-462e18efd584",
   "metadata": {},
   "source": [
    "Q.70 Explain the use of deleter decorator in python property decorators.Provide a code example demonstrating its application."
   ]
  },
  {
   "cell_type": "code",
   "execution_count": 2,
   "id": "fa7f453c-87d6-491e-9641-32e97b76fadd",
   "metadata": {},
   "outputs": [],
   "source": [
    "class Student:\n",
    "    def __init__(self, name, price):\n",
    "        self.__name = name\n",
    "        self.__price = price\n",
    "        \n",
    "    @property #it will make accesS_price as attribute of the class\n",
    "    def access_price(self):\n",
    "        return self.__price\n",
    "    \n",
    "    @access_price.setter\n",
    "    def price_set(self, price_new):\n",
    "        self.__price = price_new\n",
    "    \n",
    "    @access_price.deleter\n",
    "    def del_price(self):\n",
    "        del self.__price"
   ]
  },
  {
   "cell_type": "code",
   "execution_count": 3,
   "id": "4dd05607-4937-42e7-a13f-456c5f2419a1",
   "metadata": {},
   "outputs": [],
   "source": [
    "stud = Student(\"Ankita\", 2000)"
   ]
  },
  {
   "cell_type": "code",
   "execution_count": 4,
   "id": "c3750f01-16dc-4c90-9466-ed67eec5df7d",
   "metadata": {},
   "outputs": [
    {
     "data": {
      "text/plain": [
       "2000"
      ]
     },
     "execution_count": 4,
     "metadata": {},
     "output_type": "execute_result"
    }
   ],
   "source": [
    "stud.access_price"
   ]
  },
  {
   "cell_type": "code",
   "execution_count": 5,
   "id": "6ed2b9e3-d685-4b28-ad18-2b245e2a4bda",
   "metadata": {},
   "outputs": [
    {
     "data": {
      "text/plain": [
       "3000"
      ]
     },
     "execution_count": 5,
     "metadata": {},
     "output_type": "execute_result"
    }
   ],
   "source": [
    "stud.price_set=3000\n",
    "stud.access_price"
   ]
  },
  {
   "cell_type": "code",
   "execution_count": 6,
   "id": "8ce8ca74-76c7-40ac-9141-baad788beb13",
   "metadata": {},
   "outputs": [],
   "source": [
    "del stud.del_price"
   ]
  },
  {
   "cell_type": "code",
   "execution_count": 7,
   "id": "9fc2790c-9ddf-49d9-875b-227cbcd40764",
   "metadata": {},
   "outputs": [
    {
     "ename": "AttributeError",
     "evalue": "'Student' object has no attribute '_Student__price'",
     "output_type": "error",
     "traceback": [
      "\u001b[0;31m---------------------------------------------------------------------------\u001b[0m",
      "\u001b[0;31mAttributeError\u001b[0m                            Traceback (most recent call last)",
      "Cell \u001b[0;32mIn[7], line 1\u001b[0m\n\u001b[0;32m----> 1\u001b[0m \u001b[43mstud\u001b[49m\u001b[38;5;241;43m.\u001b[39;49m\u001b[43maccess_price\u001b[49m\n",
      "Cell \u001b[0;32mIn[2], line 8\u001b[0m, in \u001b[0;36mStudent.access_price\u001b[0;34m(self)\u001b[0m\n\u001b[1;32m      6\u001b[0m \u001b[38;5;129m@property\u001b[39m \u001b[38;5;66;03m#it will make accesS_price as attribute of the class\u001b[39;00m\n\u001b[1;32m      7\u001b[0m \u001b[38;5;28;01mdef\u001b[39;00m \u001b[38;5;21maccess_price\u001b[39m(\u001b[38;5;28mself\u001b[39m):\n\u001b[0;32m----> 8\u001b[0m     \u001b[38;5;28;01mreturn\u001b[39;00m \u001b[38;5;28;43mself\u001b[39;49m\u001b[38;5;241;43m.\u001b[39;49m\u001b[43m__price\u001b[49m\n",
      "\u001b[0;31mAttributeError\u001b[0m: 'Student' object has no attribute '_Student__price'"
     ]
    }
   ],
   "source": [
    "stud.access_price"
   ]
  },
  {
   "cell_type": "markdown",
   "id": "1a41f37e-397b-44a6-a3f3-abdde191549b",
   "metadata": {},
   "source": [
    "Q.71 How does encapsulation relate to property decorators in python? Provide an example showcasing encapsulation using property decorators."
   ]
  },
  {
   "cell_type": "markdown",
   "id": "ce6d451c-6dbd-4f43-8f9d-21c7c2ed8020",
   "metadata": {},
   "source": [
    "Encapsulation and property decorators are closely related concepts in Python, as property decorators provide a mechanism for implementing encapsulation in Python classes.\n",
    "\n",
    "Encapsulation is the concept of bundling the data (attributes) and methods (functions) that operate on the data into a single unit, typically a class. The key idea behind encapsulation is to hide the internal state of an object and to restrict direct access to it from outside the class. Instead, access to the object's attributes is controlled through methods, which allows for better control over how data is accessed and modified, and enables the implementation of validation, error checking, and other behaviors.\n",
    "\n",
    "Property decorators in Python play a crucial role in encapsulation by allowing developers to define properties with getter, setter, and deleter methods, which control how attributes are accessed, modified, and deleted from outside the class."
   ]
  },
  {
   "cell_type": "code",
   "execution_count": 8,
   "id": "29243805-b258-4695-9a40-4350fe80c285",
   "metadata": {},
   "outputs": [
    {
     "data": {
      "text/plain": [
       "1000"
      ]
     },
     "execution_count": 8,
     "metadata": {},
     "output_type": "execute_result"
    }
   ],
   "source": [
    "class Student:\n",
    "    def __init__(self, name, price):\n",
    "        self.__name = name\n",
    "        self.__price = price\n",
    "        \n",
    "    @property #it will make accesS_price as attribute of the class\n",
    "    def access_price(self):\n",
    "        return self.__price\n",
    "    \n",
    "std=Student(\"Ankita\", 1000)\n",
    "std.access_price"
   ]
  }
 ],
 "metadata": {
  "kernelspec": {
   "display_name": "Python 3 (ipykernel)",
   "language": "python",
   "name": "python3"
  },
  "language_info": {
   "codemirror_mode": {
    "name": "ipython",
    "version": 3
   },
   "file_extension": ".py",
   "mimetype": "text/x-python",
   "name": "python",
   "nbconvert_exporter": "python",
   "pygments_lexer": "ipython3",
   "version": "3.10.8"
  }
 },
 "nbformat": 4,
 "nbformat_minor": 5
}
