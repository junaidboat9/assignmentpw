{
  "nbformat": 4,
  "nbformat_minor": 0,
  "metadata": {
    "colab": {
      "provenance": []
    },
    "kernelspec": {
      "name": "python3",
      "display_name": "Python 3"
    },
    "language_info": {
      "name": "python"
    }
  },
  "cells": [
    {
      "cell_type": "code",
      "execution_count": null,
      "metadata": {
        "id": "1skGUlbmczM8"
      },
      "outputs": [],
      "source": [
        "#Question 1"
      ]
    },
    {
      "cell_type": "code",
      "source": [
        "'''\n",
        "The python keywords have the special meaning in the python programming language.\n",
        " The keyword are cannot be use as the variable name because the keywords are predifined\n",
        " and have special meaning in the python programming language '''\n",
        ""
      ],
      "metadata": {
        "id": "aPc9-VV5c9Qb"
      },
      "execution_count": null,
      "outputs": []
    },
    {
      "cell_type": "code",
      "source": [
        "#the keywords in python are below\n",
        "import keyword\n",
        "keyword.kwlist"
      ],
      "metadata": {
        "colab": {
          "base_uri": "https://localhost:8080/"
        },
        "id": "p0YRotawc9NC",
        "outputId": "cf9a8af2-f3e9-472e-d823-b233a25ae182"
      },
      "execution_count": 5,
      "outputs": [
        {
          "output_type": "execute_result",
          "data": {
            "text/plain": [
              "['False',\n",
              " 'None',\n",
              " 'True',\n",
              " 'and',\n",
              " 'as',\n",
              " 'assert',\n",
              " 'async',\n",
              " 'await',\n",
              " 'break',\n",
              " 'class',\n",
              " 'continue',\n",
              " 'def',\n",
              " 'del',\n",
              " 'elif',\n",
              " 'else',\n",
              " 'except',\n",
              " 'finally',\n",
              " 'for',\n",
              " 'from',\n",
              " 'global',\n",
              " 'if',\n",
              " 'import',\n",
              " 'in',\n",
              " 'is',\n",
              " 'lambda',\n",
              " 'nonlocal',\n",
              " 'not',\n",
              " 'or',\n",
              " 'pass',\n",
              " 'raise',\n",
              " 'return',\n",
              " 'try',\n",
              " 'while',\n",
              " 'with',\n",
              " 'yield']"
            ]
          },
          "metadata": {},
          "execution_count": 5
        }
      ]
    },
    {
      "cell_type": "code",
      "source": [
        "a=10\n",
        "b= 20"
      ],
      "metadata": {
        "id": "3KmJuWhqgjR9"
      },
      "execution_count": 6,
      "outputs": []
    },
    {
      "cell_type": "code",
      "source": [
        "if(a<b):\n",
        "  print(\"The second number is greter\" , b)\n",
        "elif(a==b):\n",
        "  print(\"Numbers are equal\")\n",
        "else:\n",
        "  print(\"the a is greater\")"
      ],
      "metadata": {
        "colab": {
          "base_uri": "https://localhost:8080/"
        },
        "id": "R3Ex0IhLc9KK",
        "outputId": "bd5fec20-0469-48f3-a341-c3714e9179ee"
      },
      "execution_count": 7,
      "outputs": [
        {
          "output_type": "stream",
          "name": "stdout",
          "text": [
            "The second number is greter 20\n"
          ]
        }
      ]
    },
    {
      "cell_type": "code",
      "source": [
        "Sports=['Cricket','Badminton','Hockey','Volleywoll']"
      ],
      "metadata": {
        "id": "aVzLde1oc9HU"
      },
      "execution_count": 8,
      "outputs": []
    },
    {
      "cell_type": "code",
      "source": [
        "for sport in Sports:\n",
        "  print(sport)"
      ],
      "metadata": {
        "colab": {
          "base_uri": "https://localhost:8080/"
        },
        "id": "Ae7zLS_9c9E7",
        "outputId": "77a77604-ae4c-4a6c-9581-2662fba147df"
      },
      "execution_count": 9,
      "outputs": [
        {
          "output_type": "stream",
          "name": "stdout",
          "text": [
            "Cricket\n",
            "Badminton\n",
            "Hockey\n",
            "Volleywoll\n"
          ]
        }
      ]
    },
    {
      "cell_type": "code",
      "source": [
        "num=0\n",
        "while num<10:\n",
        "  print(num)\n",
        "  num+=1"
      ],
      "metadata": {
        "colab": {
          "base_uri": "https://localhost:8080/"
        },
        "id": "TWfdGNx0c9CL",
        "outputId": "75498977-791d-47d5-a3c4-f498af70a1ce"
      },
      "execution_count": 10,
      "outputs": [
        {
          "output_type": "stream",
          "name": "stdout",
          "text": [
            "0\n",
            "1\n",
            "2\n",
            "3\n",
            "4\n",
            "5\n",
            "6\n",
            "7\n",
            "8\n",
            "9\n"
          ]
        }
      ]
    },
    {
      "cell_type": "code",
      "source": [
        "# we cover the if,elif,else,for,while"
      ],
      "metadata": {
        "id": "bVjMXgnFc8_i"
      },
      "execution_count": null,
      "outputs": []
    },
    {
      "cell_type": "code",
      "source": [
        "#Question 2"
      ],
      "metadata": {
        "id": "F0UNI5DJc89N"
      },
      "execution_count": null,
      "outputs": []
    },
    {
      "cell_type": "code",
      "source": [
        "'''\n",
        "identifiers can be a combination of uppercase,lowercase, digits or an underscore\n",
        "In python identifiers cannot start with numbers\n",
        "Special symbol cannot be used in the identifiers like !,@,$ \\\n",
        "Identifiers cannot be python keywords\n",
        "'''"
      ],
      "metadata": {
        "id": "JRfMEnuXqGZ0"
      },
      "execution_count": null,
      "outputs": []
    },
    {
      "cell_type": "code",
      "source": [
        "num = 10\n",
        "num_float = 12.6\n",
        "str_1 =\"hlew world\""
      ],
      "metadata": {
        "id": "Whd3AnO5qGWV"
      },
      "execution_count": 12,
      "outputs": []
    },
    {
      "cell_type": "code",
      "source": [
        "#Question 3"
      ],
      "metadata": {
        "id": "UAiJKAfsqGUf"
      },
      "execution_count": 13,
      "outputs": []
    },
    {
      "cell_type": "code",
      "source": [
        "'''\n",
        "Comments in python are not executable peice of code.Comments is used to explain\n",
        "code and make code more readeable\n",
        "In python basically there are three types of comments\n",
        "1) Single line comment is used to comments single line we need to use #\n",
        "2) multi line comments is used to comment multiple lines using (''',''') at the starting anf the ending\n",
        "3) Inline comments are placed in the same line where code is present to explain that part of code\n",
        "'''\n",
        "#single line comment\n",
        "'''\n",
        "multi line\n",
        "comment\n",
        "'''\n",
        "n= 56 # n is store integer type of data"
      ],
      "metadata": {
        "id": "y1ZphhFyqGRV"
      },
      "execution_count": null,
      "outputs": []
    },
    {
      "cell_type": "code",
      "source": [
        "#Question 4"
      ],
      "metadata": {
        "id": "YTJBvRPyqGOu"
      },
      "execution_count": 1,
      "outputs": []
    },
    {
      "cell_type": "code",
      "source": [
        "'''\n",
        "The proper indention used to make a program more rediable\n",
        "In python the indention is very important\n",
        "'''"
      ],
      "metadata": {
        "colab": {
          "base_uri": "https://localhost:8080/",
          "height": 35
        },
        "id": "m5GFXC5_qGMd",
        "outputId": "abbae7e7-38d1-4b87-f2d0-65a3eebd7145"
      },
      "execution_count": 2,
      "outputs": [
        {
          "output_type": "execute_result",
          "data": {
            "text/plain": [
              "'\\nThe proper indention used to make a program more rediable\\nIn python the indention is very important \\n'"
            ],
            "application/vnd.google.colaboratory.intrinsic+json": {
              "type": "string"
            }
          },
          "metadata": {},
          "execution_count": 2
        }
      ]
    },
    {
      "cell_type": "code",
      "source": [
        "#Question 5"
      ],
      "metadata": {
        "id": "2kyxqg-kqHGK"
      },
      "execution_count": 3,
      "outputs": []
    },
    {
      "cell_type": "code",
      "source": [
        "'''\n",
        "Incorrect indention gives an error in python\n",
        "The program should be in proper indendation otherwise code give an error\n",
        "'''\n"
      ],
      "metadata": {
        "colab": {
          "base_uri": "https://localhost:8080/",
          "height": 35
        },
        "id": "P_x-ObNgqHCy",
        "outputId": "1f049cf0-10c5-4032-e3bd-75039dbfac70"
      },
      "execution_count": 5,
      "outputs": [
        {
          "output_type": "execute_result",
          "data": {
            "text/plain": [
              "'\\nIncorrect indention gives an error in python\\nThe program should be in proper indendation otherwise code give an error\\n'"
            ],
            "application/vnd.google.colaboratory.intrinsic+json": {
              "type": "string"
            }
          },
          "metadata": {},
          "execution_count": 5
        }
      ]
    },
    {
      "cell_type": "code",
      "source": [
        "#example\n",
        "if(10==10):\n",
        "  print(\"both number is equal\")\n",
        "else:\n",
        "  print(\"not equal\")"
      ],
      "metadata": {
        "colab": {
          "base_uri": "https://localhost:8080/"
        },
        "id": "tXFIzAsaqHAJ",
        "outputId": "2df91e81-cd7a-4555-9653-08226d7f5a75"
      },
      "execution_count": 6,
      "outputs": [
        {
          "output_type": "stream",
          "name": "stdout",
          "text": [
            "both number is equal\n"
          ]
        }
      ]
    },
    {
      "cell_type": "code",
      "source": [
        "#example of wrong intendation\n",
        "if(10==10):\n",
        "print(\"both number is equal\")\n",
        "else:\n",
        "print(\"not equal\")"
      ],
      "metadata": {
        "id": "lxMJFALMGlcZ"
      },
      "execution_count": null,
      "outputs": []
    },
    {
      "cell_type": "code",
      "source": [
        "#Question 6"
      ],
      "metadata": {
        "id": "rS78DSdKG6QC"
      },
      "execution_count": 8,
      "outputs": []
    },
    {
      "cell_type": "code",
      "source": [
        "'''\n",
        "In expression basically the any operation is done by the interpreter is expression\n",
        "In statement we just we state aur give command that task has to be done\n",
        "'''\n"
      ],
      "metadata": {
        "id": "T3pk3anWG6E4"
      },
      "execution_count": null,
      "outputs": []
    },
    {
      "cell_type": "code",
      "source": [
        "#example of expression\n",
        "20+10"
      ],
      "metadata": {
        "colab": {
          "base_uri": "https://localhost:8080/"
        },
        "id": "z12SKpioG6Bg",
        "outputId": "aa65014b-a754-40ff-92f0-f2848ef11e2c"
      },
      "execution_count": 9,
      "outputs": [
        {
          "output_type": "execute_result",
          "data": {
            "text/plain": [
              "30"
            ]
          },
          "metadata": {},
          "execution_count": 9
        }
      ]
    },
    {
      "cell_type": "code",
      "source": [
        "\"hlew \" + \"world\""
      ],
      "metadata": {
        "colab": {
          "base_uri": "https://localhost:8080/",
          "height": 35
        },
        "id": "Sgx3uAOCG5-x",
        "outputId": "35040dbd-74cf-4fa6-faec-ba9883d9b81d"
      },
      "execution_count": 10,
      "outputs": [
        {
          "output_type": "execute_result",
          "data": {
            "text/plain": [
              "'hlew world'"
            ],
            "application/vnd.google.colaboratory.intrinsic+json": {
              "type": "string"
            }
          },
          "metadata": {},
          "execution_count": 10
        }
      ]
    },
    {
      "cell_type": "code",
      "source": [
        "#example of statement\n",
        "num1= 60\n",
        "print(\"the number is \" , 60)"
      ],
      "metadata": {
        "colab": {
          "base_uri": "https://localhost:8080/"
        },
        "id": "Syyx79crG57_",
        "outputId": "98c580fa-0ff7-43fe-f0fa-954dbd4dd27d"
      },
      "execution_count": 11,
      "outputs": [
        {
          "output_type": "stream",
          "name": "stdout",
          "text": [
            "the number is  60\n"
          ]
        }
      ]
    }
  ]
}