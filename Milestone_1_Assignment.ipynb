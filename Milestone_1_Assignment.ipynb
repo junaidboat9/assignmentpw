{
  "nbformat": 4,
  "nbformat_minor": 0,
  "metadata": {
    "colab": {
      "provenance": []
    },
    "kernelspec": {
      "name": "python3",
      "display_name": "Python 3"
    },
    "language_info": {
      "name": "python"
    }
  },
  "cells": [
    {
      "cell_type": "code",
      "execution_count": null,
      "metadata": {
        "colab": {
          "base_uri": "https://localhost:8080/"
        },
        "id": "rSCw-q4FZU3n",
        "outputId": "56207ad6-5f61-4ad7-e423-604f0543f510"
      },
      "outputs": [
        {
          "output_type": "stream",
          "name": "stdout",
          "text": [
            "Enter the color of the signal RED/GREEN/YELLOWblack\n",
            "Invalid color\n"
          ]
        }
      ],
      "source": [
        "# Q 1.6) Write a program to display the appropriate message as per the color of signal(RED-Stop/Yellow-Stay/\n",
        "#Green-Go) at the road crossing.\n",
        "\n",
        "dict = {\n",
        "    'RED' : 'STOP',\n",
        "    'YELLOW' : 'STAY',\n",
        "    'GREEN' : 'GO'\n",
        "}\n",
        "color = input(\"Enter the color of the signal RED/GREEN/YELLOW\")\n",
        "#color.upper()\n",
        "print(dict.get(color.upper(), \"Invalid color\"))"
      ]
    },
    {
      "cell_type": "code",
      "source": [
        "# Q 1.7) Write a program to create a simple calculator performing only four basic operations(+,-,/,*) .\n",
        "\n",
        "def add(a,b):\n",
        "    return a+b\n",
        "def sub(a,b):\n",
        "    return a-b\n",
        "def mul(a,b):\n",
        "    return a*b\n",
        "def div(a,b):\n",
        "    if b==0:\n",
        "        return \"Cannot divide by zero\"\n",
        "    return a/b\n",
        "\n",
        "\n",
        "print(\"For the calculation please choose \\n 1 Adition \\n 2 Subtraction \\n 3 Multiplication \\n 4 Division\")\n",
        "\n",
        "choice = int(input(\"Enter your choice\"))\n",
        "if choice in (1,2,3,4):\n",
        "    a = int(input(\"Enter the first number\"))\n",
        "    b = int(input(\"Enter the second number\"))\n",
        "else:\n",
        "    print(\"Invalid choice\")\n",
        "\n",
        "if choice == 1:\n",
        "    print(add(a,b))\n",
        "if choice == 2:\n",
        "    print(sub(a,b))\n",
        "if choice == 3:\n",
        "    print(mul(a,b))\n",
        "if choice == 4:\n",
        "    if b==0:\n",
        "        print(\"Cannot divide by zero\")\n",
        "    else:\n",
        "        print(div(a,b))"
      ],
      "metadata": {
        "colab": {
          "base_uri": "https://localhost:8080/"
        },
        "id": "r3AeuU9BaVzg",
        "outputId": "e254e407-dae3-4551-bd96-46114034f1f1"
      },
      "execution_count": null,
      "outputs": [
        {
          "output_type": "stream",
          "name": "stdout",
          "text": [
            "For the calculation please choose \n",
            " 1 Adition \n",
            " 2 Subtraction \n",
            " 3 Multiplication \n",
            " 4 Division\n",
            "Enter your choice4\n",
            "Enter the first number7\n",
            "Enter the second number0\n",
            "Cannot divide by zero\n"
          ]
        }
      ]
    },
    {
      "cell_type": "code",
      "source": [
        "# Q 1.8) Write a program to find the larger of the three pre-specified numbers using ternary operators\n",
        "\n",
        "a = int(input(\"Enter the first number\"))\n",
        "b = int(input(\"Enter the second number\"))\n",
        "c = int(input(\"Enter the third number\"))\n",
        "\n",
        "if a>b and a>c:\n",
        "    print(\" The first number is larger\")\n",
        "elif b>a and b>c:\n",
        "    print(\"the second number is larger\")\n",
        "else:\n",
        "    print(\"the third number is larger\")\n"
      ],
      "metadata": {
        "colab": {
          "base_uri": "https://localhost:8080/"
        },
        "id": "xZpEgl5Xc8BC",
        "outputId": "d45edd52-3362-4f66-d298-8b5683e17aad"
      },
      "execution_count": null,
      "outputs": [
        {
          "output_type": "stream",
          "name": "stdout",
          "text": [
            "Enter the first number1\n",
            "Enter the second number3\n",
            "Enter the third number2\n",
            "the second number is larger\n"
          ]
        }
      ]
    },
    {
      "cell_type": "code",
      "source": [
        "# Q 1.9) Write a program to find the factors of a whole number  using a while loop.\n",
        "\n",
        "num = int(input(\"Enter the number\"))\n",
        "i = 1\n",
        "while i<=num:\n",
        "    if num%i==0:\n",
        "        print(i)\n",
        "    i+=1\n"
      ],
      "metadata": {
        "colab": {
          "base_uri": "https://localhost:8080/"
        },
        "id": "rnXlnrFFdkLw",
        "outputId": "6402d43b-1e56-40ae-cc0a-4919b25b99ca"
      },
      "execution_count": null,
      "outputs": [
        {
          "output_type": "stream",
          "name": "stdout",
          "text": [
            "Enter the number87\n",
            "1\n",
            "3\n",
            "29\n",
            "87\n"
          ]
        }
      ]
    },
    {
      "cell_type": "code",
      "source": [
        "# Q 1.10) Write a program to find the sum of all the positive numbers entered by the user. As soon as the user\n",
        "\n",
        "def sum_positive_numbers():\n",
        "    total = 0\n",
        "    while True:\n",
        "        num = float(input(\"Enter a number or 0 to stop: \"))\n",
        "        if num  < 0:\n",
        "            break\n",
        "        if num > 0:\n",
        "            total += num\n",
        "    print(\"Sum of positive numbers:\", total)\n",
        "\n",
        "sum_positive_numbers()"
      ],
      "metadata": {
        "colab": {
          "base_uri": "https://localhost:8080/"
        },
        "id": "T9zKDCxbeTBt",
        "outputId": "5085ede2-29c8-4e60-bf6d-b41f1d61892b"
      },
      "execution_count": null,
      "outputs": [
        {
          "output_type": "stream",
          "name": "stdout",
          "text": [
            "Enter a number or 0 to stop: -1\n",
            "Sum of positive numbers: 0\n"
          ]
        }
      ]
    },
    {
      "cell_type": "code",
      "source": [
        "# Q 1.11)   Write a program to find prime numbers between 2 to 100 using nested for loops\n",
        "\n",
        "for i in range(2,101):\n",
        "    for j in range(2,i):\n",
        "        if i%j==0:\n",
        "            break\n",
        "    else:\n",
        "        print(i)"
      ],
      "metadata": {
        "colab": {
          "base_uri": "https://localhost:8080/"
        },
        "id": "lPgxTuIZeylI",
        "outputId": "4704b8e8-2814-4aca-bf8b-d8449ee9b403"
      },
      "execution_count": null,
      "outputs": [
        {
          "output_type": "stream",
          "name": "stdout",
          "text": [
            "2\n",
            "3\n",
            "5\n",
            "7\n",
            "11\n",
            "13\n",
            "17\n",
            "19\n",
            "23\n",
            "29\n",
            "31\n",
            "37\n",
            "41\n",
            "43\n",
            "47\n",
            "53\n",
            "59\n",
            "61\n",
            "67\n",
            "71\n",
            "73\n",
            "79\n",
            "83\n",
            "89\n",
            "97\n"
          ]
        }
      ]
    },
    {
      "cell_type": "code",
      "source": [
        "'''\n",
        "Q 1.12)   Write the  programs for the followingp\n",
        "a) Accept the marks of the student in five major subjects and display the same?\n",
        "b) Calculate the sum of the marks of all subjects.Divide the total marks by number of subjects (i.e. 5), calculate\n",
        "percentage = total marks/5 and display the percentage?\n",
        "c) Find the grade of the student as per the following criteria . Hint: Use Match & case for this.:\n",
        "'''\n",
        "\n",
        "def calculate_marks(maths, science, english, hindi, social_science):\n",
        "    print(\"Marks:\")\n",
        "    print(f\"Maths: {maths}\")\n",
        "    print(f\"Science: {science}\")\n",
        "    print(f\"English: {english}\")\n",
        "    print(f\"Hindi: {hindi}\")\n",
        "    print(f\"Social Science: {social_science}\")\n",
        "\n",
        "    total_marks = maths + science + english + hindi + social_science\n",
        "    percentage = total_marks / 5\n",
        "\n",
        "    return total_marks, percentage\n",
        "\n",
        "def calculate_grade(percentage):\n",
        "    if percentage > 85:\n",
        "        return \"Grade A\"\n",
        "    elif 75 <= percentage <= 85:\n",
        "        return \"Grade B\"\n",
        "    elif 50 <= percentage < 75:\n",
        "        return \"Grade C\"\n",
        "    elif 30 <= percentage < 50:\n",
        "        return \"Grade D\"\n",
        "    else:\n",
        "        return \"Reappear\"\n",
        "\n",
        "student_name = input(\"Enter the name of the student: \")\n",
        "\n",
        "maths = int(input(\"Enter the marks of Maths: \"))\n",
        "science = int(input(\"Enter the marks of Science: \"))\n",
        "english = int(input(\"Enter the marks of English: \"))\n",
        "hindi = int(input(\"Enter the marks of Hindi: \"))\n",
        "social_science = int(input(\"Enter the marks of Social Science: \"))\n",
        "\n",
        "total_marks, percentage = calculate_marks(maths, science, english, hindi, social_science)\n",
        "print(f\"Total marks: {total_marks}\")\n",
        "print(f\"Percentage: {percentage:.2f}%\")\n",
        "\n",
        "grade = calculate_grade(percentage)\n",
        "print(f\"Grade: {grade}\")\n"
      ],
      "metadata": {
        "colab": {
          "base_uri": "https://localhost:8080/"
        },
        "id": "zhNRwNp6gDu1",
        "outputId": "59753b73-87d5-4820-9293-4a65ef42f1ec"
      },
      "execution_count": null,
      "outputs": [
        {
          "output_type": "stream",
          "name": "stdout",
          "text": [
            "Enter the name of the student: Adeeb\n",
            "Enter the marks of Maths: 78\n",
            "Enter the marks of Science: 91\n",
            "Enter the marks of English: 95\n",
            "Enter the marks of Hindi: 99\n",
            "Enter the marks of Social Science: 86\n",
            "Marks:\n",
            "Maths: 78\n",
            "Science: 91\n",
            "English: 95\n",
            "Hindi: 99\n",
            "Social Science: 86\n",
            "Total marks: 449\n",
            "Percentage: 89.80%\n",
            "Grade: Grade A\n"
          ]
        }
      ]
    },
    {
      "cell_type": "code",
      "source": [
        "# Q 1.13  Write a program for VIBGYOR Spectrum based on their Wavelength using.Wavelength Range:\n",
        "\n",
        "range = float(input(\"Enter the wavelength range\"))\n",
        "\n",
        "if range >= 400.0 and range < 440.0:\n",
        "    print(\"Violet\")\n",
        "elif range >= 440.0 and range < 460.0:\n",
        "    print(\"Indigo\")\n",
        "elif range >= 460.0 and range < 500.0:\n",
        "    print(\"Blue\")\n",
        "elif range >= 500.0 and range < 570.0:\n",
        "    print(\"Green\")\n",
        "elif range >= 570.0 and range < 590.0:\n",
        "    print(\"Yellow\")\n",
        "elif range >= 590.0 and range < 620.0:\n",
        "    print(\"Orange\")\n",
        "elif range >= 620.0 and range < 750.0:\n",
        "    print(\"Red\")\n",
        "else:\n",
        "    print(\"Invalid wavelength range\")"
      ],
      "metadata": {
        "colab": {
          "base_uri": "https://localhost:8080/"
        },
        "id": "IJ4AzsGstQIg",
        "outputId": "ab679420-fe5d-4d60-e06f-092acb4217fe"
      },
      "execution_count": null,
      "outputs": [
        {
          "output_type": "stream",
          "name": "stdout",
          "text": [
            "Enter the wavelength range500\n",
            "Green\n"
          ]
        }
      ]
    },
    {
      "cell_type": "code",
      "source": [
        "'''\n",
        "Q 1.14) Consider the gravitational interactions between the Earth, Moon, and Sun in our solar system.\n",
        "\n",
        "Given:\n",
        "\n",
        "mass_earth = 5.972e24  # Mass of Earth in kilograms\n",
        "\n",
        "mass_moon =  7.34767309e22 # Mass of Moon in kilograms\n",
        "\n",
        "mass_sun = 1.989e30  # Mass of Sun in kilograms\n",
        "\n",
        "\n",
        "distance_earth_sun = 1.496e11  # Average distance between Earth and Sun in meters\n",
        "\n",
        "distance_moon_earth = 3.844e8  # Average distance between Moon and Earth in meters\n",
        "\n",
        "\n",
        "Tasks\n",
        "* Calculate the gravitational force between the Earth and the Sun\n",
        "* Calculate the gravitational force between the Moon and the Earth\n",
        "* Compare the calculated forces to determine which gravitational force is stronger@\n",
        "* Explain which celestial body (Earth or Moon) is more attracted to the other based on the comparison.\n",
        "'''\n",
        "import math\n",
        "\n",
        "\n",
        "mass_earth = 5.972e24\n",
        "mass_moon = 7.34767309e22\n",
        "mass_sun = 1.989e30\n",
        "distance_earth_sun = 1.496e11\n",
        "distance_moon_earth = 3.844e8\n",
        "\n",
        "# Gravitational constant\n",
        "G = 6.67430e-11  # N m^2 kg^-2\n",
        "\n",
        "force_earth_sun = G * mass_earth * mass_sun / distance_earth_sun**2\n",
        "print(\"Gravitational force between Earth and Sun:\", force_earth_sun, \"N\")\n",
        "\n",
        "force_moon_earth = G * mass_moon * mass_earth / distance_moon_earth**2\n",
        "print(\"Gravitational force between Moon and Earth:\", force_moon_earth, \"N\")\n",
        "\n",
        "if force_earth_sun > force_moon_earth:\n",
        "    print(\"The gravitational force between Earth and Sun is stronger.\")\n",
        "else:\n",
        "    print(\"The gravitational force between Moon and Earth is stronger.\")\n",
        "\n",
        "if force_earth_sun / mass_earth > force_moon_earth / mass_moon:\n",
        "    print(\"The Earth is more attracted to the Sun.\")\n",
        "elif force_earth_sun / mass_earth < force_moon_earth / mass_moon:\n",
        "    print(\"The Moon is more attracted to the Earth.\")\n",
        "else:\n",
        "    print(\"Both celestial bodies are equally attracted to each other.\")"
      ],
      "metadata": {
        "colab": {
          "base_uri": "https://localhost:8080/"
        },
        "id": "dTqvGpDhtp_8",
        "outputId": "8b0d6c44-5ac7-4af1-c576-f60310b184d7"
      },
      "execution_count": null,
      "outputs": [
        {
          "output_type": "stream",
          "name": "stdout",
          "text": [
            "Gravitational force between Earth and Sun: 3.5423960813684973e+22 N\n",
            "Gravitational force between Moon and Earth: 1.982022545652681e+20 N\n",
            "The gravitational force between Earth and Sun is stronger.\n",
            "The Earth is more attracted to the Sun.\n"
          ]
        }
      ]
    },
    {
      "cell_type": "code",
      "source": [
        "'''\n",
        "Q 2)  Design and implement a Python program for managing student information using object-oriented\n",
        "principles. Create a class called `Student` with encapsulated attributes for name, age, and roll number.\n",
        "Implement getter and setter methods for these attributes. Additionally, provide methods to display student\n",
        "information and update student details.\n",
        "\n",
        "\n",
        "Task\n",
        "3 Define the `Student` class with encapsulated attributes\n",
        "3 Implement getter and setter methods for the attributes\n",
        "3 Write methods to display student information and update details\n",
        "3 Create instances of the `Student` class and test the implemented functionality.\n",
        "'''\n",
        "\n",
        "class Student:\n",
        "  def __init(self, name, age, roll_number):\n",
        "    self.__name = None\n",
        "    self.__age = None\n",
        "    self.__roll_number = None\n",
        "\n",
        "  def get_name(self):\n",
        "    return self.__name\n",
        "\n",
        "  def set_name(self, name):\n",
        "    self.__name = name\n",
        "\n",
        "  def get_age(self):\n",
        "    return self.__age\n",
        "\n",
        "  def set_age(self, age):\n",
        "    self.__age = age\n",
        "\n",
        "  def get_roll_number(self):\n",
        "    return self.__roll_number\n",
        "\n",
        "  def set_roll_number(self, roll_number):\n",
        "    self.__roll_number = roll_number\n",
        "\n",
        "  def display_info(self):\n",
        "    print(\"Name:\", self.__name)\n",
        "    print(\"Age:\", self.__age)\n",
        "    print(\"Roll Number:\", self.__roll_number)\n",
        "\n",
        "  def update_info(self, name=None, age=None, roll_number=None):\n",
        "        if name:\n",
        "            self.__name = name\n",
        "        if age:\n",
        "            self.__age = age\n",
        "        if roll_number:\n",
        "            self.__roll_number = roll_number\n",
        "\n",
        "student1  = Student()\n",
        "student1.set_name(\"Adeeb\")\n",
        "student1.set_age(20)\n",
        "student1.set_roll_number(\"12345\")\n",
        "\n",
        "student2 = Student()\n",
        "student2.set_name(\"Ali\")\n",
        "student2.set_age(21)\n",
        "student2.set_roll_number(\"23456\")\n",
        "\n",
        "student1.display_info()\n",
        "student2.display_info()\n",
        "\n",
        "student1.update_info(name=\"Anas\")\n",
        "student1.display_info()\n"
      ],
      "metadata": {
        "colab": {
          "base_uri": "https://localhost:8080/"
        },
        "id": "bnUAdfS8xNCA",
        "outputId": "78ced75e-db25-4166-fd41-664ccaca31c4"
      },
      "execution_count": null,
      "outputs": [
        {
          "output_type": "stream",
          "name": "stdout",
          "text": [
            "Name: Adeeb\n",
            "Age: 20\n",
            "Roll Number: 12345\n",
            "Name: Ali\n",
            "Age: 21\n",
            "Roll Number: 23456\n",
            "Name: Anas\n",
            "Age: 20\n",
            "Roll Number: 12345\n"
          ]
        }
      ]
    },
    {
      "cell_type": "code",
      "source": [
        "'''\n",
        "Q 3) Develop a Python program for managing library resources efficiently. Design a class named `LibraryBook`\n",
        "with attributes like book name, author, and availability status. Implement methods for borrowing and\n",
        "returning books while ensuring proper encapsulation of attributes.\n",
        "\n",
        "\n",
        "Task\n",
        " 1. Create the `LibraryBook` class with encapsulated attributes\n",
        " 2. Implement methods for borrowing and returning books\n",
        " 3. Ensure proper encapsulation to protect book details\n",
        " 4. Test the borrowing and returning functionality with sample data.\n",
        "\n",
        "'''\n",
        "\n",
        "class LibraryBook:\n",
        "  def __init__(self, book_name, author, availability_status):\n",
        "    self.__book_name = book_name\n",
        "    self.__author = author\n",
        "    self.__availability_status = availability_status\n",
        "\n",
        "  def get_book_name(self):\n",
        "    return self.__book_name\n",
        "\n",
        "  def get_author(self):\n",
        "    return self.__author\n",
        "\n",
        "  def get_availability_status(self):\n",
        "    return self.__availability_status\n",
        "\n",
        "\n",
        "  def set_availability_status(self, availability_status):\n",
        "    self.__availability_status = availability_status\n",
        "\n",
        "  def borrow_book(self):\n",
        "    if self.__availability_status == \"Available\":\n",
        "      self.__availability_status = \"Borrowed\"\n",
        "      print(f\"{self.__book_name} has been borrowed.\")\n",
        "\n",
        "    else:\n",
        "      print(f\"{self.__book_name} is not available for borrowing.\")\n",
        "\n",
        "  def return_book(self):\n",
        "    if self.__availability_status == \"Borrowed\":\n",
        "      self.__availability_status = \"Available\"\n",
        "      print(f\"{self.__book_name} has been returned.\")\n",
        "\n",
        "    else:\n",
        "      print(f\"{self.__book_name} is not currently borrowed.\")\n",
        "\n",
        "\n",
        "book1 = LibraryBook(\"The Alchemist\", \"Paulo Coelho\", \"Available\")\n",
        "book2 = LibraryBook(\"To Kill a Mockingbird\", \"Harper Lee\", \"Available\")\n",
        "\n",
        "book1.borrow_book()\n",
        "book1.return_book()"
      ],
      "metadata": {
        "colab": {
          "base_uri": "https://localhost:8080/"
        },
        "id": "NnUOQBEs0iT7",
        "outputId": "78a70a4e-1cef-4667-cf29-847945b3b543"
      },
      "execution_count": null,
      "outputs": [
        {
          "output_type": "stream",
          "name": "stdout",
          "text": [
            "The Alchemist has been borrowed.\n",
            "The Alchemist has been returned.\n"
          ]
        }
      ]
    },
    {
      "cell_type": "code",
      "source": [
        "'''\n",
        "Q 4) 4.Create a simple banking system using object-oriented concepts in Python. Design classes representing\n",
        "different types of bank accounts such as savings and checking. Implement methods for deposit, withdraw,\n",
        "and balance inquiry. Utilize inheritance to manage different account types efficiently.\n",
        "\n",
        "\n",
        "Task\n",
        "1. Define base class(es) for bank accounts with common attributes and methods\n",
        "2. Implement subclasses for specific account types (e.g., SavingsAccount, CheckingAccount)\n",
        "3. Provide methods for deposit, withdraw, and balance inquiry in each subclass\n",
        "4. Test the banking system by creating instances of different account types and performing transactions.\n",
        "'''\n",
        "\n",
        "class bank_account:\n",
        "  def __init__(self, account_number,balance = 0):\n",
        "    self.__balance = balance\n",
        "    self.__account_number = account_number\n",
        "\n",
        "  def get_balance(self):\n",
        "    return self.__balance\n",
        "\n",
        "  def set_balance(self, balance):\n",
        "    self.__balance = balance\n",
        "  def deposit(self, amount):\n",
        "    self.__balance += amount\n",
        "\n",
        "  def withdraw(self, amount):\n",
        "    if amount <= self.__balance:\n",
        "      self.__balance -= amount\n",
        "    else:\n",
        "      print(\"Insufficient balance\")\n",
        "\n",
        "class savings_account(bank_account):\n",
        "  def __init__(self, account_number, balance = 0,interest_rate = 6.2):\n",
        "    super().__init__(account_number, balance)\n",
        "    self.__interest_rate = interest_rate\n",
        "\n",
        "  def add_interest(self):\n",
        "    interest = self.get_balance() * (self.__interest_rate / 100)\n",
        "    self.deposit(interest)\n",
        "\n",
        "class checking_account(bank_account):\n",
        "  def __init__(self, account_number, balance = 0, overdraft_limit = 1000):\n",
        "    super().__init__(account_number, balance)\n",
        "    self.__overdraft_limit = overdraft_limit\n",
        "\n",
        "  def withdraw(self, amount):\n",
        "    if amount <= self.get_balance() + self.__overdraft_limit:\n",
        "      self.set_balance(self.get_balance() - amount)\n",
        "    else:\n",
        "      print(\"Overdraft limit exceeded\")\n",
        "\n",
        "savings_account1 = savings_account(\"123456789\", 1000)\n",
        "checking_account1 = checking_account(\"987654321\", 2000)\n",
        "\n",
        "savings_account1.deposit(1000)\n",
        "savings_account1.add_interest()\n",
        "print(\"Savings Account Balance:\", savings_account1.get_balance())\n",
        "\n",
        "checking_account1.withdraw(500)\n",
        "print(\"Checking Account Balance:\", checking_account1.get_balance())"
      ],
      "metadata": {
        "id": "hAi8sHWg2Sqx",
        "colab": {
          "base_uri": "https://localhost:8080/"
        },
        "outputId": "de9e025a-8f99-43c1-db99-1fdd682ad272"
      },
      "execution_count": null,
      "outputs": [
        {
          "output_type": "stream",
          "name": "stdout",
          "text": [
            "Savings Account Balance: 2124.0\n",
            "Checking Account Balance: 1500\n"
          ]
        }
      ]
    },
    {
      "cell_type": "code",
      "source": [
        "'''\n",
        "Q 5) Write a Python program that models different animals and their sounds. Design a base class called\n",
        "`Animal` with a method `make_sound()`. Create subclasses like `Dog` and `Cat` that override the\n",
        "`make_sound()` method to produce appropriate sounds.\n",
        "\n",
        "\n",
        "Task\n",
        "1. Define the `Animal` class with a method `make_sound()\n",
        "2. Create subclasses `Dog` and `Cat` that override the `make_sound()` method\n",
        "3. Implement the sound generation logic for each subclass\n",
        "4. Test the program by creating instances of `Dog` and `Cat` and calling the `make_sound()` method.\n",
        "'''\n",
        "\n",
        "class animal:\n",
        "  def make_sound():\n",
        "    pass\n",
        "\n",
        "class dog(animal):\n",
        "  def make_sound():\n",
        "    print(\"bark\")\n",
        "\n",
        "class cat(animal):\n",
        "  def make_sound():\n",
        "    print(\"Meow\")\n",
        "\n",
        "dog.make_sound()\n",
        "cat.make_sound()"
      ],
      "metadata": {
        "colab": {
          "base_uri": "https://localhost:8080/"
        },
        "id": "ewzdqIQIlnEk",
        "outputId": "2ebeb91d-834d-4db1-c61b-6b5c68d78cd9"
      },
      "execution_count": null,
      "outputs": [
        {
          "output_type": "stream",
          "name": "stdout",
          "text": [
            "bark\n",
            "Meow\n"
          ]
        }
      ]
    },
    {
      "cell_type": "code",
      "source": [
        "'''\n",
        "Q 6) Write a code for Restaurant Management System Using OOPS:\n",
        "Create a MenuItem class that has attributes such as name, description, price, and category\n",
        "Implement methods to add a new menu item, update menu item information, and remove a menu item from the menu\n",
        "Use encapsulation to hide the menu item's unique identification number\n",
        "Inherit from the MenuItem class to create a FoodItem class and a BeverageItem class, each with their own specific attributes and methods.\n",
        "'''\n",
        "\n",
        "class MenuItem:\n",
        "    def __init__(self, name, description, price, category):\n",
        "        self.__id = id(self)\n",
        "        self.__name = name\n",
        "        self.__description = description\n",
        "        self.__price = price\n",
        "        self.__category = category\n",
        "\n",
        "    def get_id(self):\n",
        "        return self.__id\n",
        "\n",
        "    def get_name(self):\n",
        "        return self.__name\n",
        "\n",
        "    def get_description(self):\n",
        "        return self.__description\n",
        "\n",
        "    def get_price(self):\n",
        "        return self.__price\n",
        "\n",
        "    def get_category(self):\n",
        "        return self.__category\n",
        "\n",
        "    def update_info(self, name=None, description=None, price=None, category=None):\n",
        "        if name:\n",
        "            self.__name = name\n",
        "        if description:\n",
        "            self.__description = description\n",
        "        if price:\n",
        "            self.__price = price\n",
        "        if category:\n",
        "            self.__category = category\n",
        "\n",
        "    def remove_item(self):\n",
        "        del self\n",
        "\n",
        "\n",
        "class FoodItem(MenuItem):\n",
        "    def __init__(self, name, description, price, category):\n",
        "        super().__init__(name, description, price, category)\n",
        "\n",
        "    def get_calories(self):\n",
        "        return self.__calories\n",
        "\n",
        "    def update_info(self, name=None, description=None, price=None, category=None, calories=None):\n",
        "        super().update_info(name, description, price, category)\n",
        "        if calories:\n",
        "            self.__calories = calories\n",
        "\n",
        "\n",
        "class BeverageItem(MenuItem):\n",
        "    def __init__(self, name, description, price, category, volume):\n",
        "        super().__init__(name, description, price, category)\n",
        "        self.__volume = volume\n",
        "\n",
        "    def get_volume(self):\n",
        "        return self.__volume\n",
        "\n",
        "    def update_info(self, name=None, description=None, price=None, category=None, volume=None):\n",
        "        super().update_info(name, description, price, category)\n",
        "        if volume:\n",
        "            self.__volume = volume\n",
        "\n",
        "food_item = FoodItem(\"Burger\", \"veg makhni burger\", 100, \"Main Course\")\n",
        "print(food_item.get_name())\n",
        "\n",
        "beverage_item = BeverageItem(\"Mjito\", \"virgin mojito\", 70, \"Beverages\",250)\n",
        "print(beverage_item.get_name())\n",
        "print(beverage_item.get_volume())\n",
        "\n",
        "food_item.update_info(calories=600)\n",
        "\n"
      ],
      "metadata": {
        "colab": {
          "base_uri": "https://localhost:8080/"
        },
        "id": "vhKts0I3nglh",
        "outputId": "5b359577-fc82-41c2-e32f-549260f1083c"
      },
      "execution_count": null,
      "outputs": [
        {
          "output_type": "stream",
          "name": "stdout",
          "text": [
            "Burger\n",
            "Mjito\n",
            "250\n"
          ]
        }
      ]
    },
    {
      "cell_type": "code",
      "source": [
        "'''\n",
        "Q 7) Write a code for Hotel Management System using OOPS:\n",
        "Create a Room class that has attributes such as room number, room type, rate, and availability (private)\n",
        "Implement methods to book a room, check in a guest, and check out a guest\n",
        "Use encapsulation to hide the room's unique identification number\n",
        "Inherit from the Room class to create a SuiteRoom class and a StandardRoom class, each with their own specific attributes and methods.\n",
        "'''\n",
        "\n",
        "class Room:\n",
        "    def __init__(self, room_number, room_type, rate):\n",
        "        self.__id = id(self)\n",
        "        self.__room_number = room_number\n",
        "        self.__room_type = room_type\n",
        "        self.__rate = rate\n",
        "        self.__availability = True\n",
        "\n",
        "    def get_id(self):\n",
        "        return self.__id\n",
        "\n",
        "    def get_room_number(self):\n",
        "        return self.__room_number\n",
        "\n",
        "    def get_room_type(self):\n",
        "        return self.__room_type\n",
        "\n",
        "    def get_rate(self):\n",
        "        return self.__rate\n",
        "\n",
        "    def get_availability(self):\n",
        "        return self.__availability\n",
        "\n",
        "    def book_room(self):\n",
        "        if self.__availability:\n",
        "            self.__availability = False\n",
        "            return \"Room booked successfully\"\n",
        "        else:\n",
        "            return \"Room is not available\"\n",
        "\n",
        "    def check_in(self, guest_name):\n",
        "        if not self.__availability:\n",
        "            self.__guest_name = guest_name\n",
        "            return f\"Guest {guest_name} checked in successfully\"\n",
        "        else:\n",
        "            return \"Room is already available\"\n",
        "\n",
        "    def check_out(self):\n",
        "        if not self.__availability:\n",
        "            self.__availability = True\n",
        "            return \"Guest checked out successfully\"\n",
        "        else:\n",
        "            return \"Room is already available\"\n",
        "\n",
        "\n",
        "class SuiteRoom(Room):\n",
        "    def __init__(self, room_number, room_type, rate, extra_bed):\n",
        "        super().__init__(room_number, room_type, rate)\n",
        "        self.__extra_bed = extra_bed\n",
        "\n",
        "    def get_extra_bed(self):\n",
        "        return self.__extra_bed\n",
        "\n",
        "\n",
        "class StandardRoom(Room):\n",
        "    def __init__(self, room_number, room_type, rate, breakfast_included):\n",
        "        super().__init__(room_number, room_type, rate)\n",
        "        self.__breakfast_included = breakfast_included\n",
        "\n",
        "    def get_breakfast_included(self):\n",
        "        return self.__breakfast_included\n",
        "\n",
        "\n",
        "suite_room = SuiteRoom(\"101\", \"Suite\", 1000, True)\n",
        "print(suite_room.get_room_number())\n",
        "print(suite_room.get_extra_bed())\n",
        "\n",
        "standard_room = StandardRoom(\"102\", \"Standard\", 500, False)\n",
        "print(standard_room.get_room_number())\n",
        "print(standard_room.get_breakfast_included())\n",
        "\n",
        "print(suite_room.book_room())\n",
        "print(suite_room.check_in(\"Adeeb \"))\n",
        "print(suite_room.check_out())"
      ],
      "metadata": {
        "colab": {
          "base_uri": "https://localhost:8080/"
        },
        "id": "ab67oiG1pXU1",
        "outputId": "3f6dc331-1bf1-4b74-f0b5-b551a043c612"
      },
      "execution_count": null,
      "outputs": [
        {
          "output_type": "stream",
          "name": "stdout",
          "text": [
            "101\n",
            "True\n",
            "102\n",
            "False\n",
            "Room booked successfully\n",
            "Guest Adeeb  checked in successfully\n",
            "Guest checked out successfully\n"
          ]
        }
      ]
    },
    {
      "cell_type": "code",
      "source": [
        "'''\n",
        "Q 8) Write a code for Fitness Club Management System using OOPS:\n",
        "Create a Member class that has attributes such as name, age, membership type, and membership status (private)\n",
        "Implement methods to register a new member, renew a membership, and cancel a membership\n",
        "Use encapsulation to hide the member's unique identification number\n",
        "Inherit from the Member class to create a FamilyMember class and an IndividualMember class, each with their own specific attributes and methods.\n",
        "'''\n",
        "\n",
        "class Member:\n",
        "    def __init__(self, name, age, membership_type):\n",
        "        self.__id = id(self)\n",
        "        self.__name = name\n",
        "        self.__age = age\n",
        "        self.__membership_type = membership_type\n",
        "        self.__membership_status = \"Active\"\n",
        "\n",
        "    def get_id(self):\n",
        "        return self.__id\n",
        "\n",
        "    def get_name(self):\n",
        "        return self.__name\n",
        "\n",
        "    def get_age(self):\n",
        "        return self.__age\n",
        "\n",
        "    def get_membership_type(self):\n",
        "        return self.__membership_type\n",
        "\n",
        "    def get_membership_status(self):\n",
        "        return self.__membership_status\n",
        "\n",
        "    def register_member(self):\n",
        "        return f\"Member {self.__name} registered successfully\"\n",
        "\n",
        "    def renew_membership(self):\n",
        "        if self.__membership_status == \"Active\":\n",
        "            return f\"Membership renewed for {self.__name}\"\n",
        "        else:\n",
        "            return \"Membership is not active\"\n",
        "\n",
        "    def cancel_membership(self):\n",
        "        if self.__membership_status == \"Active\":\n",
        "            self.__membership_status = \"Cancelled\"\n",
        "            return f\"Membership cancelled for {self.__name}\"\n",
        "        else:\n",
        "            return \"Membership is already cancelled\"\n",
        "\n",
        "\n",
        "class FamilyMember(Member):\n",
        "    def __init__(self, name, age, membership_type, num_family_members):\n",
        "        super().__init__(name, age, membership_type)\n",
        "        self.__num_family_members = num_family_members\n",
        "\n",
        "    def get_num_family_members(self):\n",
        "        return self.__num_family_members\n",
        "\n",
        "\n",
        "class IndividualMember(Member):\n",
        "    def __init__(self, name, age, membership_type, emergency_contact):\n",
        "        super().__init__(name, age, membership_type)\n",
        "        self.__emergency_contact = emergency_contact\n",
        "\n",
        "    def get_emergency_contact(self):\n",
        "        return self.__emergency_contact\n",
        "\n",
        "family_member = FamilyMember(\"Adeeb\", 22, \"Family\", 3)\n",
        "print(family_member.get_name())\n",
        "print(family_member.get_num_family_members())\n",
        "\n",
        "individual_member = IndividualMember(\"Anas \", 25, \"Individual\", \"1234567890\")\n",
        "print(individual_member.get_name())\n",
        "print(individual_member.get_emergency_contact())\n",
        "\n",
        "print(family_member.register_member())\n",
        "print(family_member.renew_membership())\n",
        "print(family_member.cancel_membership())"
      ],
      "metadata": {
        "colab": {
          "base_uri": "https://localhost:8080/"
        },
        "id": "wnIu6rTfqHH8",
        "outputId": "50dfa0b4-8778-473f-e7e5-6f408747642b"
      },
      "execution_count": null,
      "outputs": [
        {
          "output_type": "stream",
          "name": "stdout",
          "text": [
            "Adeeb\n",
            "3\n",
            "Anas \n",
            "1234567890\n",
            "Member Adeeb registered successfully\n",
            "Membership renewed for Adeeb\n",
            "Membership cancelled for Adeeb\n"
          ]
        }
      ]
    },
    {
      "cell_type": "code",
      "source": [
        "'''\n",
        "Q 9) Write a code for Event Management System using OOPS:\n",
        "Create an Event class that has attributes such as name, date, time, location, and list of attendees (private)\n",
        "Implement methods to create a new event, add or remove attendees, and get the total number of attendees\n",
        "Use encapsulation to hide the event's unique identification number\n",
        "Inherit from the Event class to create a PrivateEvent class and a PublicEvent class, each with their own specific attributes and methods.\n",
        "'''\n",
        "\n",
        "class Event:\n",
        "    def __init__(self, name, date, time, location):\n",
        "        self.__id = id(self)\n",
        "        self.__name = name\n",
        "        self.__date = date\n",
        "        self.__time = time\n",
        "        self.__location = location\n",
        "        self.__attendees = []\n",
        "\n",
        "    def get_id(self):\n",
        "        return self.__id\n",
        "\n",
        "    def get_name(self):\n",
        "        return self.__name\n",
        "\n",
        "    def get_date(self):\n",
        "        return self.__date\n",
        "\n",
        "    def get_time(self):\n",
        "        return self.__time\n",
        "\n",
        "    def get_location(self):\n",
        "        return self.__location\n",
        "\n",
        "    def get_attendees(self):\n",
        "        return self.__attendees\n",
        "\n",
        "    def create_event(self):\n",
        "        return f\"Event {self.__name} created successfully\"\n",
        "\n",
        "    def add_attendee(self, attendee):\n",
        "        self.__attendees.append(attendee)\n",
        "        return f\"Attendee {attendee} added successfully\"\n",
        "\n",
        "    def remove_attendee(self, attendee):\n",
        "        if attendee in self.__attendees:\n",
        "            self.__attendees.remove(attendee)\n",
        "            return f\"Attendee {attendee} removed successfully\"\n",
        "        else:\n",
        "            return \"Attendee not found\"\n",
        "\n",
        "    def get_total_attendees(self):\n",
        "        return len(self.__attendees)\n",
        "\n",
        "\n",
        "class PrivateEvent(Event):\n",
        "    def __init__(self, name, date, time, location, password):\n",
        "        super().__init__(name, date, time, location)\n",
        "        self.__password = password\n",
        "\n",
        "    def get_password(self):\n",
        "        return self.__password\n",
        "\n",
        "\n",
        "class PublicEvent(Event):\n",
        "    def __init__(self, name, date, time, location, max_attendees):\n",
        "        super().__init__(name, date, time, location)\n",
        "        self.__max_attendees = max_attendees\n",
        "\n",
        "    def get_max_attendees(self):\n",
        "        return self.__max_attendees\n",
        "\n",
        "private_event = PrivateEvent(\"Birthday Party\", \"2024-08-12\", \"18:00\", \"Home\", \"password123\")\n",
        "print(private_event.get_name())\n",
        "print(private_event.get_password())\n",
        "\n",
        "public_event = PublicEvent(\"Concert\", \"2024-09-15\", \"20:00\", \"Stadium\", 10000)\n",
        "print(public_event.get_name())\n",
        "print(public_event.get_max_attendees())\n",
        "\n",
        "print(private_event.create_event())\n",
        "print(private_event.add_attendee(\"John Doe\"))\n",
        "print(private_event.remove_attendee(\"John Doe\"))\n",
        "print(private_event.get_total_attendees())"
      ],
      "metadata": {
        "colab": {
          "base_uri": "https://localhost:8080/"
        },
        "id": "iVqyhf-jra5r",
        "outputId": "041de231-eeb5-4fe5-cfda-9adde69155d0"
      },
      "execution_count": null,
      "outputs": [
        {
          "output_type": "stream",
          "name": "stdout",
          "text": [
            "Birthday Party\n",
            "password123\n",
            "Concert\n",
            "10000\n",
            "Event Birthday Party created successfully\n",
            "Attendee John Doe added successfully\n",
            "Attendee John Doe removed successfully\n",
            "0\n"
          ]
        }
      ]
    },
    {
      "cell_type": "code",
      "source": [
        "'''\n",
        "Q 10)Write a code for Airline Reservation System using OOPS:\n",
        "Create a Flight class that has attributes such as flight number, departure and arrival airports, departure and arrival times, and available seats (private)\n",
        "Implement methods to book a seat, cancel a reservation, and get the remaining available seats\n",
        "Use encapsulation to hide the flight's unique identification number\n",
        "Inherit from the Flight class to create a DomesticFlight class and an InternationalFlight class, each with their own specific attributes and methods.\n",
        "'''\n",
        "\n",
        "class Flight:\n",
        "    def __init__(self, flight_number, departure_airport, arrival_airport, departure_time, arrival_time, available_seats):\n",
        "        self.__id = id(self)\n",
        "        self.__flight_number = flight_number\n",
        "        self.__departure_airport = departure_airport\n",
        "        self.__arrival_airport = arrival_airport\n",
        "        self.__departure_time = departure_time\n",
        "        self.__arrival_time = arrival_time\n",
        "        self.__available_seats = available_seats\n",
        "        self.__initial_available_seats = available_seats\n",
        "\n",
        "    def get_id(self):\n",
        "        return self.__id\n",
        "\n",
        "    def get_flight_number(self):\n",
        "        return self.__flight_number\n",
        "\n",
        "    def get_departure_airport(self):\n",
        "        return self.__departure_airport\n",
        "\n",
        "    def get_arrival_airport(self):\n",
        "        return self.__arrival_airport\n",
        "\n",
        "    def get_departure_time(self):\n",
        "        return self.__departure_time\n",
        "\n",
        "    def get_arrival_time(self):\n",
        "        return self.__arrival_time\n",
        "\n",
        "    def get_available_seats(self):\n",
        "        return self.__available_seats\n",
        "\n",
        "    def book_seat(self):\n",
        "        if self.__available_seats > 0:\n",
        "            self.__available_seats -= 1\n",
        "            return \"Seat booked successfully\"\n",
        "        else:\n",
        "            return \"No available seats\"\n",
        "\n",
        "    def cancel_reservation(self):\n",
        "        if self.__available_seats < self.__initial_available_seats:\n",
        "            self.__available_seats += 1\n",
        "            return \"Reservation cancelled successfully\"\n",
        "        else:\n",
        "            return \"No reservation to cancel\"\n",
        "\n",
        "    def get_remaining_available_seats(self):\n",
        "        return self.__available_seats\n",
        "\n",
        "\n",
        "class DomesticFlight(Flight):\n",
        "    def __init__(self, flight_number, departure_airport, arrival_airport, departure_time, arrival_time, available_seats, domestic_route):\n",
        "        super().__init__(flight_number, departure_airport, arrival_airport, departure_time, arrival_time, available_seats)\n",
        "        self.__domestic_route = domestic_route\n",
        "\n",
        "    def get_domestic_route(self):\n",
        "        return self.__domestic_route\n",
        "\n",
        "\n",
        "class InternationalFlight(Flight):\n",
        "    def __init__(self, flight_number, departure_airport, arrival_airport, departure_time, arrival_time, available_seats, international_route, layover_time):\n",
        "        super().__init__(flight_number, departure_airport, arrival_airport, departure_time, arrival_time, available_seats)\n",
        "        self.__international_route = international_route\n",
        "        self.__layover_time = layover_time\n",
        "\n",
        "    def get_international_route(self):\n",
        "        return self.__international_route\n",
        "\n",
        "    def get_layover_time(self):\n",
        "        return self.__layover_time\n",
        "\n",
        "\n",
        "domestic_flight = DomesticFlight(\"A350\", \"Delhi\", \"Mumbai\", \"08:00\", \"11:00\", 100, \"DEL-MUM\")\n",
        "print(domestic_flight.get_flight_number())\n",
        "print(domestic_flight.get_domestic_route())\n",
        "\n",
        "international_flight = InternationalFlight(\"A578\", \"DELHI\", \"DUBAI\", \"09:00\", \"14:00\", 200, \"DEL-DUB\", \"1 hour\")\n",
        "print(international_flight.get_flight_number())\n",
        "print(international_flight.get_international_route())\n",
        "print(international_flight.get_layover_time())\n",
        "\n",
        "print(domestic_flight.book_seat())\n",
        "print(domestic_flight.cancel_reservation())\n",
        "print(domestic_flight.get_remaining_available_seats())"
      ],
      "metadata": {
        "colab": {
          "base_uri": "https://localhost:8080/"
        },
        "id": "DBqzs5Omr24F",
        "outputId": "6bd729e9-9c0e-42b0-cf92-05474e670174"
      },
      "execution_count": null,
      "outputs": [
        {
          "output_type": "stream",
          "name": "stdout",
          "text": [
            "A350\n",
            "DEL-MUM\n",
            "A578\n",
            "DEL-DUB\n",
            "1 hour\n",
            "Seat booked successfully\n",
            "Reservation cancelled successfully\n",
            "100\n"
          ]
        }
      ]
    },
    {
      "cell_type": "markdown",
      "source": [
        "Important information :\n",
        "# **We Assume that we are making in separate file as module after making this we can use that module **\n"
      ],
      "metadata": {
        "id": "x6QqzWXmtpik"
      }
    },
    {
      "cell_type": "code",
      "source": [
        "# Q 11) Define a Python module named constants.py containing constants like pi and the speed of light\n",
        "\n",
        "pie = 3.14\n",
        "speed_of_light = 299792458 #meter per second\n",
        "\n",
        "# import constants.py"
      ],
      "metadata": {
        "id": "3jJA0Rj7sZkb"
      },
      "execution_count": null,
      "outputs": []
    },
    {
      "cell_type": "code",
      "source": [
        "# Q 12) Write a Python module named calculator.py containing functions for addition, subtraction,\n",
        "#multiplication, and division\n",
        "\n",
        "def add(a,b):\n",
        "    return a+b\n",
        "\n",
        "def sub(a,b):\n",
        "    return a-b\n",
        "\n",
        "def mul(a,b):\n",
        "    return a*b\n",
        "\n",
        "def div(a,b):\n",
        "  if b == 0:\n",
        "    return \"Cannot divide by zero\"\n",
        "  else:\n",
        "    return a/b\n",
        "\n",
        "#import calculator.py"
      ],
      "metadata": {
        "id": "CG0-nXx_uQg2"
      },
      "execution_count": null,
      "outputs": []
    },
    {
      "cell_type": "code",
      "source": [
        "#Q 13) Implement a Python package structure for a project named ecommerce, containing modules for product\n",
        "#management and order processing.\n",
        "'''\n",
        "ecommerce/\n",
        "    __init__.py\n",
        "    product/\n",
        "        __init__.py\n",
        "        models.py\n",
        "        services.py\n",
        "        repositories.py\n",
        "    order/\n",
        "        __init__.py\n",
        "        models.py\n",
        "        services.py\n",
        "        repositories.py\n",
        "    utils/\n",
        "        __init__.py\n",
        "        helpers.py\n",
        "    settings.py\n",
        "    main.py\n",
        "\n",
        "'''"
      ],
      "metadata": {
        "id": "rSHhvRbVuhf2"
      },
      "execution_count": null,
      "outputs": []
    },
    {
      "cell_type": "code",
      "source": [
        "# Q 14) Implement a Python module named string_utils.py containing functions for string manipulation, such as\n",
        "#reversing and capitalizing strings.\n",
        "\n",
        "def reverse_string(string):\n",
        "    return string[::-1]\n",
        "\n",
        "def capitalize_string(string):\n",
        "    return string.capitalize()\n",
        "\n",
        "#import string_utils.py"
      ],
      "metadata": {
        "id": "1TeF9vIYvHJk"
      },
      "execution_count": null,
      "outputs": []
    },
    {
      "cell_type": "code",
      "source": [
        "# Q 15) Write a Python module named file_operations.py with functions for reading, writing, and appending\n",
        "#data to a file.\n",
        "\n",
        "def read_file(file_path):\n",
        "    with open(file_path, 'r'):\n",
        "        return content\n",
        "def write_file(file_path, content):\n",
        "    with open(file_path, 'w'):\n",
        "        file.write(content)\n",
        "def  append_file(file_path, content):\n",
        "    with open(file_path, 'a'):\n",
        "        file.write(content)\n",
        "#import file_operations.py"
      ],
      "metadata": {
        "id": "glfur-Trvc51"
      },
      "execution_count": null,
      "outputs": []
    },
    {
      "cell_type": "code",
      "source": [
        "# Q 16)  Write a Python program to create a text file named \"employees.txt\" and write the details of employees,\n",
        "#including their name, age, and salary, into the file\n",
        "\n",
        "# Create a list of employee dictionaries\n",
        "employees = [\n",
        "    {\"name\": \"Adeeb\", \"age\": 20, \"salary\": 50000},\n",
        "    {\"name\": \"Anas Ahmad\", \"age\": 22, \"salary\": 60000},\n",
        "    {\"name\": \"Gaurav\", \"age\": 40, \"salary\": 70000}\n",
        "]\n",
        "\n",
        "# Open the file in write mode\n",
        "with open(\"employees.txt\", \"w\") as file:\n",
        "    # Write the details of each employee to the file\n",
        "    for employee in employees:\n",
        "        file.write(f\"Name: {employee['name']}\\n\")\n",
        "        file.write(f\"Age: {employee['age']}\\n\")\n",
        "        file.write(f\"Salary: {employee['salary']}\\n\\n\")\n",
        "\n",
        "print(\"Employee details written to employees.txt\")"
      ],
      "metadata": {
        "colab": {
          "base_uri": "https://localhost:8080/"
        },
        "id": "BUx2_qPBvraj",
        "outputId": "8c758d16-c009-45ed-d6d7-a5c5ef1309fc"
      },
      "execution_count": null,
      "outputs": [
        {
          "output_type": "stream",
          "name": "stdout",
          "text": [
            "Employee details written to employees.txt\n"
          ]
        }
      ]
    },
    {
      "cell_type": "code",
      "source": [
        "# Q 17)  Develop a Python script that opens an existing text file named \"inventory.txt\" in read mode and displays\n",
        "#the contents of the file line by line.\n",
        "\n",
        "try:\n",
        "    with open(\"inventory.txt\", \"r\") as file:\n",
        "        for line in file:\n",
        "            print(line.strip())\n",
        "except FileNotFoundError:\n",
        "    print(\"File not found: inventory.txt\")"
      ],
      "metadata": {
        "colab": {
          "base_uri": "https://localhost:8080/"
        },
        "id": "Xi6a1DpawTtU",
        "outputId": "e7dedd5f-5a6b-4c8b-a0b6-eeccd799bb02"
      },
      "execution_count": null,
      "outputs": [
        {
          "output_type": "stream",
          "name": "stdout",
          "text": [
            "File not found: inventory.txt\n"
          ]
        }
      ]
    },
    {
      "cell_type": "code",
      "source": [
        "# Q 18  Create a Python script that reads a text file named \"expenses.txt\" and calculates the total amount spent\n",
        "#on various expenses listed in the file.\n",
        "\n",
        "try:\n",
        "    with open(\"expenses.txt\", \"r\") as file:\n",
        "        total_expense = 0\n",
        "        for line in file:\n",
        "            expense_name, amount = line.strip().split(\":\")\n",
        "            total_expense += float(amount)\n",
        "except FileNotFoundError:\n",
        "    print(\"File not found: expenses.txt\")\n",
        "else:\n",
        "    print(f\"Total expense: ${total_expense:.2f}\")"
      ],
      "metadata": {
        "colab": {
          "base_uri": "https://localhost:8080/"
        },
        "id": "4f3B-VzOxQsB",
        "outputId": "5d97a199-91df-4098-9218-2d4c9918ba3a"
      },
      "execution_count": null,
      "outputs": [
        {
          "output_type": "stream",
          "name": "stdout",
          "text": [
            "File not found: expenses.txt\n"
          ]
        }
      ]
    },
    {
      "cell_type": "code",
      "source": [
        "# Q 19)  Create a Python program that reads a text file named \"paragraph.txt\" and counts the occurrences of\n",
        "#each word in the paragraph, displaying the results in alphabetical order.\n",
        "\n",
        "try:\n",
        "    with open(\"paragraph.txt\", \"r\") as file:\n",
        "        paragraph = file.read()\n",
        "except FileNotFoundError:\n",
        "    print(\"File not found: paragraph.txt\")"
      ],
      "metadata": {
        "colab": {
          "base_uri": "https://localhost:8080/"
        },
        "id": "nV7o20Ctxyd9",
        "outputId": "6d9821b1-48ef-4c4a-8cb2-38c4227d0516"
      },
      "execution_count": null,
      "outputs": [
        {
          "output_type": "stream",
          "name": "stdout",
          "text": [
            "File not found: paragraph.txt\n"
          ]
        }
      ]
    },
    {
      "cell_type": "code",
      "source": [
        "# Q 39) .How would you create a basic Flask route that displays \"Hello, World!\" on the homepage?\n",
        "\n",
        "from flask import Flask\n",
        "\n",
        "app = Flask(__name__)\n",
        "\n",
        "@app.route('/')\n",
        "def home():\n",
        "    return 'Hello, World!'\n",
        "if __name__ == '__main__':\n",
        "    app.run(debug=True,port = 8000)"
      ],
      "metadata": {
        "id": "VSMv3CR-zRDo",
        "colab": {
          "base_uri": "https://localhost:8080/"
        },
        "outputId": "3c0287a8-608d-4424-b1e5-d9a98d20fe7b"
      },
      "execution_count": 2,
      "outputs": [
        {
          "output_type": "stream",
          "name": "stdout",
          "text": [
            " * Serving Flask app '__main__'\n",
            " * Debug mode: on\n"
          ]
        },
        {
          "output_type": "stream",
          "name": "stderr",
          "text": [
            "INFO:werkzeug:\u001b[31m\u001b[1mWARNING: This is a development server. Do not use it in a production deployment. Use a production WSGI server instead.\u001b[0m\n",
            " * Running on http://127.0.0.1:8000\n",
            "INFO:werkzeug:\u001b[33mPress CTRL+C to quit\u001b[0m\n",
            "INFO:werkzeug: * Restarting with stat\n"
          ]
        }
      ]
    },
    {
      "cell_type": "code",
      "source": [
        "# Q 40) Explain how to set up a Flask application to handle form submissions using POST requests.\n",
        "\n",
        "'''\n",
        "use this html\n",
        "<form action=\"/submit\" method=\"post\">\n",
        "    <label for=\"name\">Name:</label>\n",
        "    <input type=\"text\" id=\"name\" name=\"name\"><br><br>\n",
        "    <label for=\"email\">Email:</label>\n",
        "    <input type=\"email\" id=\"email\" name=\"email\"><br><br>\n",
        "    <input type=\"submit\" value=\"Submit\">\n",
        "</form>\n",
        "'''\n",
        "from flask import Flask, render_template\n",
        "\n",
        "app = Flask(__name__)\n",
        "\n",
        "@app.route('/')\n",
        "def index():\n",
        "    return render_template('index.html')\n",
        "\n",
        "if __name__ == '__main__':\n",
        "    app.run(debug=True)"
      ],
      "metadata": {
        "colab": {
          "base_uri": "https://localhost:8080/"
        },
        "id": "TqumYQXEfT7S",
        "outputId": "32835cd7-6d87-486e-aeff-dceed604f987"
      },
      "execution_count": 4,
      "outputs": [
        {
          "output_type": "stream",
          "name": "stdout",
          "text": [
            " * Serving Flask app '__main__'\n",
            " * Debug mode: on\n"
          ]
        },
        {
          "output_type": "stream",
          "name": "stderr",
          "text": [
            "INFO:werkzeug:\u001b[31m\u001b[1mWARNING: This is a development server. Do not use it in a production deployment. Use a production WSGI server instead.\u001b[0m\n",
            " * Running on http://127.0.0.1:5000\n",
            "INFO:werkzeug:\u001b[33mPress CTRL+C to quit\u001b[0m\n",
            "INFO:werkzeug: * Restarting with stat\n"
          ]
        }
      ]
    },
    {
      "cell_type": "code",
      "source": [
        "#Q 41) Write a Flask route that accepts a parameter in the URL and displays it on the page\n",
        "\n",
        "from flask import Flask, render_template\n",
        "\n",
        "app = Flask(__name__)\n",
        "\n",
        "@app.route('/user/<int:user_id>')\n",
        "def user(user_id):\n",
        "    return f'User ID: {user_id}'\n",
        "\n",
        "if __name__ == '__main__':\n",
        "    app.run(debug=True)"
      ],
      "metadata": {
        "colab": {
          "base_uri": "https://localhost:8080/"
        },
        "id": "6Ek2JXU4gLyX",
        "outputId": "05e58013-3ffe-42b6-822b-26877ef4299d"
      },
      "execution_count": 5,
      "outputs": [
        {
          "output_type": "stream",
          "name": "stdout",
          "text": [
            " * Serving Flask app '__main__'\n",
            " * Debug mode: on\n"
          ]
        },
        {
          "output_type": "stream",
          "name": "stderr",
          "text": [
            "INFO:werkzeug:\u001b[31m\u001b[1mWARNING: This is a development server. Do not use it in a production deployment. Use a production WSGI server instead.\u001b[0m\n",
            " * Running on http://127.0.0.1:5000\n",
            "INFO:werkzeug:\u001b[33mPress CTRL+C to quit\u001b[0m\n",
            "INFO:werkzeug: * Restarting with stat\n"
          ]
        }
      ]
    },
    {
      "cell_type": "code",
      "source": [
        "#pip install Flask-Login\n",
        "#pip install Flask-WTF\n",
        "#pip install WTForms"
      ],
      "metadata": {
        "id": "nuliHiBGh1SW"
      },
      "execution_count": 13,
      "outputs": []
    },
    {
      "cell_type": "code",
      "source": [
        "# Q 42) How can you implement user authentication in a Flask application?\n",
        "\n",
        "from flask import Flask, render_template, redirect, url_for, request\n",
        "from flask_login import LoginManager, UserMixin, login_user, logout_user, login_required\n",
        "from flask_wtf import FlaskForm\n",
        "from wtforms import StringField, PasswordField, SubmitField\n",
        "\n",
        "app = Flask(__name__)\n",
        "app.config['SECRET_KEY'] = 'secret_key_here'\n",
        "\n",
        "class User(UserMixin):\n",
        "    def __init__(self, username, password, email):\n",
        "        self.username = username\n",
        "        self.password = password\n",
        "        self.email = email\n",
        "\n",
        "user = User('john', 'password', 'john@example.com')\n",
        "\n",
        "class LoginForm(FlaskForm):\n",
        "    username = StringField('Username')\n",
        "    password = PasswordField('Password')\n",
        "    submit = SubmitField('Login')\n",
        "\n",
        "login_manager = LoginManager(app)\n",
        "\n",
        "@login_manager.user_loader\n",
        "def load_user(username):\n",
        "    if username == user.username:\n",
        "        return user\n",
        "    return None\n",
        "\n",
        "@app.route('/login', methods=['GET', 'POST'])\n",
        "def login():\n",
        "    form = LoginForm()\n",
        "    if form.validate_on_submit():\n",
        "        if form.username.data == user.username and form.password.data == user.password:\n",
        "            login_user(user)\n",
        "            return redirect(url_for('protected'))\n",
        "    return render_template('login.html', form=form)\n",
        "\n",
        "@app.route('/protected')\n",
        "@login_required\n",
        "def protected():\n",
        "    return 'Hello, authenticated user!'\n",
        "\n",
        "@app.route('/logout')\n",
        "def logout():\n",
        "    logout_user()\n",
        "    return redirect(url_for('login'))\n",
        "\n",
        "if __name__ == '__main__':\n",
        "    app.run(debug=True)\n",
        "\n",
        "# Note - this code is running successfully on the local machine"
      ],
      "metadata": {
        "id": "nepQmNWIg1pZ"
      },
      "execution_count": null,
      "outputs": []
    },
    {
      "cell_type": "code",
      "source": [
        "# Q 43) .Describe the process of connecting a Flask app to a SQLite database using SQLAlchemy.\n",
        "\n",
        "from flask import Flask, render_template, request, redirect, url_for\n",
        "from flask_sqlalchemy import SQLAlchemy\n",
        "\n",
        "app = Flask(__name__)\n",
        "app.config['SQLALCHEMY_DATABASE_URI'] = 'sqlite:///mydatabase.db' # we have to own url, I didn't put my url because of unauthorized access\n",
        "app.config['SQLALCHEMY_TRACK_MODIFICATIONS'] = False\n",
        "db = SQLAlchemy(app)\n",
        "\n",
        "class User(db.Model):\n",
        "    id = db.Column(db.Integer, primary_key=True)\n",
        "    username = db.Column(db.String(80), unique=True, nullable=False)\n",
        "    email = db.Column(db.String(120), unique=True, nullable=False)\n",
        "\n",
        "    def __repr__(self):\n",
        "        return '<User %r>' % self.username\n",
        "\n",
        "@app.route('/')\n",
        "def index():\n",
        "    users = User.query.all()\n",
        "    return render_template('index.html', users=users)\n",
        "\n",
        "@app.route('/add-user', methods=['POST'])\n",
        "def add_user():\n",
        "    new_user = User(username=request.form['username'], email=request.form['email'])\n",
        "    db.session.add(new_user)\n",
        "    db.session.commit()\n",
        "    return redirect(url_for('index'))\n",
        "\n",
        "if __name__ == '__main__':\n",
        "    with app.app_context():\n",
        "        db.create_all()\n",
        "    app.run(debug=True)\n",
        "\n",
        "# note - this is running succefully in the local machine"
      ],
      "metadata": {
        "id": "AR8SCF1BhsxJ"
      },
      "execution_count": null,
      "outputs": []
    },
    {
      "cell_type": "code",
      "source": [
        "# Q 44) .How would you create a RESTful API endpoint in Flask that returns JSON data?\n",
        "\n",
        "from flask import Flask,request,render_template,jsonify\n",
        "\n",
        "app = Flask(__name__)\n",
        "\n",
        "@app.route('/')\n",
        "def home_page():\n",
        "    return render_template('index.html')\n",
        "\n",
        "@app.route('/math',methods = ['POST'])\n",
        "def math_ops():\n",
        "    if(request.method == 'POST'):\n",
        "        ops = request.form['operation']\n",
        "        num1 = int(request.form['num1'])\n",
        "        num2 = int(request.form['num2'])\n",
        "\n",
        "    if ops == 'add':\n",
        "        r = num1+num2\n",
        "        results = f\"the sum of {str(num1)} and {str(num2)} is {str(r)} \"\n",
        "\n",
        "\n",
        "    if ops == 'subtract':\n",
        "        r = num1-num2\n",
        "        results = f\"the subtract of {str(num1)} and {str(num2)} is {str(r)} \"\n",
        "\n",
        "    if ops == 'multiply':\n",
        "        r = num1*num2\n",
        "        results = f\"the multiply of {str(num1)} and {str(num2)} is {str(r)} \"\n",
        "\n",
        "\n",
        "    if ops == 'divide':\n",
        "        r = num1/num2\n",
        "        results = f\"the divide of {str(num1)} and {str(num2)} is {str(r)} \"\n",
        "\n",
        "    return render_template('result.html', result = results)\n",
        "\n",
        "\n",
        "@app.route('/postman_action',methods=['POST'])\n",
        "def math_ops1():\n",
        "    if(request.method == 'POST'):\n",
        "        ops = request.json['operation']\n",
        "        num1 = int(request.json['num1'])\n",
        "        num2 = int(request.json['num2'])\n",
        "        if ops == 'add':\n",
        "            r = num1+num2\n",
        "            result = \"The sum of \" + str(num1) + 'and ' + str(num2) + \"is \" + str(r)\n",
        "        if ops == 'subtract':\n",
        "            r = num1-num2\n",
        "            result = \"The subtract of \" + str(num1) + 'and ' + str(num2) + \"is \" + str(r)\n",
        "        if ops == 'multiply':\n",
        "            r = num1*num2\n",
        "            result = \"The multiply of \" + str(num1) + 'and ' + str(num2) + \"is \" + str(r)\n",
        "        if ops == 'divide':\n",
        "            r = num1/num2\n",
        "            result = \"The divide of \" + str(num1) + 'and ' + str(num2) + \"is \" + str(r)\n",
        "\n",
        "        return jsonify(result)\n",
        "\n",
        "\n",
        "if __name__==\"__main__\":\n",
        "    app.run(host=\"0.0.0.0\")\n"
      ],
      "metadata": {
        "id": "Yn-vE8C7lPO_"
      },
      "execution_count": null,
      "outputs": []
    },
    {
      "cell_type": "code",
      "source": [
        "# Q 45) Explain how to use Flask-WTF to create and validate forms in a Flask application\n",
        "'''\n",
        "\n",
        "Flask-WTF is an extension for Flask that integrates WTForms, a flexible forms validation and rendering library. Here's a step-by-step guide on\n",
        "how to use Flask-WTF to create and validate forms in a Flask application\n",
        "'''\n",
        "# Q 42) How can you implement user authentication in a Flask application?\n",
        "\n",
        "from flask import Flask, render_template, redirect, url_for, request\n",
        "from flask_login import LoginManager, UserMixin, login_user, logout_user, login_required\n",
        "from flask_wtf import FlaskForm\n",
        "from wtforms import StringField, PasswordField, SubmitField\n",
        "\n",
        "app = Flask(__name__)\n",
        "app.config['SECRET_KEY'] = 'secret_key_here'\n",
        "\n",
        "class User(UserMixin):\n",
        "    def __init__(self, username, password, email):\n",
        "        self.username = username\n",
        "        self.password = password\n",
        "        self.email = email\n",
        "\n",
        "user = User('john', 'password', 'john@example.com')\n",
        "\n",
        "class LoginForm(FlaskForm):\n",
        "    username = StringField('Username')\n",
        "    password = PasswordField('Password')\n",
        "    submit = SubmitField('Login')\n",
        "\n",
        "login_manager = LoginManager(app)\n",
        "\n",
        "@login_manager.user_loader\n",
        "def load_user(username):\n",
        "    if username == user.username:\n",
        "        return user\n",
        "    return None\n",
        "\n",
        "@app.route('/login', methods=['GET', 'POST'])\n",
        "def login():\n",
        "    form = LoginForm()\n",
        "    if form.validate_on_submit():\n",
        "        if form.username.data == user.username and form.password.data == user.password:\n",
        "            login_user(user)\n",
        "            return redirect(url_for('protected'))\n",
        "    return render_template('login.html', form=form)\n",
        "\n",
        "@app.route('/protected')\n",
        "@login_required\n",
        "def protected():\n",
        "    return 'Hello, authenticated user!'\n",
        "\n",
        "@app.route('/logout')\n",
        "def logout():\n",
        "    logout_user()\n",
        "    return redirect(url_for('login'))\n",
        "\n",
        "if __name__ == '__main__':\n",
        "    app.run(debug=True)\n",
        "\n",
        "# Note - this code is running successfully on the local machine"
      ],
      "metadata": {
        "id": "Laae1XHClkky"
      },
      "execution_count": null,
      "outputs": []
    },
    {
      "cell_type": "code",
      "source": [
        "# Q 46) .How can you implement file uploads in a Flask application?\n",
        "\n",
        "Here's a complete example of implementing file uploads in a Flask application:\n",
        "Python\n",
        "from flask import Flask, render_template, request, redirect, url_for\n",
        "from werkzeug.utils import secure_filename\n",
        "from flask_wtf import FlaskForm\n",
        "from wtforms import FileField, SubmitField\n",
        "\n",
        "app = Flask(__name__)\n",
        "app.config['SECRET_KEY'] = 'secret_key_here'\n",
        "app.config['UPLOAD_FOLDER'] = 'uploads/'\n",
        "app.config['ALLOWED_EXTENSIONS'] = {'txt', 'pdf', 'png', 'jpg', 'jpeg', 'gif'}\n",
        "\n",
        "class UploadForm(FlaskForm):\n",
        "    file = FileField('File')\n",
        "    submit = SubmitField('Upload')\n",
        "\n",
        "@app.route('/upload', methods=['GET', 'POST'])\n",
        "def upload_file():\n",
        "    form = UploadForm()\n",
        "    if form.validate_on_submit():\n",
        "        file = form.file.data\n",
        "        filename = secure_filename(file.filename)\n",
        "        file.save(os.path.join(app.config['UPLOAD_FOLDER'], filename))\n",
        "        return redirect(url_for('upload_file'))\n",
        "    return render_template('upload.html', form=form)\n",
        "\n",
        "if __name__ == '__main__':\n",
        "    app.run(debug=True)\n",
        "\n",
        "# Note - this code is running successfully on the local machine"
      ],
      "metadata": {
        "id": "P0WXvsPZl7oO"
      },
      "execution_count": null,
      "outputs": []
    },
    {
      "cell_type": "code",
      "source": [
        "# Q 47) Describe the steps to create a Flask blueprint and why you might use one.\n",
        "'''\n",
        "1)Modularization: Blueprints allow you to organize your application into smaller, independent modules, making it easier to manage and maintain.\n",
        "2)Reusability: Blueprints can be reused across multiple applications or projects.\n",
        "3)Namespace isolation: Blueprints provide a separate namespace for routes, templates, and static files, reducing conflicts and making it easier to manage resources.\n",
        "4)Easier testing: Blueprints make it easier to test individual components of your application in isolation.\n",
        "'''"
      ],
      "metadata": {
        "id": "cWp5KGERmRDy"
      },
      "execution_count": null,
      "outputs": []
    },
    {
      "cell_type": "code",
      "source": [
        "# Q 49)  Make a fully functional web application using flask, Mangodb. Signup,Signin page.And after successfully\n",
        "# login .Say hello Geeks message at webpage.\n",
        "\n",
        "from flask import Flask, render_template, request, redirect, url_for\n",
        "from flask_pymongo import PyMongo\n",
        "from werkzeug.security import generate_password_hash, check_password_hash\n",
        "\n",
        "app = Flask(__name__)\n",
        "app.config[\"MONGO_URI\"] = \"mongodb://localhost:27017/myDatabase\"\n",
        "mongo = PyMongo(app)\n",
        "\n",
        "@app.route(\"/\")\n",
        "def home():\n",
        "    return render_template(\"home.html\")\n",
        "\n",
        "@app.route(\"/signup\", methods=[\"POST\", \"GET\"])\n",
        "def signup():\n",
        "    if request.method == \"POST\":\n",
        "        username = request.form[\"username\"]\n",
        "        password = request.form[\"password\"]\n",
        "        mongo.db.users.insert_one({\"username\": username, \"password\": generate_password_hash(password)})\n",
        "        return redirect(url_for(\"signin\"))\n",
        "    return render_template(\"signup.html\")\n",
        "\n",
        "@app.route(\"/signin\", methods=[\"POST\", \"GET\"])\n",
        "def signin():\n",
        "    if request.method == \"POST\":\n",
        "        username = request.form[\"username\"]\n",
        "        password = request.form[\"password\"]\n",
        "        user = mongo.db.users.find_one({\"username\": username})\n",
        "        if user and check_password_hash(user[\"password\"], password):\n",
        "            return redirect(url_for(\"hello\"))\n",
        "    return render_template(\"signin.html\")\n",
        "\n",
        "@app.route(\"/hello\")\n",
        "def hello():\n",
        "    return \"Hello Geeks!\"\n",
        "\n",
        "if __name__ == \"__main__\":\n",
        "    app.run(debug=True)\n",
        "\n",
        "# note - this code run succesfully in the local machine\n"
      ],
      "metadata": {
        "id": "7i4jvB-lmxZT"
      },
      "execution_count": null,
      "outputs": []
    }
  ]
}