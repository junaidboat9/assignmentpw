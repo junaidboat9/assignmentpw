{
 "cells": [
  {
   "cell_type": "markdown",
   "id": "98dd42cb-15ae-4021-a9ba-2d33f8b83ee0",
   "metadata": {},
   "source": [
    "### Assignment File Handling, Exception handling and multitasking in Python"
   ]
  },
  {
   "cell_type": "markdown",
   "id": "0acd86d4-eaea-436a-a012-b396d5dd7733",
   "metadata": {},
   "source": [
    "Q1. Write a code to read contents of a file in Python"
   ]
  },
  {
   "cell_type": "code",
   "execution_count": 4,
   "id": "b3948e16-a977-4046-a8b9-6c3ab0b75e5f",
   "metadata": {},
   "outputs": [
    {
     "data": {
      "text/plain": [
       "'Hello, World!\\nThis is a test file.\\n I am creating a text file in python using python code.\\n Data Science is a very interesting field to explore.'"
      ]
     },
     "execution_count": 4,
     "metadata": {},
     "output_type": "execute_result"
    }
   ],
   "source": [
    "def read_file(file_name):\n",
    "    try:\n",
    "        with open(file_name, 'r' ) as file:\n",
    "            file_contents=file.read()\n",
    "            return file_contents\n",
    "    except FileNotFoundError as e:\n",
    "        print(f\"Error:{file_name}, e\")\n",
    "\n",
    "read_file(\"example.txt\")        "
   ]
  },
  {
   "cell_type": "markdown",
   "id": "f51dd61d-99b3-4708-91fb-e731880cd721",
   "metadata": {},
   "source": [
    "Q2. Write a code to write to a file in python"
   ]
  },
  {
   "cell_type": "code",
   "execution_count": 2,
   "id": "e6029ffd-2f14-4904-9125-385d2cb1f971",
   "metadata": {},
   "outputs": [
    {
     "name": "stdout",
     "output_type": "stream",
     "text": [
      "Content has been successfully written to 'example.txt'.\n"
     ]
    }
   ],
   "source": [
    "def write_to_file(filename, content):\n",
    "    try:\n",
    "        with open(filename, 'w') as file:\n",
    "            file.write(content)\n",
    "        print(f\"Content has been successfully written to '{filename}'.\")\n",
    "    \n",
    "    except Exception as e:\n",
    "        print(f\"Error: {e}\")\n",
    "\n",
    "\n",
    "filename = \"example.txt\"  \n",
    "content = \"Hello, World!\\nThis is a test file.\\n I am creating a text file in python using python code.\\n Data Science is a very interesting field to explore.\"\n",
    "write_to_file(filename, content)"
   ]
  },
  {
   "cell_type": "markdown",
   "id": "ef027266-6164-4990-b445-0204fc3bd7bb",
   "metadata": {},
   "source": [
    "Q3. Write a code to append to a file in Python"
   ]
  },
  {
   "cell_type": "code",
   "execution_count": 5,
   "id": "a4aa4528-7d12-490e-9964-ccf11e026b1a",
   "metadata": {},
   "outputs": [
    {
     "name": "stdout",
     "output_type": "stream",
     "text": [
      "New content has been successfully appended to 'example.txt'.\n"
     ]
    }
   ],
   "source": [
    "def append_to_file(filename, new_content):\n",
    "    try:\n",
    "        with open(filename, 'a') as file:\n",
    "            file.write(new_content)\n",
    "        print(f\"New content has been successfully appended to '{filename}'.\")\n",
    "    except Exception as e:\n",
    "        print(f\"Error: {e}\")\n",
    "\n",
    "filename = \"example.txt\"  \n",
    "new_content = \"\\nThis is an additional content to check the append mode.\"\n",
    "append_to_file(filename, new_content)\n"
   ]
  },
  {
   "cell_type": "markdown",
   "id": "7312631b-6082-45d6-8c37-59570d7ee1ac",
   "metadata": {},
   "source": [
    "Q4. Write a code to read binary file in Python."
   ]
  },
  {
   "cell_type": "code",
   "execution_count": 9,
   "id": "4578435d-f955-4394-86d1-2b05b4793346",
   "metadata": {},
   "outputs": [
    {
     "data": {
      "text/plain": [
       "b'Hello, World!'"
      ]
     },
     "execution_count": 9,
     "metadata": {},
     "output_type": "execute_result"
    }
   ],
   "source": [
    "binary_data = b'\\x48\\x65\\x6c\\x6c\\x6f\\x2c\\x20\\x57\\x6f\\x72\\x6c\\x64\\x21'\n",
    "with open (\"eg_binfile.bin\", \"wb\") as file:\n",
    "    file.write(binary_data)\n",
    "    \n",
    "def read_binaryfile(filename):\n",
    "    try:\n",
    "        with open(filename, \"rb\") as f:\n",
    "            read_content=f.read()\n",
    "            return read_content\n",
    "    except Exception as e:\n",
    "        print(f\"Error:{e}\")\n",
    "\n",
    "read_binaryfile(\"eg_binfile.bin\")"
   ]
  },
  {
   "cell_type": "markdown",
   "id": "03f82095-41a9-41a1-a9a9-642b4e2eba7e",
   "metadata": {},
   "source": [
    "Q5. What happens if we don't use 'with' keyword with 'open' in Python?"
   ]
  },
  {
   "cell_type": "markdown",
   "id": "b66cdc23-5c9a-472f-a54e-6a70b31aa598",
   "metadata": {},
   "source": [
    "The usage of 'with' keyword ensures the file is closed and handled properly whereas without with statement if we just use 'open' then we need to explicilty close the file."
   ]
  },
  {
   "cell_type": "code",
   "execution_count": 10,
   "id": "0eec73a2-217f-440b-b60c-8cf5a8c3d2cc",
   "metadata": {},
   "outputs": [
    {
     "name": "stdout",
     "output_type": "stream",
     "text": [
      "Hello, World!\n",
      "This is a test file.\n",
      " I am creating a text file in python using python code.\n",
      " Data Science is a very interesting field to explore.\n",
      "This is an additional content to check the append mode.\n"
     ]
    }
   ],
   "source": [
    "file = open(\"example.txt\", \"r\")\n",
    "\n",
    "try:\n",
    "    content = file.read()\n",
    "    print(content)\n",
    "finally:\n",
    "    file.close()"
   ]
  },
  {
   "cell_type": "markdown",
   "id": "736aece5-1b51-4fe9-8a39-29d8dc7b4bb5",
   "metadata": {},
   "source": [
    "Q6. Explain the concept of buffering in file handling and how it helps in improving read and write operations."
   ]
  },
  {
   "cell_type": "markdown",
   "id": "85d08cac-399c-4dc2-9ec9-5a90f8ceaeba",
   "metadata": {},
   "source": [
    "Buffering in file handling refers to the practice of temporarily storing data in memory before reading from or writing to a file. Instead of reading or writing one byte at a time, buffering allows larger chunks of data to be processed at once, which can significantly improve the efficiency of read and write operations.\n",
    "\n",
    "Buffering in file handling plays a crucial role in optimizing read and write operations by reducing I/O overhead, minimizing system calls, and optimizing disk access, leading to improved performance and efficiency"
   ]
  },
  {
   "cell_type": "code",
   "execution_count": 13,
   "id": "7ca4ea55-42f4-47a2-bab2-26ab9e66faf0",
   "metadata": {},
   "outputs": [
    {
     "name": "stdout",
     "output_type": "stream",
     "text": [
      "Hello, World!\n",
      "This is a test file.\n",
      " I am creating a text file in python using python code.\n",
      " Data Science is a very interesting field to explore.\n",
      "This is an additional content to check the append mode.\n"
     ]
    }
   ],
   "source": [
    "# 0: No buffering (unbuffered)\n",
    "# 1: Line buffering (buffered by line)\n",
    "# Any positive integer: Buffer size in bytes (buffered by size)\n",
    "# -1 (default): Use the system default buffering behaviour\n",
    "\n",
    "with open(\"example.txt\", 'r', buffering=1) as file:\n",
    "    print(file.read())"
   ]
  },
  {
   "cell_type": "markdown",
   "id": "e42c151f-abaa-479e-ba76-42a7551f538f",
   "metadata": {},
   "source": [
    "Q7. Describe the steps involved in implementing buffered file handling in a programming language of your choice."
   ]
  },
  {
   "cell_type": "code",
   "execution_count": 16,
   "id": "4ea27592-574c-472d-8cb2-169efccf133d",
   "metadata": {},
   "outputs": [
    {
     "name": "stdout",
     "output_type": "stream",
     "text": [
      "Data written to output file.\n"
     ]
    }
   ],
   "source": [
    "def buffered_file_handling(filename):\n",
    "    try:\n",
    "        # Open the file with buffered I/O (line buffering)\n",
    "        with open(filename, 'r', buffering=1) as file:\n",
    "            data = file.read()\n",
    "\n",
    "            # Write data to the file with bufferd I/O (byte buffering)\n",
    "            with open(\"output.txt\", \"w\", buffering=4096) as output_file:\n",
    "                output_file.write(data)\n",
    "                print(\"Data written to output file.\")\n",
    "\n",
    "    except FileNotFoundError:\n",
    "        print(f\"Error: File '{filename}' not found.\")\n",
    "    except Exception as e:\n",
    "        print(f\"Error: {e}\")\n",
    "\n",
    "filename = \"example.txt\"  \n",
    "buffered_file_handling(filename)\n"
   ]
  },
  {
   "cell_type": "markdown",
   "id": "30be247d-41ee-42b8-ae8c-6939ea14ade8",
   "metadata": {},
   "source": [
    "Q8. Write a Python function to read a text file using buffered reading and return its content."
   ]
  },
  {
   "cell_type": "code",
   "execution_count": 20,
   "id": "de4b4452-7a21-4ea6-b6b5-38dceb8ca0e7",
   "metadata": {},
   "outputs": [
    {
     "data": {
      "text/plain": [
       "'Hello, World!\\nThis is a test file.\\n I am creating a text file in python using python code.\\n Data Science is a very interesting field to explore.\\nThis is an additional content to check the append mode.'"
      ]
     },
     "execution_count": 20,
     "metadata": {},
     "output_type": "execute_result"
    }
   ],
   "source": [
    "def readtext_buffered(file_name):\n",
    "    try:\n",
    "        with open(file_name, \"r\", buffering=2048) as f: #byte buffering \n",
    "            return f.read()\n",
    "    except Exception as e:\n",
    "        print(f\"Error: {e}\")\n",
    "\n",
    "readtext_buffered(\"example.txt\")   \n",
    "\n",
    "# 0: No buffering (unbuffered)\n",
    "# 1: Line buffering (buffered by line)\n",
    "# Any positive integer: Buffer size in bytes (buffered by size)\n",
    "# -1 (default): Use the system default buffering behaviour"
   ]
  },
  {
   "cell_type": "markdown",
   "id": "4b7570c8-0743-4cee-978b-95d7d68dc39a",
   "metadata": {},
   "source": [
    "Q9. What are the advantages of using buffered reading over direct file reading in Python?"
   ]
  },
  {
   "cell_type": "markdown",
   "id": "8fc7486d-a150-4400-a069-6c27d3a5633d",
   "metadata": {},
   "source": [
    "Buffered reading in Python, where data is read from a file in larger chunks into an internal buffer before being processed, offers several advantages over direct file reading:\n",
    "1. Improved performance\n",
    "2. Reduced Overhead\n",
    "3. Efficient use of resources\n",
    "4. Smoothing I/O performance\n",
    "5. Flexibilityin processing"
   ]
  },
  {
   "cell_type": "markdown",
   "id": "e4c0ab10-d47b-4326-95df-34dd7630f39d",
   "metadata": {},
   "source": [
    "Q10. Write a python code snippet to append content to a file using buffered writing."
   ]
  },
  {
   "cell_type": "code",
   "execution_count": 6,
   "id": "98ce57e8-8498-4ccb-843c-3a7c391d81a9",
   "metadata": {},
   "outputs": [],
   "source": [
    "def file_append(filename, content):\n",
    "    try:\n",
    "        with open(filename, \"a\", buffering= 1) as f:\n",
    "            f.write(content)\n",
    "    except Exception as e:\n",
    "        print(f\"Error:{e}\")\n",
    "\n",
    "content=\"\\n I am trying to append a file using buffered writing by line.\\nFor using bufferd writing line wise we keep buffering=1\"\n",
    "file_append(\"example.txt\", content)"
   ]
  },
  {
   "cell_type": "markdown",
   "id": "37091b7d-4d8f-4f0a-8ada-3129e3c9c38d",
   "metadata": {},
   "source": [
    "Q11. Write a Python function that demonstrates the use of close method on a file."
   ]
  },
  {
   "cell_type": "code",
   "execution_count": 7,
   "id": "46ffcc9f-a9be-4398-a10f-2177d8019fc5",
   "metadata": {},
   "outputs": [
    {
     "name": "stdout",
     "output_type": "stream",
     "text": [
      "Content has been written to the file.\n",
      "File has been closed.\n"
     ]
    }
   ],
   "source": [
    "def demonstrate_file_close(filename, content):\n",
    "    try:\n",
    "        # Open the file in write mode\n",
    "        file = open(filename, 'w')\n",
    "        file.write(content)\n",
    "        print(\"Content has been written to the file.\")\n",
    "\n",
    "        file.close()\n",
    "        print(\"File has been closed.\")\n",
    "    except Exception as e:\n",
    "        print(f\"Error: {e}\")\n",
    "\n",
    "filename = \"test.txt\" \n",
    "content = \"Hello, World!\\nThis is a test file.\\n To demonstrate close method on file\"\n",
    "demonstrate_file_close(filename, content)"
   ]
  },
  {
   "cell_type": "markdown",
   "id": "be9e2a5d-b996-4c46-88aa-276b6b4ab4fc",
   "metadata": {},
   "source": [
    "Q.12 Create a python function to showcase the detach() method on a file object."
   ]
  },
  {
   "cell_type": "code",
   "execution_count": 8,
   "id": "b83d0f0c-6b47-4064-954f-96170aea7f94",
   "metadata": {},
   "outputs": [
    {
     "name": "stdout",
     "output_type": "stream",
     "text": [
      "Content of the file before detach:\n",
      "Hello, World!\n",
      "This is a test file.\n",
      " I am creating a text file in python using python code.\n",
      " Data Science is a very interesting field to explore.\n",
      "This is an additional content to check the append mode.I am trying to append a file using buffered writing by line.\n",
      " for using bufferd writing line wise we keep buffering=1\n",
      " I am trying to append a file using buffered writing by line.\n",
      "For using bufferd writing line wise we keep buffering=1\n",
      "File has been detached.\n",
      "Attempting to read from the file object after detachment:\n",
      "ValueError: underlying buffer has been detached\n",
      "Detached file descriptor has been closed.\n"
     ]
    }
   ],
   "source": [
    "def demonstrate_file_detach(filename):\n",
    "    try:\n",
    "        # Open the file in read mode\n",
    "        file = open(filename, 'r')\n",
    "\n",
    "        # Read and print the content of the file\n",
    "        print(\"Content of the file before detach:\")\n",
    "        print(file.read())\n",
    "\n",
    "        # Detach the file descriptor from the file object\n",
    "        file_descriptor = file.detach()\n",
    "        print(\"File has been detached.\")\n",
    "\n",
    "        # Attempting to read from the file object after detachment\n",
    "        try:\n",
    "            # This will raise ValueError because the file object has no file descriptor\n",
    "            print(\"Attempting to read from the file object after detachment:\")\n",
    "            print(file.read())\n",
    "        except ValueError as e:\n",
    "            print(f\"ValueError: {e}\")\n",
    "\n",
    "        # Close the detached file descriptor\n",
    "        file_descriptor.close()\n",
    "        print(\"Detached file descriptor has been closed.\")\n",
    "    except FileNotFoundError:\n",
    "        print(f\"Error: File '{filename}' not found.\")\n",
    "    except Exception as e:\n",
    "        print(f\"Error: {e}\")\n",
    "\n",
    "\n",
    "filename = \"example.txt\"  \n",
    "demonstrate_file_detach(filename)\n"
   ]
  },
  {
   "cell_type": "markdown",
   "id": "016fa29e-c1d2-4561-ab6c-c0b22e5edcb2",
   "metadata": {},
   "source": [
    "Q13. Write a Python function to demonstrate the use of seek() method to change the file position."
   ]
  },
  {
   "cell_type": "code",
   "execution_count": 8,
   "id": "f0c7e5df-7584-495f-a118-a1d5d8f0a11b",
   "metadata": {},
   "outputs": [
    {
     "name": "stdout",
     "output_type": "stream",
     "text": [
      "Content of the file before seek:\n",
      "Hello, World!\n",
      "This is a test file.\n",
      " I am creating a text file in python using python code.\n",
      " Data Science is a very interesting field to explore.\n",
      "This is an additional content to check the append mode.I am trying to append a file using buffered writing by line.\n",
      " for using bufferd writing line wise we keep buffering=1\n",
      " I am trying to append a file using buffered writing by line.\n",
      "For using bufferd writing line wise we keep buffering=1\n",
      "\n",
      "File position after seeking to the beginning of the file:\n",
      "Hello, World!\n",
      "This is a test file.\n",
      " I am creating a text file in python using python code.\n",
      " Data Science is a very interesting field to explore.\n",
      "This is an additional content to check the append mode.I am trying to append a file using buffered writing by line.\n",
      " for using bufferd writing line wise we keep buffering=1\n",
      " I am trying to append a file using buffered writing by line.\n",
      "For using bufferd writing line wise we keep buffering=1\n",
      "\n",
      "File position after seeking 20 bytes from the current position:\n",
      "s a test file.\n",
      " I am creating a text file in python using python code.\n",
      " Data Science is a very interesting field to explore.\n",
      "This is an additional content to check the append mode.I am trying to append a file using buffered writing by line.\n",
      " for using bufferd writing line wise we keep buffering=1\n",
      " I am trying to append a file using buffered writing by line.\n",
      "For using bufferd writing line wise we keep buffering=1\n",
      "Error: negative seek position -10\n"
     ]
    }
   ],
   "source": [
    "def demonstrate_file_seek(filename):\n",
    "    try:\n",
    "        # Open the file in read mode\n",
    "        with open(filename, 'r') as file:\n",
    "            # Read and print the content of the file\n",
    "            print(\"Content of the file before seek:\")\n",
    "            print(file.read())\n",
    "\n",
    "            # Move the file pointer to the beginning of the file (absolute seek)\n",
    "            file.seek(0, 0)\n",
    "            print(\"\\nFile position after seeking to the beginning of the file:\")\n",
    "\n",
    "            # Read and print the content of the file from the new position\n",
    "            print(file.read())\n",
    "\n",
    "            # Move the file pointer to the 10th byte from the current position (relative seek)\n",
    "            file.seek(20, 0)\n",
    "            print(\"\\nFile position after seeking 20 bytes from the current position:\")\n",
    "\n",
    "            # Read and print the content of the file from the new position\n",
    "            print(file.read())\n",
    "\n",
    "            # Move the file pointer to the end of the file (end-relative seek)\n",
    "            file.seek(-10, 0)\n",
    "            print(\"\\nFile position after seeking 10 bytes before the end of the file:\")\n",
    "\n",
    "            # Read and print the content of the file from the new position\n",
    "            print(file.read())\n",
    "\n",
    "    except FileNotFoundError:\n",
    "        print(f\"Error: File '{filename}' not found.\")\n",
    "    except Exception as e:\n",
    "        print(f\"Error: {e}\")\n",
    "\n",
    "\n",
    "filename = \"example.txt\"  \n",
    "demonstrate_file_seek(filename)\n"
   ]
  },
  {
   "cell_type": "markdown",
   "id": "ae215548-4280-4e5b-bb8c-9458ed6866ca",
   "metadata": {},
   "source": [
    "Q14. Create a python function to return the file descriptor(integer number) of a file using the fileno() method"
   ]
  },
  {
   "cell_type": "code",
   "execution_count": 11,
   "id": "45c1fee5-29e9-494d-bc04-d160645f0563",
   "metadata": {},
   "outputs": [
    {
     "name": "stdout",
     "output_type": "stream",
     "text": [
      " File descriptor of example.txt is: 58\n"
     ]
    }
   ],
   "source": [
    "def file_descriptor(filename):\n",
    "    try:\n",
    "        with open(filename,\"r\") as f:\n",
    "            filedescriptor=f.fileno()\n",
    "            return filedescriptor\n",
    "    except FileNotFoundError:\n",
    "        print(f\"Error:{FileNotFoundError}\")\n",
    "    except Exception as e1:\n",
    "        print(f\"Error:{e1}\")\n",
    "\n",
    "fd=file_descriptor(\"example.txt\")\n",
    "print(f\" File descriptor of {filename} is: {fd}\")"
   ]
  },
  {
   "cell_type": "markdown",
   "id": "fe5e054a-fc2a-43aa-b4e0-b30db166dcf3",
   "metadata": {},
   "source": [
    "Q15. Write a python function to return the current position of the file's object using the tell() method."
   ]
  },
  {
   "cell_type": "code",
   "execution_count": 17,
   "id": "088ea360-e667-437f-914f-f0ecae982175",
   "metadata": {},
   "outputs": [
    {
     "name": "stdout",
     "output_type": "stream",
     "text": [
      " Current position of file object is: 20\n"
     ]
    }
   ],
   "source": [
    "def file_currentposn(filename):\n",
    "    try:\n",
    "        with open(filename,\"r\") as f:\n",
    "            f.seek(20,0)\n",
    "            current_position=f.tell()\n",
    "            return current_position\n",
    "    except FileNotFoundError:\n",
    "        print(f\"Error:{FileNotFoundError}\")\n",
    "    except Exception as e1:\n",
    "        print(f\"Error:{e1}\")\n",
    "\n",
    "posn=file_currentposn(\"example.txt\")\n",
    "print(f\" Current position of file object is: {posn}\")"
   ]
  },
  {
   "cell_type": "markdown",
   "id": "35259fa0-c938-4995-bd4e-fa47d9399e61",
   "metadata": {},
   "source": [
    "Q16. Create a Python program that logs a message to a file using logging module."
   ]
  },
  {
   "cell_type": "code",
   "execution_count": 1,
   "id": "c54fb9d9-69b5-43ea-8039-6b140f44e800",
   "metadata": {},
   "outputs": [],
   "source": [
    "import logging\n",
    "logging.basicConfig(filename = \"prog.log\" , level = logging.DEBUG ,format = '%(asctime)s %(levelname)s %(message)s'  )\n",
    "logging.debug(\"This message is for debuuging\")\n",
    "logging.info(\"Log the message with INFO level\")\n",
    "logging.shutdown()"
   ]
  },
  {
   "cell_type": "markdown",
   "id": "d7aabd9f-ea5d-4ab0-8890-af7a731e8169",
   "metadata": {},
   "source": [
    "Q17. Explain the importance of logging levels in python's logging module."
   ]
  },
  {
   "cell_type": "markdown",
   "id": "2ae9aee6-8d7d-40b0-a1de-fc71c4228eec",
   "metadata": {},
   "source": [
    "1. DEBUG: Detailed information, typically used for debugging purposes.\n",
    "2. INFO: General information about the program's operation.\n",
    "3. WARNING: Indicates a potential issue or non-critical problem that should be addressed.\n",
    "4. ERROR: Indicates a serious problem that might cause the program to malfunction.\n",
    "5. CRITICAL: Indicates a critical error that might lead to the termination of the program."
   ]
  },
  {
   "cell_type": "markdown",
   "id": "5b9f3ea1-5a39-4e4d-b1f8-2040e0bc4309",
   "metadata": {},
   "source": [
    "Q18. Create a python program that uses the debugger to find the value of a variable inside a loop"
   ]
  },
  {
   "cell_type": "code",
   "execution_count": 1,
   "id": "d7d22ce5-e0f9-48f6-ac01-565eaa592553",
   "metadata": {},
   "outputs": [
    {
     "name": "stdout",
     "output_type": "stream",
     "text": [
      "1 2 3 4 \n",
      "1 2 3 4 \n",
      "1 2 3 4 \n",
      "1 2 3 4 \n"
     ]
    }
   ],
   "source": [
    "import logging\n",
    "logging.basicConfig(filename=\"loop.log\", level=logging.DEBUG, format= '%(asctime)s %(levelname)s %(message)s')\n",
    "\n",
    "for i in range(1,5):\n",
    "    logging.debug(f\"The current row is {i}\")\n",
    "    for j in range(1,5):\n",
    "        logging.debug(f\"The current column is {j}\")\n",
    "        print(j, end=\" \")\n",
    "    print()"
   ]
  },
  {
   "cell_type": "markdown",
   "id": "92af32ab-8b1b-4cd0-8de1-ab1b364cbf19",
   "metadata": {},
   "source": [
    "Q19. Create a python program that demonstrates setting breakpoints and inspecting variables using the debugger."
   ]
  },
  {
   "cell_type": "code",
   "execution_count": 5,
   "id": "a6e2794d-220e-49c0-9a3e-5b020ecd8fc3",
   "metadata": {},
   "outputs": [
    {
     "name": "stdout",
     "output_type": "stream",
     "text": [
      "> \u001b[0;32m/tmp/ipykernel_2661/1482229908.py\u001b[0m(12)\u001b[0;36mmain\u001b[0;34m()\u001b[0m\n",
      "\u001b[0;32m     10 \u001b[0;31m\u001b[0;34m\u001b[0m\u001b[0m\n",
      "\u001b[0m\u001b[0;32m     11 \u001b[0;31m    \u001b[0;31m# Variables for demonstration\u001b[0m\u001b[0;34m\u001b[0m\u001b[0;34m\u001b[0m\u001b[0m\n",
      "\u001b[0m\u001b[0;32m---> 12 \u001b[0;31m    \u001b[0mx\u001b[0m \u001b[0;34m=\u001b[0m \u001b[0;36m10\u001b[0m\u001b[0;34m\u001b[0m\u001b[0;34m\u001b[0m\u001b[0m\n",
      "\u001b[0m\u001b[0;32m     13 \u001b[0;31m    \u001b[0my\u001b[0m \u001b[0;34m=\u001b[0m \u001b[0;36m20\u001b[0m\u001b[0;34m\u001b[0m\u001b[0;34m\u001b[0m\u001b[0m\n",
      "\u001b[0m\u001b[0;32m     14 \u001b[0;31m\u001b[0;34m\u001b[0m\u001b[0m\n",
      "\u001b[0m\n"
     ]
    },
    {
     "name": "stdin",
     "output_type": "stream",
     "text": [
      "ipdb>  n\n"
     ]
    },
    {
     "name": "stdout",
     "output_type": "stream",
     "text": [
      "> \u001b[0;32m/tmp/ipykernel_2661/1482229908.py\u001b[0m(13)\u001b[0;36mmain\u001b[0;34m()\u001b[0m\n",
      "\u001b[0;32m     11 \u001b[0;31m    \u001b[0;31m# Variables for demonstration\u001b[0m\u001b[0;34m\u001b[0m\u001b[0;34m\u001b[0m\u001b[0m\n",
      "\u001b[0m\u001b[0;32m     12 \u001b[0;31m    \u001b[0mx\u001b[0m \u001b[0;34m=\u001b[0m \u001b[0;36m10\u001b[0m\u001b[0;34m\u001b[0m\u001b[0;34m\u001b[0m\u001b[0m\n",
      "\u001b[0m\u001b[0;32m---> 13 \u001b[0;31m    \u001b[0my\u001b[0m \u001b[0;34m=\u001b[0m \u001b[0;36m20\u001b[0m\u001b[0;34m\u001b[0m\u001b[0;34m\u001b[0m\u001b[0m\n",
      "\u001b[0m\u001b[0;32m     14 \u001b[0;31m\u001b[0;34m\u001b[0m\u001b[0m\n",
      "\u001b[0m\u001b[0;32m     15 \u001b[0;31m    \u001b[0;31m# Call the function and calculate the sum\u001b[0m\u001b[0;34m\u001b[0m\u001b[0;34m\u001b[0m\u001b[0m\n",
      "\u001b[0m\n"
     ]
    },
    {
     "name": "stdin",
     "output_type": "stream",
     "text": [
      "ipdb>  c\n"
     ]
    },
    {
     "name": "stdout",
     "output_type": "stream",
     "text": [
      "Sum: 30\n"
     ]
    }
   ],
   "source": [
    "import pdb\n",
    "\n",
    "def calculate_sum(a, b):\n",
    "    result = a + b\n",
    "    return result\n",
    "\n",
    "def main():\n",
    "    # Set a breakpoint\n",
    "    pdb.set_trace()\n",
    "\n",
    "    # Variables for demonstration\n",
    "    x = 10\n",
    "    y = 20\n",
    "\n",
    "    # Call the function and calculate the sum\n",
    "    sum_result = calculate_sum(x, y)\n",
    "\n",
    "    # Print the result\n",
    "    print(\"Sum:\", sum_result)\n",
    "\n",
    "if __name__ == \"__main__\":\n",
    "    main()"
   ]
  },
  {
   "cell_type": "markdown",
   "id": "d98e5ace-d04b-4d21-9424-22bc7b6619be",
   "metadata": {},
   "source": [
    "Q20. Create a python program that uses the debugger to trace a recurrsive function."
   ]
  },
  {
   "cell_type": "code",
   "execution_count": 6,
   "id": "316e1c5f-e6c7-4ccc-bc43-22e5230af843",
   "metadata": {},
   "outputs": [
    {
     "name": "stderr",
     "output_type": "stream",
     "text": [
      "--- Logging error ---\n",
      "Traceback (most recent call last):\n",
      "  File \"/opt/conda/lib/python3.10/logging/__init__.py\", line 440, in format\n",
      "    return self._format(record)\n",
      "  File \"/opt/conda/lib/python3.10/logging/__init__.py\", line 436, in _format\n",
      "    return self._fmt % values\n",
      "KeyError: ' message'\n",
      "\n",
      "During handling of the above exception, another exception occurred:\n",
      "\n",
      "Traceback (most recent call last):\n",
      "  File \"/opt/conda/lib/python3.10/logging/__init__.py\", line 1100, in emit\n",
      "    msg = self.format(record)\n",
      "  File \"/opt/conda/lib/python3.10/logging/__init__.py\", line 943, in format\n",
      "    return fmt.format(record)\n",
      "  File \"/opt/conda/lib/python3.10/logging/__init__.py\", line 681, in format\n",
      "    s = self.formatMessage(record)\n",
      "  File \"/opt/conda/lib/python3.10/logging/__init__.py\", line 650, in formatMessage\n",
      "    return self._style.format(record)\n",
      "  File \"/opt/conda/lib/python3.10/logging/__init__.py\", line 442, in format\n",
      "    raise ValueError('Formatting field not found in record: %s' % e)\n",
      "ValueError: Formatting field not found in record: ' message'\n",
      "Call stack:\n",
      "  File \"/opt/conda/lib/python3.10/runpy.py\", line 196, in _run_module_as_main\n",
      "    return _run_code(code, main_globals, None,\n",
      "  File \"/opt/conda/lib/python3.10/runpy.py\", line 86, in _run_code\n",
      "    exec(code, run_globals)\n",
      "  File \"/opt/conda/lib/python3.10/site-packages/ipykernel_launcher.py\", line 17, in <module>\n",
      "    app.launch_new_instance()\n",
      "  File \"/opt/conda/lib/python3.10/site-packages/traitlets/config/application.py\", line 992, in launch_instance\n",
      "    app.start()\n",
      "  File \"/opt/conda/lib/python3.10/site-packages/ipykernel/kernelapp.py\", line 711, in start\n",
      "    self.io_loop.start()\n",
      "  File \"/opt/conda/lib/python3.10/site-packages/tornado/platform/asyncio.py\", line 199, in start\n",
      "    self.asyncio_loop.run_forever()\n",
      "  File \"/opt/conda/lib/python3.10/asyncio/base_events.py\", line 603, in run_forever\n",
      "    self._run_once()\n",
      "  File \"/opt/conda/lib/python3.10/asyncio/base_events.py\", line 1899, in _run_once\n",
      "    handle._run()\n",
      "  File \"/opt/conda/lib/python3.10/asyncio/events.py\", line 80, in _run\n",
      "    self._context.run(self._callback, *self._args)\n",
      "  File \"/opt/conda/lib/python3.10/site-packages/ipykernel/kernelbase.py\", line 510, in dispatch_queue\n",
      "    await self.process_one()\n",
      "  File \"/opt/conda/lib/python3.10/site-packages/ipykernel/kernelbase.py\", line 499, in process_one\n",
      "    await dispatch(*args)\n",
      "  File \"/opt/conda/lib/python3.10/site-packages/ipykernel/kernelbase.py\", line 406, in dispatch_shell\n",
      "    await result\n",
      "  File \"/opt/conda/lib/python3.10/site-packages/ipykernel/kernelbase.py\", line 729, in execute_request\n",
      "    reply_content = await reply_content\n",
      "  File \"/opt/conda/lib/python3.10/site-packages/ipykernel/ipkernel.py\", line 411, in do_execute\n",
      "    res = shell.run_cell(\n",
      "  File \"/opt/conda/lib/python3.10/site-packages/ipykernel/zmqshell.py\", line 531, in run_cell\n",
      "    return super().run_cell(*args, **kwargs)\n",
      "  File \"/opt/conda/lib/python3.10/site-packages/IPython/core/interactiveshell.py\", line 2940, in run_cell\n",
      "    result = self._run_cell(\n",
      "  File \"/opt/conda/lib/python3.10/site-packages/IPython/core/interactiveshell.py\", line 2995, in _run_cell\n",
      "    return runner(coro)\n",
      "  File \"/opt/conda/lib/python3.10/site-packages/IPython/core/async_helpers.py\", line 129, in _pseudo_sync_runner\n",
      "    coro.send(None)\n",
      "  File \"/opt/conda/lib/python3.10/site-packages/IPython/core/interactiveshell.py\", line 3194, in run_cell_async\n",
      "    has_raised = await self.run_ast_nodes(code_ast.body, cell_name,\n",
      "  File \"/opt/conda/lib/python3.10/site-packages/IPython/core/interactiveshell.py\", line 3373, in run_ast_nodes\n",
      "    if await self.run_code(code, result, async_=asy):\n",
      "  File \"/opt/conda/lib/python3.10/site-packages/IPython/core/interactiveshell.py\", line 3433, in run_code\n",
      "    exec(code_obj, self.user_global_ns, self.user_ns)\n",
      "  File \"/tmp/ipykernel_84/227960678.py\", line 15, in <module>\n",
      "    fact(6)\n",
      "  File \"/tmp/ipykernel_84/227960678.py\", line 11, in fact\n",
      "    fac=n*fact(n-1)\n",
      "  File \"/tmp/ipykernel_84/227960678.py\", line 11, in fact\n",
      "    fac=n*fact(n-1)\n",
      "  File \"/tmp/ipykernel_84/227960678.py\", line 11, in fact\n",
      "    fac=n*fact(n-1)\n",
      "  [Previous line repeated 1 more time]\n",
      "  File \"/tmp/ipykernel_84/227960678.py\", line 12, in fact\n",
      "    logging.info(f\"The factorial is calculated using recurrsive function. Here {n}*{n-1}!\")\n",
      "Message: 'The factorial is calculated using recurrsive function. Here 2*1!'\n",
      "Arguments: ()\n",
      "--- Logging error ---\n",
      "Traceback (most recent call last):\n",
      "  File \"/opt/conda/lib/python3.10/logging/__init__.py\", line 440, in format\n",
      "    return self._format(record)\n",
      "  File \"/opt/conda/lib/python3.10/logging/__init__.py\", line 436, in _format\n",
      "    return self._fmt % values\n",
      "KeyError: ' message'\n",
      "\n",
      "During handling of the above exception, another exception occurred:\n",
      "\n",
      "Traceback (most recent call last):\n",
      "  File \"/opt/conda/lib/python3.10/logging/__init__.py\", line 1100, in emit\n",
      "    msg = self.format(record)\n",
      "  File \"/opt/conda/lib/python3.10/logging/__init__.py\", line 943, in format\n",
      "    return fmt.format(record)\n",
      "  File \"/opt/conda/lib/python3.10/logging/__init__.py\", line 681, in format\n",
      "    s = self.formatMessage(record)\n",
      "  File \"/opt/conda/lib/python3.10/logging/__init__.py\", line 650, in formatMessage\n",
      "    return self._style.format(record)\n",
      "  File \"/opt/conda/lib/python3.10/logging/__init__.py\", line 442, in format\n",
      "    raise ValueError('Formatting field not found in record: %s' % e)\n",
      "ValueError: Formatting field not found in record: ' message'\n",
      "Call stack:\n",
      "  File \"/opt/conda/lib/python3.10/runpy.py\", line 196, in _run_module_as_main\n",
      "    return _run_code(code, main_globals, None,\n",
      "  File \"/opt/conda/lib/python3.10/runpy.py\", line 86, in _run_code\n",
      "    exec(code, run_globals)\n",
      "  File \"/opt/conda/lib/python3.10/site-packages/ipykernel_launcher.py\", line 17, in <module>\n",
      "    app.launch_new_instance()\n",
      "  File \"/opt/conda/lib/python3.10/site-packages/traitlets/config/application.py\", line 992, in launch_instance\n",
      "    app.start()\n",
      "  File \"/opt/conda/lib/python3.10/site-packages/ipykernel/kernelapp.py\", line 711, in start\n",
      "    self.io_loop.start()\n",
      "  File \"/opt/conda/lib/python3.10/site-packages/tornado/platform/asyncio.py\", line 199, in start\n",
      "    self.asyncio_loop.run_forever()\n",
      "  File \"/opt/conda/lib/python3.10/asyncio/base_events.py\", line 603, in run_forever\n",
      "    self._run_once()\n",
      "  File \"/opt/conda/lib/python3.10/asyncio/base_events.py\", line 1899, in _run_once\n",
      "    handle._run()\n",
      "  File \"/opt/conda/lib/python3.10/asyncio/events.py\", line 80, in _run\n",
      "    self._context.run(self._callback, *self._args)\n",
      "  File \"/opt/conda/lib/python3.10/site-packages/ipykernel/kernelbase.py\", line 510, in dispatch_queue\n",
      "    await self.process_one()\n",
      "  File \"/opt/conda/lib/python3.10/site-packages/ipykernel/kernelbase.py\", line 499, in process_one\n",
      "    await dispatch(*args)\n",
      "  File \"/opt/conda/lib/python3.10/site-packages/ipykernel/kernelbase.py\", line 406, in dispatch_shell\n",
      "    await result\n",
      "  File \"/opt/conda/lib/python3.10/site-packages/ipykernel/kernelbase.py\", line 729, in execute_request\n",
      "    reply_content = await reply_content\n",
      "  File \"/opt/conda/lib/python3.10/site-packages/ipykernel/ipkernel.py\", line 411, in do_execute\n",
      "    res = shell.run_cell(\n",
      "  File \"/opt/conda/lib/python3.10/site-packages/ipykernel/zmqshell.py\", line 531, in run_cell\n",
      "    return super().run_cell(*args, **kwargs)\n",
      "  File \"/opt/conda/lib/python3.10/site-packages/IPython/core/interactiveshell.py\", line 2940, in run_cell\n",
      "    result = self._run_cell(\n",
      "  File \"/opt/conda/lib/python3.10/site-packages/IPython/core/interactiveshell.py\", line 2995, in _run_cell\n",
      "    return runner(coro)\n",
      "  File \"/opt/conda/lib/python3.10/site-packages/IPython/core/async_helpers.py\", line 129, in _pseudo_sync_runner\n",
      "    coro.send(None)\n",
      "  File \"/opt/conda/lib/python3.10/site-packages/IPython/core/interactiveshell.py\", line 3194, in run_cell_async\n",
      "    has_raised = await self.run_ast_nodes(code_ast.body, cell_name,\n",
      "  File \"/opt/conda/lib/python3.10/site-packages/IPython/core/interactiveshell.py\", line 3373, in run_ast_nodes\n",
      "    if await self.run_code(code, result, async_=asy):\n",
      "  File \"/opt/conda/lib/python3.10/site-packages/IPython/core/interactiveshell.py\", line 3433, in run_code\n",
      "    exec(code_obj, self.user_global_ns, self.user_ns)\n",
      "  File \"/tmp/ipykernel_84/227960678.py\", line 15, in <module>\n",
      "    fact(6)\n",
      "  File \"/tmp/ipykernel_84/227960678.py\", line 11, in fact\n",
      "    fac=n*fact(n-1)\n",
      "  File \"/tmp/ipykernel_84/227960678.py\", line 11, in fact\n",
      "    fac=n*fact(n-1)\n",
      "  File \"/tmp/ipykernel_84/227960678.py\", line 11, in fact\n",
      "    fac=n*fact(n-1)\n",
      "  File \"/tmp/ipykernel_84/227960678.py\", line 12, in fact\n",
      "    logging.info(f\"The factorial is calculated using recurrsive function. Here {n}*{n-1}!\")\n",
      "Message: 'The factorial is calculated using recurrsive function. Here 3*2!'\n",
      "Arguments: ()\n",
      "--- Logging error ---\n",
      "Traceback (most recent call last):\n",
      "  File \"/opt/conda/lib/python3.10/logging/__init__.py\", line 440, in format\n",
      "    return self._format(record)\n",
      "  File \"/opt/conda/lib/python3.10/logging/__init__.py\", line 436, in _format\n",
      "    return self._fmt % values\n",
      "KeyError: ' message'\n",
      "\n",
      "During handling of the above exception, another exception occurred:\n",
      "\n",
      "Traceback (most recent call last):\n",
      "  File \"/opt/conda/lib/python3.10/logging/__init__.py\", line 1100, in emit\n",
      "    msg = self.format(record)\n",
      "  File \"/opt/conda/lib/python3.10/logging/__init__.py\", line 943, in format\n",
      "    return fmt.format(record)\n",
      "  File \"/opt/conda/lib/python3.10/logging/__init__.py\", line 681, in format\n",
      "    s = self.formatMessage(record)\n",
      "  File \"/opt/conda/lib/python3.10/logging/__init__.py\", line 650, in formatMessage\n",
      "    return self._style.format(record)\n",
      "  File \"/opt/conda/lib/python3.10/logging/__init__.py\", line 442, in format\n",
      "    raise ValueError('Formatting field not found in record: %s' % e)\n",
      "ValueError: Formatting field not found in record: ' message'\n",
      "Call stack:\n",
      "  File \"/opt/conda/lib/python3.10/runpy.py\", line 196, in _run_module_as_main\n",
      "    return _run_code(code, main_globals, None,\n",
      "  File \"/opt/conda/lib/python3.10/runpy.py\", line 86, in _run_code\n",
      "    exec(code, run_globals)\n",
      "  File \"/opt/conda/lib/python3.10/site-packages/ipykernel_launcher.py\", line 17, in <module>\n",
      "    app.launch_new_instance()\n",
      "  File \"/opt/conda/lib/python3.10/site-packages/traitlets/config/application.py\", line 992, in launch_instance\n",
      "    app.start()\n",
      "  File \"/opt/conda/lib/python3.10/site-packages/ipykernel/kernelapp.py\", line 711, in start\n",
      "    self.io_loop.start()\n",
      "  File \"/opt/conda/lib/python3.10/site-packages/tornado/platform/asyncio.py\", line 199, in start\n",
      "    self.asyncio_loop.run_forever()\n",
      "  File \"/opt/conda/lib/python3.10/asyncio/base_events.py\", line 603, in run_forever\n",
      "    self._run_once()\n",
      "  File \"/opt/conda/lib/python3.10/asyncio/base_events.py\", line 1899, in _run_once\n",
      "    handle._run()\n",
      "  File \"/opt/conda/lib/python3.10/asyncio/events.py\", line 80, in _run\n",
      "    self._context.run(self._callback, *self._args)\n",
      "  File \"/opt/conda/lib/python3.10/site-packages/ipykernel/kernelbase.py\", line 510, in dispatch_queue\n",
      "    await self.process_one()\n",
      "  File \"/opt/conda/lib/python3.10/site-packages/ipykernel/kernelbase.py\", line 499, in process_one\n",
      "    await dispatch(*args)\n",
      "  File \"/opt/conda/lib/python3.10/site-packages/ipykernel/kernelbase.py\", line 406, in dispatch_shell\n",
      "    await result\n",
      "  File \"/opt/conda/lib/python3.10/site-packages/ipykernel/kernelbase.py\", line 729, in execute_request\n",
      "    reply_content = await reply_content\n",
      "  File \"/opt/conda/lib/python3.10/site-packages/ipykernel/ipkernel.py\", line 411, in do_execute\n",
      "    res = shell.run_cell(\n",
      "  File \"/opt/conda/lib/python3.10/site-packages/ipykernel/zmqshell.py\", line 531, in run_cell\n",
      "    return super().run_cell(*args, **kwargs)\n",
      "  File \"/opt/conda/lib/python3.10/site-packages/IPython/core/interactiveshell.py\", line 2940, in run_cell\n",
      "    result = self._run_cell(\n",
      "  File \"/opt/conda/lib/python3.10/site-packages/IPython/core/interactiveshell.py\", line 2995, in _run_cell\n",
      "    return runner(coro)\n",
      "  File \"/opt/conda/lib/python3.10/site-packages/IPython/core/async_helpers.py\", line 129, in _pseudo_sync_runner\n",
      "    coro.send(None)\n",
      "  File \"/opt/conda/lib/python3.10/site-packages/IPython/core/interactiveshell.py\", line 3194, in run_cell_async\n",
      "    has_raised = await self.run_ast_nodes(code_ast.body, cell_name,\n",
      "  File \"/opt/conda/lib/python3.10/site-packages/IPython/core/interactiveshell.py\", line 3373, in run_ast_nodes\n",
      "    if await self.run_code(code, result, async_=asy):\n",
      "  File \"/opt/conda/lib/python3.10/site-packages/IPython/core/interactiveshell.py\", line 3433, in run_code\n",
      "    exec(code_obj, self.user_global_ns, self.user_ns)\n",
      "  File \"/tmp/ipykernel_84/227960678.py\", line 15, in <module>\n",
      "    fact(6)\n",
      "  File \"/tmp/ipykernel_84/227960678.py\", line 11, in fact\n",
      "    fac=n*fact(n-1)\n",
      "  File \"/tmp/ipykernel_84/227960678.py\", line 11, in fact\n",
      "    fac=n*fact(n-1)\n",
      "  File \"/tmp/ipykernel_84/227960678.py\", line 12, in fact\n",
      "    logging.info(f\"The factorial is calculated using recurrsive function. Here {n}*{n-1}!\")\n",
      "Message: 'The factorial is calculated using recurrsive function. Here 4*3!'\n",
      "Arguments: ()\n",
      "--- Logging error ---\n",
      "Traceback (most recent call last):\n",
      "  File \"/opt/conda/lib/python3.10/logging/__init__.py\", line 440, in format\n",
      "    return self._format(record)\n",
      "  File \"/opt/conda/lib/python3.10/logging/__init__.py\", line 436, in _format\n",
      "    return self._fmt % values\n",
      "KeyError: ' message'\n",
      "\n",
      "During handling of the above exception, another exception occurred:\n",
      "\n",
      "Traceback (most recent call last):\n",
      "  File \"/opt/conda/lib/python3.10/logging/__init__.py\", line 1100, in emit\n",
      "    msg = self.format(record)\n",
      "  File \"/opt/conda/lib/python3.10/logging/__init__.py\", line 943, in format\n",
      "    return fmt.format(record)\n",
      "  File \"/opt/conda/lib/python3.10/logging/__init__.py\", line 681, in format\n",
      "    s = self.formatMessage(record)\n",
      "  File \"/opt/conda/lib/python3.10/logging/__init__.py\", line 650, in formatMessage\n",
      "    return self._style.format(record)\n",
      "  File \"/opt/conda/lib/python3.10/logging/__init__.py\", line 442, in format\n",
      "    raise ValueError('Formatting field not found in record: %s' % e)\n",
      "ValueError: Formatting field not found in record: ' message'\n",
      "Call stack:\n",
      "  File \"/opt/conda/lib/python3.10/runpy.py\", line 196, in _run_module_as_main\n",
      "    return _run_code(code, main_globals, None,\n",
      "  File \"/opt/conda/lib/python3.10/runpy.py\", line 86, in _run_code\n",
      "    exec(code, run_globals)\n",
      "  File \"/opt/conda/lib/python3.10/site-packages/ipykernel_launcher.py\", line 17, in <module>\n",
      "    app.launch_new_instance()\n",
      "  File \"/opt/conda/lib/python3.10/site-packages/traitlets/config/application.py\", line 992, in launch_instance\n",
      "    app.start()\n",
      "  File \"/opt/conda/lib/python3.10/site-packages/ipykernel/kernelapp.py\", line 711, in start\n",
      "    self.io_loop.start()\n",
      "  File \"/opt/conda/lib/python3.10/site-packages/tornado/platform/asyncio.py\", line 199, in start\n",
      "    self.asyncio_loop.run_forever()\n",
      "  File \"/opt/conda/lib/python3.10/asyncio/base_events.py\", line 603, in run_forever\n",
      "    self._run_once()\n",
      "  File \"/opt/conda/lib/python3.10/asyncio/base_events.py\", line 1899, in _run_once\n",
      "    handle._run()\n",
      "  File \"/opt/conda/lib/python3.10/asyncio/events.py\", line 80, in _run\n",
      "    self._context.run(self._callback, *self._args)\n",
      "  File \"/opt/conda/lib/python3.10/site-packages/ipykernel/kernelbase.py\", line 510, in dispatch_queue\n",
      "    await self.process_one()\n",
      "  File \"/opt/conda/lib/python3.10/site-packages/ipykernel/kernelbase.py\", line 499, in process_one\n",
      "    await dispatch(*args)\n",
      "  File \"/opt/conda/lib/python3.10/site-packages/ipykernel/kernelbase.py\", line 406, in dispatch_shell\n",
      "    await result\n",
      "  File \"/opt/conda/lib/python3.10/site-packages/ipykernel/kernelbase.py\", line 729, in execute_request\n",
      "    reply_content = await reply_content\n",
      "  File \"/opt/conda/lib/python3.10/site-packages/ipykernel/ipkernel.py\", line 411, in do_execute\n",
      "    res = shell.run_cell(\n",
      "  File \"/opt/conda/lib/python3.10/site-packages/ipykernel/zmqshell.py\", line 531, in run_cell\n",
      "    return super().run_cell(*args, **kwargs)\n",
      "  File \"/opt/conda/lib/python3.10/site-packages/IPython/core/interactiveshell.py\", line 2940, in run_cell\n",
      "    result = self._run_cell(\n",
      "  File \"/opt/conda/lib/python3.10/site-packages/IPython/core/interactiveshell.py\", line 2995, in _run_cell\n",
      "    return runner(coro)\n",
      "  File \"/opt/conda/lib/python3.10/site-packages/IPython/core/async_helpers.py\", line 129, in _pseudo_sync_runner\n",
      "    coro.send(None)\n",
      "  File \"/opt/conda/lib/python3.10/site-packages/IPython/core/interactiveshell.py\", line 3194, in run_cell_async\n",
      "    has_raised = await self.run_ast_nodes(code_ast.body, cell_name,\n",
      "  File \"/opt/conda/lib/python3.10/site-packages/IPython/core/interactiveshell.py\", line 3373, in run_ast_nodes\n",
      "    if await self.run_code(code, result, async_=asy):\n",
      "  File \"/opt/conda/lib/python3.10/site-packages/IPython/core/interactiveshell.py\", line 3433, in run_code\n",
      "    exec(code_obj, self.user_global_ns, self.user_ns)\n",
      "  File \"/tmp/ipykernel_84/227960678.py\", line 15, in <module>\n",
      "    fact(6)\n",
      "  File \"/tmp/ipykernel_84/227960678.py\", line 11, in fact\n",
      "    fac=n*fact(n-1)\n",
      "  File \"/tmp/ipykernel_84/227960678.py\", line 12, in fact\n",
      "    logging.info(f\"The factorial is calculated using recurrsive function. Here {n}*{n-1}!\")\n",
      "Message: 'The factorial is calculated using recurrsive function. Here 5*4!'\n",
      "Arguments: ()\n",
      "--- Logging error ---\n",
      "Traceback (most recent call last):\n",
      "  File \"/opt/conda/lib/python3.10/logging/__init__.py\", line 440, in format\n",
      "    return self._format(record)\n",
      "  File \"/opt/conda/lib/python3.10/logging/__init__.py\", line 436, in _format\n",
      "    return self._fmt % values\n",
      "KeyError: ' message'\n",
      "\n",
      "During handling of the above exception, another exception occurred:\n",
      "\n",
      "Traceback (most recent call last):\n",
      "  File \"/opt/conda/lib/python3.10/logging/__init__.py\", line 1100, in emit\n",
      "    msg = self.format(record)\n",
      "  File \"/opt/conda/lib/python3.10/logging/__init__.py\", line 943, in format\n",
      "    return fmt.format(record)\n",
      "  File \"/opt/conda/lib/python3.10/logging/__init__.py\", line 681, in format\n",
      "    s = self.formatMessage(record)\n",
      "  File \"/opt/conda/lib/python3.10/logging/__init__.py\", line 650, in formatMessage\n",
      "    return self._style.format(record)\n",
      "  File \"/opt/conda/lib/python3.10/logging/__init__.py\", line 442, in format\n",
      "    raise ValueError('Formatting field not found in record: %s' % e)\n",
      "ValueError: Formatting field not found in record: ' message'\n",
      "Call stack:\n",
      "  File \"/opt/conda/lib/python3.10/runpy.py\", line 196, in _run_module_as_main\n",
      "    return _run_code(code, main_globals, None,\n",
      "  File \"/opt/conda/lib/python3.10/runpy.py\", line 86, in _run_code\n",
      "    exec(code, run_globals)\n",
      "  File \"/opt/conda/lib/python3.10/site-packages/ipykernel_launcher.py\", line 17, in <module>\n",
      "    app.launch_new_instance()\n",
      "  File \"/opt/conda/lib/python3.10/site-packages/traitlets/config/application.py\", line 992, in launch_instance\n",
      "    app.start()\n",
      "  File \"/opt/conda/lib/python3.10/site-packages/ipykernel/kernelapp.py\", line 711, in start\n",
      "    self.io_loop.start()\n",
      "  File \"/opt/conda/lib/python3.10/site-packages/tornado/platform/asyncio.py\", line 199, in start\n",
      "    self.asyncio_loop.run_forever()\n",
      "  File \"/opt/conda/lib/python3.10/asyncio/base_events.py\", line 603, in run_forever\n",
      "    self._run_once()\n",
      "  File \"/opt/conda/lib/python3.10/asyncio/base_events.py\", line 1899, in _run_once\n",
      "    handle._run()\n",
      "  File \"/opt/conda/lib/python3.10/asyncio/events.py\", line 80, in _run\n",
      "    self._context.run(self._callback, *self._args)\n",
      "  File \"/opt/conda/lib/python3.10/site-packages/ipykernel/kernelbase.py\", line 510, in dispatch_queue\n",
      "    await self.process_one()\n",
      "  File \"/opt/conda/lib/python3.10/site-packages/ipykernel/kernelbase.py\", line 499, in process_one\n",
      "    await dispatch(*args)\n",
      "  File \"/opt/conda/lib/python3.10/site-packages/ipykernel/kernelbase.py\", line 406, in dispatch_shell\n",
      "    await result\n",
      "  File \"/opt/conda/lib/python3.10/site-packages/ipykernel/kernelbase.py\", line 729, in execute_request\n",
      "    reply_content = await reply_content\n",
      "  File \"/opt/conda/lib/python3.10/site-packages/ipykernel/ipkernel.py\", line 411, in do_execute\n",
      "    res = shell.run_cell(\n",
      "  File \"/opt/conda/lib/python3.10/site-packages/ipykernel/zmqshell.py\", line 531, in run_cell\n",
      "    return super().run_cell(*args, **kwargs)\n",
      "  File \"/opt/conda/lib/python3.10/site-packages/IPython/core/interactiveshell.py\", line 2940, in run_cell\n",
      "    result = self._run_cell(\n",
      "  File \"/opt/conda/lib/python3.10/site-packages/IPython/core/interactiveshell.py\", line 2995, in _run_cell\n",
      "    return runner(coro)\n",
      "  File \"/opt/conda/lib/python3.10/site-packages/IPython/core/async_helpers.py\", line 129, in _pseudo_sync_runner\n",
      "    coro.send(None)\n",
      "  File \"/opt/conda/lib/python3.10/site-packages/IPython/core/interactiveshell.py\", line 3194, in run_cell_async\n",
      "    has_raised = await self.run_ast_nodes(code_ast.body, cell_name,\n",
      "  File \"/opt/conda/lib/python3.10/site-packages/IPython/core/interactiveshell.py\", line 3373, in run_ast_nodes\n",
      "    if await self.run_code(code, result, async_=asy):\n",
      "  File \"/opt/conda/lib/python3.10/site-packages/IPython/core/interactiveshell.py\", line 3433, in run_code\n",
      "    exec(code_obj, self.user_global_ns, self.user_ns)\n",
      "  File \"/tmp/ipykernel_84/227960678.py\", line 15, in <module>\n",
      "    fact(6)\n",
      "  File \"/tmp/ipykernel_84/227960678.py\", line 12, in fact\n",
      "    logging.info(f\"The factorial is calculated using recurrsive function. Here {n}*{n-1}!\")\n",
      "Message: 'The factorial is calculated using recurrsive function. Here 6*5!'\n",
      "Arguments: ()\n"
     ]
    },
    {
     "data": {
      "text/plain": [
       "720"
      ]
     },
     "execution_count": 6,
     "metadata": {},
     "output_type": "execute_result"
    }
   ],
   "source": [
    "import logging\n",
    "logging.basicConfig(filename=\"recursive_program.log\", level=logging.DEBUG, format='%(asctime)s - %(levelname)s - %( message)s')\n",
    "\n",
    "def fact(n):\n",
    "    if n<0:\n",
    "        logging.error(\"Factorial of negative number is not possible\")\n",
    "        return None\n",
    "    elif n==0 or n==1:\n",
    "        return 1\n",
    "    else:\n",
    "        fac=n*fact(n-1)\n",
    "        logging.info(f\"The factorial is calculated using recurrsive function. Here {n}*{n-1}!\")\n",
    "        return fac\n",
    "\n",
    "fact(6)"
   ]
  },
  {
   "cell_type": "markdown",
   "id": "3708319d-c538-4e90-a2d2-75c7da063718",
   "metadata": {},
   "source": [
    "Q21. Write a try except block to handle ZeroDivisionError"
   ]
  },
  {
   "cell_type": "code",
   "execution_count": 7,
   "id": "c989af86-5bd8-441a-afa7-5c009876a8bd",
   "metadata": {},
   "outputs": [
    {
     "name": "stdout",
     "output_type": "stream",
     "text": [
      "Error occured\n"
     ]
    }
   ],
   "source": [
    "a=10\n",
    "b=0\n",
    "try:\n",
    "    c=a/b\n",
    "    print(c)\n",
    "except ZeroDivisionError:\n",
    "    print(\"Error occured\")"
   ]
  },
  {
   "cell_type": "markdown",
   "id": "a55eb4c9-2d6b-4160-929c-e5a215c046b1",
   "metadata": {},
   "source": [
    "Q22. How does else block work with try-except block?"
   ]
  },
  {
   "cell_type": "code",
   "execution_count": 8,
   "id": "fee8e552-f483-4a6a-8b2a-eae97244f73c",
   "metadata": {},
   "outputs": [
    {
     "name": "stdout",
     "output_type": "stream",
     "text": [
      "Division result: 5.0\n",
      "Error: Division by zero is not allowed\n"
     ]
    }
   ],
   "source": [
    "def divide(a, b):\n",
    "    try:\n",
    "        result = a / b\n",
    "    except ZeroDivisionError:\n",
    "        print(\"Error: Division by zero is not allowed\")\n",
    "    else:\n",
    "        print(\"Division result:\", result)\n",
    "\n",
    "\n",
    "divide(10, 2)  # No exception, else block is executed\n",
    "divide(10, 0)  # Division by zero exception, else block is skipped"
   ]
  },
  {
   "cell_type": "markdown",
   "id": "61a6bd6a-6c3b-4639-b4e7-16f30fc337ff",
   "metadata": {},
   "source": [
    "Q23. Implement a try-except-else block to open and read a file."
   ]
  },
  {
   "cell_type": "code",
   "execution_count": 10,
   "id": "5e69b352-33c0-4c91-b8ed-be734360b6df",
   "metadata": {},
   "outputs": [
    {
     "name": "stdout",
     "output_type": "stream",
     "text": [
      "Hello, World!\n",
      "This is a test file.\n",
      " I am creating a text file in python using python code.\n",
      " Data Science is a very interesting field to explore.\n",
      "This is an additional content to check the append mode.I am trying to append a file using buffered writing by line.\n",
      " for using bufferd writing line wise we keep buffering=1\n",
      " I am trying to append a file using buffered writing by line.\n",
      "For using bufferd writing line wise we keep buffering=1\n",
      "Error:[Errno 2] No such file or directory: 'example1.txt'\n"
     ]
    }
   ],
   "source": [
    "def read_file(filename):\n",
    "    try:\n",
    "        with open(filename, \"r\") as f:\n",
    "            file_content=f.read()\n",
    "    except FileNotFoundError as e:\n",
    "        print(f\"Error:{e}\")\n",
    "    except Exception:\n",
    "        print(Exception)\n",
    "    else:\n",
    "        print(file_content)\n",
    "\n",
    "read_file(\"example.txt\") #as the file is there, try and else block gets executed\n",
    "read_file(\"example1.txt\") #Exception is handled"
   ]
  },
  {
   "cell_type": "markdown",
   "id": "80b39a80-a5f8-47d0-a103-b571abde5832",
   "metadata": {},
   "source": [
    "Q24. What is the purpose of finally block in exception handling?"
   ]
  },
  {
   "cell_type": "markdown",
   "id": "0519d589-20c3-4ffb-b4fd-8af4c50cd9c5",
   "metadata": {},
   "source": [
    "The finally block in exception handling serves as a mechanism to define cleanup actions that must be executed whether an exception occurs or not. Regardless of whether an exception is raised or caught, the code inside the finally block will always be executed."
   ]
  },
  {
   "cell_type": "markdown",
   "id": "34a2f9e6-84ca-405d-bc39-7148ea60993c",
   "metadata": {},
   "source": [
    "Q25. Write a try-except-finally block to handle a ValueError"
   ]
  },
  {
   "cell_type": "code",
   "execution_count": 15,
   "id": "1eab3700-c97c-4ff8-9d69-99560de876bd",
   "metadata": {},
   "outputs": [
    {
     "name": "stdout",
     "output_type": "stream",
     "text": [
      "Integer value: 123\n",
      "Conversion process completed\n",
      "Error: 'abc' is not a valid integer\n",
      "Conversion process completed\n"
     ]
    }
   ],
   "source": [
    "def convert_to_int(value):\n",
    "    try:\n",
    "        result = int(value)\n",
    "    except ValueError:\n",
    "        print(f\"Error: '{value}' is not a valid integer\")\n",
    "    else:\n",
    "        print(\"Integer value:\", result)\n",
    "    finally:\n",
    "        print(\"Conversion process completed\")\n",
    "\n",
    "convert_to_int(\"123\")    # Value is a valid integer\n",
    "convert_to_int(\"abc\")    # Value is not a valid integer, raises ValueError\n"
   ]
  },
  {
   "cell_type": "markdown",
   "id": "68aaad50-30c8-4dea-a702-fe2de14c0fc9",
   "metadata": {},
   "source": [
    "Q26. How multiple except block works in Python?"
   ]
  },
  {
   "cell_type": "markdown",
   "id": "2f7a7358-de29-4e8c-b1bf-8944bdf103cb",
   "metadata": {},
   "source": [
    "In Python, we can have multiple except blocks to catch different types of exceptions raised within a try block. Each except block specifies a particular exception type that it is responsible for handling. When an exception occurs in the try block, Python checks each except block in sequence to see if the raised exception matches any of the specified exception types. The first matching except block is executed, and subsequent except blocks are skipped."
   ]
  },
  {
   "cell_type": "markdown",
   "id": "0919b037-f815-4b09-a5d5-68b2cd03d1f2",
   "metadata": {},
   "source": [
    "Q27. What is a custom exception in Python?"
   ]
  },
  {
   "cell_type": "markdown",
   "id": "2e16266a-d69b-4a8a-87cf-9e6c082d8c64",
   "metadata": {},
   "source": [
    "A custom exception in Python is an exception class defined by the programmer to represent a specific type of error or exceptional condition within their program. Custom exceptions are derived from the built-in Exception class or any of its subclasses, allowing developers to create their own hierarchy of exception types tailored to the needs of their application."
   ]
  },
  {
   "cell_type": "code",
   "execution_count": 4,
   "id": "79cc067b-79ac-4a1f-94c9-09be5e680df2",
   "metadata": {},
   "outputs": [
    {
     "name": "stdout",
     "output_type": "stream",
     "text": [
      "This is a custom exception\n"
     ]
    },
    {
     "ename": "CustomError",
     "evalue": "",
     "output_type": "error",
     "traceback": [
      "\u001b[0;31m---------------------------------------------------------------------------\u001b[0m",
      "\u001b[0;31mCustomError\u001b[0m                               Traceback (most recent call last)",
      "Cell \u001b[0;32mIn[4], line 6\u001b[0m\n\u001b[1;32m      2\u001b[0m     \u001b[38;5;28;01mdef\u001b[39;00m \u001b[38;5;21m__init__\u001b[39m(\u001b[38;5;28mself\u001b[39m):\n\u001b[1;32m      3\u001b[0m         \u001b[38;5;28mprint\u001b[39m(\u001b[38;5;124m\"\u001b[39m\u001b[38;5;124mThis is a custom exception\u001b[39m\u001b[38;5;124m\"\u001b[39m)\n\u001b[0;32m----> 6\u001b[0m \u001b[38;5;28;01mraise\u001b[39;00m CustomError() \n",
      "\u001b[0;31mCustomError\u001b[0m: "
     ]
    }
   ],
   "source": [
    "class CustomError(Exception):\n",
    "    def __init__(self):\n",
    "        print(\"This is a custom exception\")\n",
    "\n",
    "        \n",
    "raise CustomError() "
   ]
  },
  {
   "cell_type": "markdown",
   "id": "5ea8edb0-68e0-41fe-a11d-1720574ebe44",
   "metadata": {},
   "source": [
    "Q28. Create a custom exception class with a message"
   ]
  },
  {
   "cell_type": "code",
   "execution_count": 5,
   "id": "aed9ad86-6b61-48d5-ad75-a58594602d40",
   "metadata": {},
   "outputs": [
    {
     "name": "stdout",
     "output_type": "stream",
     "text": [
      "CustomError occurred: This is a custom exception with a message\n"
     ]
    }
   ],
   "source": [
    "class CustomError(Exception):\n",
    "    def __init__(self, message):\n",
    "        super().__init__(message)\n",
    "        self.message = message\n",
    "\n",
    "try:\n",
    "    raise CustomError(\"This is a custom exception with a message\")\n",
    "except CustomError as e:\n",
    "    print(\"CustomError occurred:\", e.message)\n"
   ]
  },
  {
   "cell_type": "markdown",
   "id": "63bb805c-26b1-4f92-98f4-005b6ac72385",
   "metadata": {},
   "source": [
    "Q29. Write a code to raise custom exception in Python."
   ]
  },
  {
   "cell_type": "code",
   "execution_count": 6,
   "id": "deaf406d-f881-47fc-bab1-cd880603778e",
   "metadata": {},
   "outputs": [
    {
     "name": "stdout",
     "output_type": "stream",
     "text": [
      "This is a custom exception\n"
     ]
    },
    {
     "ename": "CustomError",
     "evalue": "",
     "output_type": "error",
     "traceback": [
      "\u001b[0;31m---------------------------------------------------------------------------\u001b[0m",
      "\u001b[0;31mCustomError\u001b[0m                               Traceback (most recent call last)",
      "Cell \u001b[0;32mIn[6], line 5\u001b[0m\n\u001b[1;32m      2\u001b[0m     \u001b[38;5;28;01mdef\u001b[39;00m \u001b[38;5;21m__init__\u001b[39m(\u001b[38;5;28mself\u001b[39m):\n\u001b[1;32m      3\u001b[0m         \u001b[38;5;28mprint\u001b[39m(\u001b[38;5;124m\"\u001b[39m\u001b[38;5;124mThis is a custom exception\u001b[39m\u001b[38;5;124m\"\u001b[39m)\n\u001b[0;32m----> 5\u001b[0m \u001b[38;5;28;01mraise\u001b[39;00m CustomError() \n",
      "\u001b[0;31mCustomError\u001b[0m: "
     ]
    }
   ],
   "source": [
    "class CustomError(Exception):\n",
    "    def __init__(self):\n",
    "        print(\"This is a custom exception\")\n",
    "        \n",
    "raise CustomError() "
   ]
  },
  {
   "cell_type": "markdown",
   "id": "a6d2ee6e-b262-4a93-9b5a-f3f4ecd8f89f",
   "metadata": {},
   "source": [
    "Q30. Write a function that raises custom exception when value given is negative. "
   ]
  },
  {
   "cell_type": "code",
   "execution_count": 7,
   "id": "7e223b7e-0a63-46c9-9a4f-f837855b1f01",
   "metadata": {},
   "outputs": [
    {
     "name": "stdin",
     "output_type": "stream",
     "text": [
      "Enter any value: -5\n"
     ]
    },
    {
     "name": "stdout",
     "output_type": "stream",
     "text": [
      "CustomError occurred: Negative value is not valid\n"
     ]
    }
   ],
   "source": [
    "class CustomError(Exception):\n",
    "    def __init__(self, message):\n",
    "        super().__init__(message)\n",
    "        self.message = message\n",
    "\n",
    "try:\n",
    "    a=int(input(\"Enter any value:\"))\n",
    "    if a<0:\n",
    "        raise CustomError(\"Negative value is not valid\")\n",
    "except CustomError as e:\n",
    "    print(\"CustomError occurred:\", e.message)"
   ]
  },
  {
   "cell_type": "markdown",
   "id": "33cabc92-f379-4533-befd-257b4eb397e8",
   "metadata": {},
   "source": [
    "Q31. What is the role try, except, else and finally blocks in exception handling?"
   ]
  },
  {
   "cell_type": "markdown",
   "id": "01e0b737-5e6a-4e08-a6a3-9ec088b7eea8",
   "metadata": {},
   "source": [
    "In Python, exception handling is performed using the try, except, else, and finally blocks. These blocks work together to provide a structured way to handle exceptions and manage cleanup actions. Here's a brief overview of each block and its role in exception handling:\n",
    "\n",
    "try block: The try block is used to wrap the code that may raise an exception. It defines the section of code where exceptions will be monitored. If an exception occurs within the try block, Python searches for an appropriate except block to handle it.\n",
    "\n",
    "except block: The except block is used to catch and handle exceptions that occur within the corresponding try block. Each except block specifies the type of exception it can handle. If an exception of the specified type occurs, the corresponding except block is executed. If no matching except block is found, the exception propagates to the next outer try statement or results in a traceback.\n",
    "\n",
    "else block: The else block is optional and follows all except blocks (if any). It is executed if no exceptions occur within the try block. The else block is typically used to define code that should be executed only if the try block completes successfully, without raising any exceptions.\n",
    "\n",
    "finally block: The finally block is optional and follows all except and else blocks (if any). It is always executed, regardless of whether an exception occurs or not. The finally block is used to define cleanup actions that must be performed, such as closing files or releasing resources. It ensures that critical cleanup actions are executed reliably, even in exceptional circumstances."
   ]
  },
  {
   "cell_type": "code",
   "execution_count": null,
   "id": "9d933c49-02c1-45a3-a9f7-fba7fa942fab",
   "metadata": {},
   "outputs": [],
   "source": [
    "#general syntax of try-except-else-finally blocks\n",
    "try:\n",
    "    # Code that may raise an exception\n",
    "    ...\n",
    "except ExceptionType1:\n",
    "    # Code to handle ExceptionType1\n",
    "    ...\n",
    "except ExceptionType2:\n",
    "    # Code to handle ExceptionType2\n",
    "    ...\n",
    "else:\n",
    "    # Code to be executed if no exception occurs\n",
    "    ...\n",
    "finally:\n",
    "    # Cleanup code to be executed regardless of whether an exception occurs\n",
    "    ...\n"
   ]
  },
  {
   "cell_type": "markdown",
   "id": "2e8304ef-a9aa-4353-a2f9-5be4a00609a0",
   "metadata": {},
   "source": [
    "Q32. How can custom exception increase code readability and maintainability?"
   ]
  },
  {
   "cell_type": "markdown",
   "id": "a560c689-8456-454b-bc63-3db2b497ce9f",
   "metadata": {},
   "source": [
    "Custom exceptions are useful for:\n",
    "\n",
    "Error Handling: They allow developers to define and handle specific types of errors or exceptional conditions that may occur within their codebase.\n",
    "Code Organization: They help organize error-handling logic by grouping related exceptions into hierarchical structures.\n",
    "Readability: They improve the readability and maintainability of code by providing descriptive names for different types of errors, making it easier to understand the intent of the code."
   ]
  },
  {
   "cell_type": "markdown",
   "id": "363c67d3-de80-414d-903b-f858924121bb",
   "metadata": {},
   "source": [
    "Q33. What is multithreading?"
   ]
  },
  {
   "cell_type": "markdown",
   "id": "dbf5e466-3099-4257-86cb-4fbd46bedb99",
   "metadata": {},
   "source": [
    "Multithreading is a programming concept where multiple threads of execution run concurrently within the same process. A thread is the smallest unit of execution within a process, and multithreading allows multiple threads to execute independently, sharing the same resources such as memory space and file handles. Each thread represents a separate flow of control, allowing for concurrent execution of tasks within a single program."
   ]
  },
  {
   "cell_type": "markdown",
   "id": "c798596c-39fc-4f57-a620-58836abd5b9c",
   "metadata": {},
   "source": [
    "Q34. Create a thread in Python."
   ]
  },
  {
   "cell_type": "code",
   "execution_count": 1,
   "id": "0032d58c-fb44-46d6-a538-6c28643a5a96",
   "metadata": {},
   "outputs": [
    {
     "name": "stdout",
     "output_type": "stream",
     "text": [
      "do something\n",
      "sleep for 1 sec\n",
      "do something\n",
      "sleep for 1 sec\n",
      "done with sleeping\n",
      "done with sleeping\n",
      "The program finished in 1.0 seconds.\n"
     ]
    }
   ],
   "source": [
    "import time\n",
    "import threading\n",
    "start = time.perf_counter()\n",
    "\n",
    "def test_func():\n",
    "    print(\"do something\")\n",
    "    print(\"sleep for 1 sec\")\n",
    "    time.sleep(1)\n",
    "    print(\"done with sleeping\")\n",
    "\n",
    "t1 = threading.Thread(target = test_func)\n",
    "t2 = threading.Thread(target = test_func)\n",
    "\n",
    "t1.start() #to start the thread\n",
    "t2.start()\n",
    "\n",
    "t1.join() #in order to first execute the threads and then the execition of main program\n",
    "t2.join()\n",
    "\n",
    "\n",
    "end = time.perf_counter()\n",
    "\n",
    "\n",
    "print(f\"The program finished in {round(end-start, 2)} seconds.\")"
   ]
  },
  {
   "cell_type": "markdown",
   "id": "e1e270ad-311e-4d72-a47a-7da0e8fc8bf6",
   "metadata": {},
   "source": [
    "Q35. What is the Global Interpreter lock(GIL) in Python?"
   ]
  },
  {
   "cell_type": "markdown",
   "id": "b5208d0d-dd79-4912-8bf7-e8d2e4adc538",
   "metadata": {},
   "source": [
    "The Global Interpreter Lock (GIL) in Python is a mutex (or lock) that protects access to Python objects, preventing multiple native threads from executing Python bytecodes simultaneously. In other words, the GIL ensures that only one thread executes Python bytecode at a time, even on multi-core systems."
   ]
  },
  {
   "cell_type": "markdown",
   "id": "e00e1aeb-4f8d-4083-9c57-d45ea401101e",
   "metadata": {},
   "source": [
    "Q36. Implement a simple multithreading example in Python"
   ]
  },
  {
   "cell_type": "code",
   "execution_count": 2,
   "id": "8e3b5984-885e-45a3-a4a7-1bb98ab29869",
   "metadata": {},
   "outputs": [
    {
     "name": "stdout",
     "output_type": "stream",
     "text": [
      "do something\n",
      "sleep for 1 sec\n",
      "do something\n",
      "sleep for 1 sec\n",
      "done with sleeping\n",
      "done with sleeping\n",
      "The program finished in 1.0 seconds.\n"
     ]
    }
   ],
   "source": [
    "import time\n",
    "import threading\n",
    "start = time.perf_counter()\n",
    "\n",
    "def test_func():\n",
    "    print(\"do something\")\n",
    "    print(\"sleep for 1 sec\")\n",
    "    time.sleep(1)\n",
    "    print(\"done with sleeping\")\n",
    "\n",
    "t1 = threading.Thread(target = test_func)\n",
    "t2 = threading.Thread(target = test_func)\n",
    "\n",
    "t1.start() #to start the thread\n",
    "t2.start()\n",
    "\n",
    "t1.join() #in order to first execute the threads and then the execition of main program\n",
    "t2.join()\n",
    "\n",
    "\n",
    "end = time.perf_counter()\n",
    "\n",
    "\n",
    "print(f\"The program finished in {round(end-start, 2)} seconds.\")"
   ]
  },
  {
   "cell_type": "markdown",
   "id": "b63c271e-0455-4d84-b16c-9a35582ab2fb",
   "metadata": {},
   "source": [
    "Q37. What is the purpose of the join() method in threading?"
   ]
  },
  {
   "cell_type": "markdown",
   "id": "d0a4a8dc-31ad-4400-ae15-49aedb052107",
   "metadata": {},
   "source": [
    "The join() method in threading is used to wait for a thread to complete its execution before continuing with the execution of the main thread or other threads. When we call join() on a thread object, the calling thread (usually the main thread) will block until the target thread (the thread on which join() is called) completes its execution."
   ]
  },
  {
   "cell_type": "markdown",
   "id": "934993ba-8a4e-43d2-b04e-28468cfc2439",
   "metadata": {},
   "source": [
    "Q38. Describe a scenario where multithreading will be beneficial in Python."
   ]
  },
  {
   "cell_type": "markdown",
   "id": "3113884a-b4c9-4774-a94f-21abd80edd80",
   "metadata": {},
   "source": [
    "One scenario where multithreading can be beneficial in Python is in a web server application handling multiple incoming requests concurrently.\n",
    "\n",
    "In a typical web server application, the server needs to handle multiple client connections simultaneously, each requiring processing of HTTP requests and generating responses. Without multithreading, the server would need to handle each request sequentially, potentially leading to slow response times and poor scalability, especially when dealing with a large number of concurrent requests.\n",
    "\n",
    "Can be used to download multiple files together."
   ]
  },
  {
   "cell_type": "markdown",
   "id": "63859d5a-a8a3-4a53-a62f-ba3ac1d53a89",
   "metadata": {},
   "source": [
    "Q39. What is multiprocessing in Python?"
   ]
  },
  {
   "cell_type": "markdown",
   "id": "8eb42416-1b64-4d41-bc52-18a2484af08c",
   "metadata": {},
   "source": [
    "Multiprocessing in Python refers to the ability to create and manage multiple processes to achieve parallel execution of tasks. Multiprocessing involves creating separate processes, each with its own memory space and resources.\n",
    "\n",
    "The multiprocessing module in Python provides a high-level interface for working with processes, allowing you to spawn new processes, communicate between them, and synchronize their execution. It offers a way to harness the power of multiple CPU cores and achieve true parallelism in Python programs."
   ]
  },
  {
   "cell_type": "markdown",
   "id": "4d28e3f2-a479-4b02-8cf9-9b7bcee588d7",
   "metadata": {},
   "source": [
    "Q40. How is multiprocessing diffrent from multithreading in Python?"
   ]
  },
  {
   "cell_type": "markdown",
   "id": "5151129e-fa2c-48fb-9f38-92802197c1c4",
   "metadata": {},
   "source": [
    "###Processes vs. Threads:\n",
    "\n",
    "Multiprocessing: In multiprocessing, separate processes are created to execute tasks concurrently. Each process has its own memory space, resources, and Python interpreter. Processes do not share memory by default, and communication between processes is typically achieved using inter-process communication (IPC) mechanisms such as pipes, queues, shared memory, and sockets.\n",
    "\n",
    "Multithreading: In multithreading, multiple threads are created within the same process to execute tasks concurrently. Threads share the same memory space and resources, including global variables, heap memory, and file descriptors. Communication between threads is facilitated through shared memory, making it easier for threads to exchange data and communicate with each other.\n",
    "\n",
    "###Isolation:\n",
    "\n",
    "Multiprocessing: Processes are isolated from each other and run independently. Each process has its own memory space, which prevents interference between processes and ensures better stability and reliability. Failures or errors in one process do not affect the execution of other processes.\n",
    "\n",
    "Multithreading: Threads within the same process share the same memory space, which can lead to potential issues such as race conditions, deadlocks, and resource contention. Careful synchronization mechanisms (e.g., locks, semaphores) are required to coordinate access to shared resources and avoid concurrency issues.\n",
    "\n",
    "###Concurrency Model:\n",
    "\n",
    "Multiprocessing: Multiprocessing follows a parallel execution model, where multiple processes execute tasks simultaneously on multiple CPU cores. Each process runs independently, and true parallelism is achieved by leveraging multiple CPU cores.\n",
    "\n",
    "Multithreading: Multithreading follows a concurrent execution model, where multiple threads execute tasks concurrently within the same process. Due to the Global Interpreter Lock (GIL) in CPython, only one thread can execute Python bytecode at a time, limiting the effectiveness of multithreading for CPU-bound tasks. However, multithreading can still be beneficial for I/O-bound tasks, where threads spend most of their time waiting for external operations to complete.\n",
    "\n",
    "###Resource Overhead:\n",
    "\n",
    "Multiprocessing: Creating and managing processes typically incurs higher resource overhead compared to threads, as each process requires its own memory space and resources. However, multiprocessing can offer better scalability and performance for CPU-bound tasks that can benefit from parallel execution.\n",
    "\n",
    "Multithreading: Threads have lower resource overhead compared to processes, as they share the same memory space and resources within the same process. However, multithreading may be limited by factors such as the Global Interpreter Lock (GIL) in CPython, which restricts true parallelism for CPU-bound tasks."
   ]
  },
  {
   "cell_type": "markdown",
   "id": "76baa65f-bdc8-41e1-baf9-0085a9f4d94b",
   "metadata": {},
   "source": [
    "Q41. Create a process using multiprocessing module in Python."
   ]
  },
  {
   "cell_type": "code",
   "execution_count": 1,
   "id": "ba2b0f9a-c671-40bb-8b4c-71b2c86894c5",
   "metadata": {},
   "outputs": [
    {
     "name": "stdout",
     "output_type": "stream",
     "text": [
      "do something\n",
      "sleep for 1 sec\n",
      "do something\n",
      "sleep for 1 sec\n",
      "done with sleeping\n",
      "done with sleeping\n",
      "The program finished in 1.04 seconds.\n"
     ]
    }
   ],
   "source": [
    "import multiprocessing\n",
    "\n",
    "import time\n",
    "start = time.perf_counter()\n",
    "\n",
    "def test_func():\n",
    "    print(\"do something\")\n",
    "    print(\"sleep for 1 sec\")\n",
    "    time.sleep(1)\n",
    "    print(\"done with sleeping\")\n",
    "\n",
    "p1 = multiprocessing.Process(target = test_func)\n",
    "p2 = multiprocessing.Process(target = test_func)\n",
    "\n",
    "\n",
    "p1.start()\n",
    "p2.start()\n",
    "\n",
    "p1.join()\n",
    "p2.join()\n",
    "\n",
    "end = time.perf_counter()\n",
    "\n",
    "\n",
    "print(f\"The program finished in {round(end-start, 2)} seconds.\")"
   ]
  },
  {
   "cell_type": "markdown",
   "id": "c3efca29-cbaa-450b-a186-b5737317d400",
   "metadata": {},
   "source": [
    "Q42. Explain the concept of Pool in  the multiprocessing module of Python."
   ]
  },
  {
   "cell_type": "code",
   "execution_count": 2,
   "id": "56694611-3c55-476b-b4d9-b452299e05d5",
   "metadata": {},
   "outputs": [
    {
     "name": "stdout",
     "output_type": "stream",
     "text": [
      "The square of 2 is 4The square of 4 is 16The square of 5 is 25The square of 3 is 9The square of 6 is 36\n",
      "\n",
      "\n",
      "\n",
      "\n",
      "The program finished in 0.49 seconds.\n"
     ]
    }
   ],
   "source": [
    "start = time.perf_counter()\n",
    "def square(no):\n",
    "    result = no*no\n",
    "    print(f\"The square of {no} is {result}\")\n",
    "    \n",
    "numbers = [2, 3, 4, 5, 6]\n",
    "\n",
    "\n",
    "with multiprocessing.Pool() as pool:\n",
    "    pool.map(square, numbers)\n",
    "    \n",
    "    \n",
    "end = time.perf_counter()\n",
    "\n",
    "\n",
    "print(f\"The program finished in {round(end-start, 2)} seconds.\")"
   ]
  },
  {
   "cell_type": "markdown",
   "id": "05316e8f-a5f5-4979-aa31-dcb326109fa0",
   "metadata": {},
   "source": [
    "Q43. Explain inter-process communication in multiprocessing."
   ]
  },
  {
   "cell_type": "code",
   "execution_count": null,
   "id": "a79549b1-76d2-4c92-9e2c-61ee28f0d438",
   "metadata": {},
   "outputs": [],
   "source": [
    "import multiprocessing\n",
    "\n",
    "def enroll_students(student_queue):\n",
    "    for student in [\"Ankita\", \"Asmita\", \"Nidhi\", \"Rashmi\"]:\n",
    "        student_queue.put(f\"enroll {student}\")\n",
    "        \n",
    "def register_students(student_queue):\n",
    "    while True:\n",
    "        enrollment_req = student_queue.get()\n",
    "        if enrollment_req is None:\n",
    "            break\n",
    "        print(f\"Registrar: {enrollment_req}\")\n",
    "\n",
    "if True:\n",
    "    student_queue = multiprocessing.Queue()\n",
    "    enrollment_process = multiprocessing.Process(target = enroll_students, args = (student_queue,))\n",
    "    reg_process = multiprocessing.Process(target = register_students, args = (student_queue,))\n",
    "    \n",
    "    enrollment_process.start()\n",
    "    reg_process.start()\n",
    "    \n",
    "    \n",
    "    enrollment_process.join()\n",
    "    reg_process.join()"
   ]
  },
  {
   "cell_type": "code",
   "execution_count": null,
   "id": "a497532a-9875-4bbb-81b8-15ceaf0e563f",
   "metadata": {},
   "outputs": [],
   "source": []
  }
 ],
 "metadata": {
  "kernelspec": {
   "display_name": "Python 3 (ipykernel)",
   "language": "python",
   "name": "python3"
  },
  "language_info": {
   "codemirror_mode": {
    "name": "ipython",
    "version": 3
   },
   "file_extension": ".py",
   "mimetype": "text/x-python",
   "name": "python",
   "nbconvert_exporter": "python",
   "pygments_lexer": "ipython3",
   "version": "3.10.8"
  }
 },
 "nbformat": 4,
 "nbformat_minor": 5
}
