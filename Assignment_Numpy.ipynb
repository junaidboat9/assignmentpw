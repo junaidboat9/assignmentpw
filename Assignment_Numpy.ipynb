{
 "cells": [
  {
   "cell_type": "markdown",
   "id": "f9d2ae37-e119-4097-8888-a04a0baec619",
   "metadata": {
    "jp-MarkdownHeadingCollapsed": true,
    "tags": []
   },
   "source": [
    "PW Skills Assignment Solutions\n",
    "Assignment-Numpy"
   ]
  },
  {
   "cell_type": "markdown",
   "id": "9221662c-0fe8-4b35-8333-36798ab5bec5",
   "metadata": {},
   "source": [
    "Q1. Create a NumPy array 'arr' of integers from 0 to 5 and print its data type."
   ]
  },
  {
   "cell_type": "code",
   "execution_count": 1,
   "id": "db925369-024a-4ecf-818d-8c27fdd56db4",
   "metadata": {},
   "outputs": [],
   "source": [
    "import numpy as np\n",
    "import pandas as pd"
   ]
  },
  {
   "cell_type": "code",
   "execution_count": 4,
   "id": "5f7c6cc4-f994-44da-a2b9-2a820824e2a0",
   "metadata": {},
   "outputs": [
    {
     "name": "stdout",
     "output_type": "stream",
     "text": [
      "[0 1 2 3 4 5]\n",
      "<class 'numpy.ndarray'>\n"
     ]
    }
   ],
   "source": [
    "import numpy as np\n",
    "arr=np.arange(6)\n",
    "print(arr)\n",
    "print(type(arr))"
   ]
  },
  {
   "cell_type": "markdown",
   "id": "3157fb70-d02a-43fe-8d8e-d1ff9b32ac4b",
   "metadata": {},
   "source": [
    "Q2.  Given a NumPy array 'arr', check if its data type is float64.\n",
    "arr = np.array([1.5, 2.6, 3.7])"
   ]
  },
  {
   "cell_type": "code",
   "execution_count": 5,
   "id": "c53a592a-7124-42cf-974e-92b2602c799f",
   "metadata": {},
   "outputs": [
    {
     "name": "stdout",
     "output_type": "stream",
     "text": [
      "<class 'numpy.ndarray'>\n"
     ]
    }
   ],
   "source": [
    "arr = np.array([1.5, 2.6, 3.7])\n",
    "print(type(arr))"
   ]
  },
  {
   "cell_type": "markdown",
   "id": "fac99b1a-b077-443e-8861-9cdd267e98b6",
   "metadata": {},
   "source": [
    "Q3.  Create a NumPy array 'arr' with a data type of complex128 containing three complex numbers."
   ]
  },
  {
   "cell_type": "code",
   "execution_count": 13,
   "id": "bb4865e3-3432-45a5-84bc-b004ddee99f1",
   "metadata": {},
   "outputs": [
    {
     "name": "stdout",
     "output_type": "stream",
     "text": [
      "[1.+2.j 3.-4.j 5.+6.j]\n",
      "<class 'numpy.ndarray'>\n"
     ]
    }
   ],
   "source": [
    "arr = np.array([1+2j, 3-4j, 5+6j], dtype=np.complex128)\n",
    "print(arr)\n",
    "print(type(arr))"
   ]
  },
  {
   "cell_type": "markdown",
   "id": "798e54fd-aadb-48a2-9a3f-251a97802a01",
   "metadata": {},
   "source": [
    " Q4. Convert an existing NumPy array 'arr' of integers to float32 data type."
   ]
  },
  {
   "cell_type": "code",
   "execution_count": 15,
   "id": "ee9858db-fda2-41f0-85e9-0b2f97c9b4a7",
   "metadata": {},
   "outputs": [
    {
     "name": "stdout",
     "output_type": "stream",
     "text": [
      "[1. 3. 5. 7.]\n",
      "<class 'numpy.ndarray'>\n"
     ]
    }
   ],
   "source": [
    "arr=np.array([1,3,5,7], dtype=np.float32)\n",
    "print(arr)\n",
    "print(type(arr))"
   ]
  },
  {
   "cell_type": "markdown",
   "id": "b9eb4b36-fbb5-4d89-bb00-8a5dcad2f6bb",
   "metadata": {},
   "source": [
    "Q5. Given a NumPy array 'arr' with float64 data type, convert it to float32 to reduce decimal precision."
   ]
  },
  {
   "cell_type": "code",
   "execution_count": 25,
   "id": "b6e58396-343a-4263-9b9e-549b18da8be2",
   "metadata": {},
   "outputs": [
    {
     "name": "stdout",
     "output_type": "stream",
     "text": [
      "[1.51 2.67 3.72]\n",
      "[1.51 2.67 3.72]\n"
     ]
    }
   ],
   "source": [
    "arr = np.array([1.51, 2.67, 3.72], dtype=np.float64)\n",
    "print(arr)\n",
    "arr1=np.array(arr, dtype=np.float32)\n",
    "print(arr1)"
   ]
  },
  {
   "cell_type": "markdown",
   "id": "9ff777e2-70bd-4ea9-a9c5-40e1a8d15b30",
   "metadata": {},
   "source": [
    "Q6. Write a function array_attributes that takes a NumPy array as input and returns its shape, size, and data\n",
    "type."
   ]
  },
  {
   "cell_type": "code",
   "execution_count": 35,
   "id": "20667d14-040b-478d-91bd-d41408bab0e5",
   "metadata": {},
   "outputs": [
    {
     "name": "stdout",
     "output_type": "stream",
     "text": [
      "Shape of array is (6,)\n",
      "Size of array is 6\n",
      "Data Type of array is int64\n",
      "Shape of array is (4,)\n",
      "Size of array is 4\n",
      "Data Type of array is float64\n"
     ]
    }
   ],
   "source": [
    "def array_attributes(arr):\n",
    "    print(\"Shape of array is\", np.shape(arr))\n",
    "    print(\"Size of array is\", np.size(arr))\n",
    "    print(\"Data Type of array is\", arr.dtype)\n",
    "    \n",
    "arr=np.array([1,2,4,6,8,9])\n",
    "array_attributes(arr)\n",
    "\n",
    "arr=np.array([1.23,2.57,4.68,6.11])\n",
    "array_attributes(arr)"
   ]
  },
  {
   "cell_type": "markdown",
   "id": "e28bf747-b616-40e7-9c86-f4a85fed835a",
   "metadata": {},
   "source": [
    "Q7. Create a function array_dimension that takes a NumPy array as input and returns its dimensionality."
   ]
  },
  {
   "cell_type": "code",
   "execution_count": 42,
   "id": "1f9ffd09-3367-49fd-87a1-67d450a9b436",
   "metadata": {},
   "outputs": [
    {
     "name": "stdout",
     "output_type": "stream",
     "text": [
      "Dimentionality of array is 1\n",
      "Dimentionality of array is 2\n"
     ]
    }
   ],
   "source": [
    "def array_dimension(arr):\n",
    "    print(\"Dimentionality of array is\", arr.ndim)\n",
    "\n",
    "arr=np.array([3,2,4,5,8,9])\n",
    "array_dimension(arr)\n",
    "\n",
    "arr=np.array([[1,2,3],[4,5,6]])\n",
    "array_dimension(arr)"
   ]
  },
  {
   "cell_type": "markdown",
   "id": "489309e0-8f61-4d4a-8a32-d930999124c1",
   "metadata": {},
   "source": [
    "Q8. Design a function item_size_info that takes a NumPy array as input and returns the item size and the total\n",
    "size in bytes."
   ]
  },
  {
   "cell_type": "code",
   "execution_count": 44,
   "id": "e61d1b59-f8a6-455d-a952-d0789e05b044",
   "metadata": {},
   "outputs": [
    {
     "name": "stdout",
     "output_type": "stream",
     "text": [
      "The item size is 8 bytes\n",
      "The total size is 24 bytes\n",
      "The item size is 8 bytes\n",
      "The total size is 48 bytes\n"
     ]
    }
   ],
   "source": [
    "def item_size_info(arr):\n",
    "    print(\"The item size is\", arr.itemsize,\"bytes\")\n",
    "    print(\"The total size is\", arr.nbytes,\"bytes\")\n",
    "        \n",
    "arr=np.array([3,2,4])\n",
    "item_size_info(arr)\n",
    "\n",
    "arr=np.array([[1,2,3],[4,5,6]])\n",
    "item_size_info(arr)"
   ]
  },
  {
   "cell_type": "markdown",
   "id": "9bbba1f7-68a1-43b5-8b0e-97b3d7cf7006",
   "metadata": {},
   "source": [
    "Q9. Create a function array_strides that takes a NumPy array as input and returns the strides of the array."
   ]
  },
  {
   "cell_type": "code",
   "execution_count": 8,
   "id": "419aec11-5235-410f-af8b-83c07d447abf",
   "metadata": {},
   "outputs": [
    {
     "data": {
      "text/plain": [
       "('The strides of array is', (8,))"
      ]
     },
     "execution_count": 8,
     "metadata": {},
     "output_type": "execute_result"
    }
   ],
   "source": [
    "def array_strides(arr):\n",
    "    return \"The strides of array is\", arr.strides\n",
    "\n",
    "arr=np.array([3,2,4])\n",
    "array_strides(arr)"
   ]
  },
  {
   "cell_type": "markdown",
   "id": "19dacd77-aeec-4373-bba6-0b308fa81010",
   "metadata": {},
   "source": [
    "Q10. Design a function shape_stride_relationship that takes a NumPy array as input and returns the shape\n",
    "and strides of the array."
   ]
  },
  {
   "cell_type": "code",
   "execution_count": 9,
   "id": "44939342-5252-4d99-adc6-c152c574cbe7",
   "metadata": {},
   "outputs": [
    {
     "name": "stdout",
     "output_type": "stream",
     "text": [
      "The shape of array is (4,)\n",
      "The strides of array is (8,)\n"
     ]
    }
   ],
   "source": [
    "def shape_stride_relationship(arr):\n",
    "    print(\"The shape of array is\", np.shape(arr))\n",
    "    print(\"The strides of array is\", arr.strides)\n",
    "    \n",
    "arr=np.array([1.23,2.57,4.68,6.11])\n",
    "shape_stride_relationship(arr)"
   ]
  },
  {
   "cell_type": "markdown",
   "id": "c32227be-64c4-4b71-9e0c-99a48f7122d6",
   "metadata": {},
   "source": [
    "Q11. Create a function `create_zeros_array` that takes an integer `n` as input and returns a NumPy array of\n",
    "zeros with `n` elements."
   ]
  },
  {
   "cell_type": "code",
   "execution_count": 12,
   "id": "23454d49-5a8c-4b0c-83d8-d018014e7b64",
   "metadata": {},
   "outputs": [
    {
     "name": "stdin",
     "output_type": "stream",
     "text": [
      "Enter an integer number to generate array of zeros with 'n' elements 5\n"
     ]
    },
    {
     "data": {
      "text/plain": [
       "array([0, 0, 0, 0, 0])"
      ]
     },
     "execution_count": 12,
     "metadata": {},
     "output_type": "execute_result"
    }
   ],
   "source": [
    "def create_zeros_array(n):\n",
    "    return np.array([0 for i in range (n)])\n",
    "\n",
    "n=int(input(\"Enter an integer number to generate array of zeros with 'n' elements\"))\n",
    "create_zeros_array(n)\n"
   ]
  },
  {
   "cell_type": "markdown",
   "id": "08a2f59f-6685-4bdb-a6ab-9ede082eeb6a",
   "metadata": {},
   "source": [
    "Q12. Write a function `create_ones_matrix` that takes integers `rows` and `cols` as inputs and generates a 2D\n",
    "NumPy array filled with ones of size `rows x cols`."
   ]
  },
  {
   "cell_type": "code",
   "execution_count": 15,
   "id": "58afa03f-35e9-4682-a26a-264fec0131e8",
   "metadata": {},
   "outputs": [
    {
     "name": "stdout",
     "output_type": "stream",
     "text": [
      "For creating a matrix of ones enter the following details:\n"
     ]
    },
    {
     "name": "stdin",
     "output_type": "stream",
     "text": [
      "Enter the number of rows: 2\n",
      "Enter the number of columns: 3\n"
     ]
    },
    {
     "data": {
      "text/plain": [
       "array([[1., 1., 1.],\n",
       "       [1., 1., 1.]])"
      ]
     },
     "execution_count": 15,
     "metadata": {},
     "output_type": "execute_result"
    }
   ],
   "source": [
    "def create_ones_matrix(rows, cols):\n",
    "    return np.ones((rows,cols))\n",
    "\n",
    "print(\"For creating a matrix of ones enter the following details:\")\n",
    "r=int(input(\"Enter the number of rows:\"))\n",
    "c=int(input(\"Enter the number of columns:\"))\n",
    "create_ones_matrix(r,c)"
   ]
  },
  {
   "cell_type": "markdown",
   "id": "6ae29240-fc2d-4abf-b291-d9775770f295",
   "metadata": {},
   "source": [
    "Q13.Write a function `generate_range_array` that takes three integers start, stop, and step as arguments and\n",
    "creates a NumPy array with a range starting from `start`, ending at stop (exclusive), and with the specified\n",
    "`step`."
   ]
  },
  {
   "cell_type": "code",
   "execution_count": 20,
   "id": "bbd33bec-67bf-49a7-9384-31eaf6168a4d",
   "metadata": {},
   "outputs": [
    {
     "name": "stdin",
     "output_type": "stream",
     "text": [
      "Enter any integer value for starting element of the array: 4\n",
      "Enter any integer value for end value of the array: 15\n",
      "Enter any integer value for step between each element of the array: 2\n"
     ]
    },
    {
     "data": {
      "text/plain": [
       "array([ 4,  6,  8, 10, 12, 14])"
      ]
     },
     "execution_count": 20,
     "metadata": {},
     "output_type": "execute_result"
    }
   ],
   "source": [
    "def generate_range_array(start, stop, step):\n",
    "    return np.array([i for i in range(start, stop, step)])\n",
    "\n",
    "\n",
    "start=int(input(\"Enter any integer value for starting element of the array:\"))\n",
    "stop=int(input(\"Enter any integer value for end value of the array:\"))\n",
    "step=int(input(\"Enter any integer value for step between each element of the array:\"))\n",
    "generate_range_array(start, stop, step)"
   ]
  },
  {
   "cell_type": "markdown",
   "id": "59640e5e-cc47-41a3-855a-6bdc6e6fe84b",
   "metadata": {},
   "source": [
    "Q14.  Design a function `generate_linear_space` that takes two floats `start`, `stop`, and an integer `num` as\n",
    "arguments and generates a NumPy array with num equally spaced values between `start` and `stop`\n",
    "(inclusive)."
   ]
  },
  {
   "cell_type": "code",
   "execution_count": 21,
   "id": "25e589fb-493d-43f8-94d6-fbbd1cba17be",
   "metadata": {},
   "outputs": [
    {
     "name": "stdin",
     "output_type": "stream",
     "text": [
      "Enter any float value for starting element of the array: 2.4\n",
      "Enter any float value for end value of the array: 10.4\n",
      "Enter any integer value for generating n equally spaced values between `start` and `stop': 5\n"
     ]
    },
    {
     "data": {
      "text/plain": [
       "array([ 2.4,  4.4,  6.4,  8.4, 10.4])"
      ]
     },
     "execution_count": 21,
     "metadata": {},
     "output_type": "execute_result"
    }
   ],
   "source": [
    "def generate_linear_space(start, stop, num):\n",
    "    return np.linspace(start,stop,num)\n",
    "\n",
    "start=float(input(\"Enter any float value for starting element of the array:\"))\n",
    "stop=float(input(\"Enter any float value for end value of the array:\"))\n",
    "num=int(input(\"Enter any integer value for generating n equally spaced values between `start` and `stop':\"))\n",
    "\n",
    "generate_linear_space(start, stop, num)"
   ]
  },
  {
   "cell_type": "markdown",
   "id": "117e2784-8549-431a-8354-37907b0dd603",
   "metadata": {},
   "source": [
    "Q15. Create a function `create_identity_matrix` that takes an integer `n` as input and generates a square\n",
    "identity matrix of size `n x n` using `numpy.eye`."
   ]
  },
  {
   "cell_type": "code",
   "execution_count": 3,
   "id": "bc4c74a0-048e-4d48-a6e2-a321d8098513",
   "metadata": {},
   "outputs": [
    {
     "name": "stdin",
     "output_type": "stream",
     "text": [
      "Enter an integer value for size of identity matrix: 4\n"
     ]
    },
    {
     "data": {
      "text/plain": [
       "array([[1., 0., 0., 0.],\n",
       "       [0., 1., 0., 0.],\n",
       "       [0., 0., 1., 0.],\n",
       "       [0., 0., 0., 1.]])"
      ]
     },
     "execution_count": 3,
     "metadata": {},
     "output_type": "execute_result"
    }
   ],
   "source": [
    "def create_identity_matrix(n):\n",
    "    return np.eye(n)\n",
    "\n",
    "n=int(input(\"Enter an integer value for size of identity matrix:\"))\n",
    "create_identity_matrix(n)"
   ]
  },
  {
   "cell_type": "markdown",
   "id": "66322f30-3acb-4852-b094-238eb684ea34",
   "metadata": {},
   "source": [
    "Q16. Write a function that takes a Python list and converts it into a NumPy array."
   ]
  },
  {
   "cell_type": "code",
   "execution_count": 7,
   "id": "681586e7-1d7b-4ba1-a4b2-f12db34e5c57",
   "metadata": {},
   "outputs": [
    {
     "data": {
      "text/plain": [
       "array([ 3,  5,  7, 12, 20])"
      ]
     },
     "execution_count": 7,
     "metadata": {},
     "output_type": "execute_result"
    }
   ],
   "source": [
    "def convert_to_array(lst):\n",
    "    return np.array(lst)\n",
    "\n",
    "lst=[3,5,7,12,20]\n",
    "convert_to_array(lst)"
   ]
  },
  {
   "cell_type": "markdown",
   "id": "d5e93172-e0cf-42b0-950d-fad645c5cc61",
   "metadata": {},
   "source": [
    "Q17. Create a NumPy array and demonstrate the use of `numpy.view` to create a new array object with the\n",
    "same data."
   ]
  },
  {
   "cell_type": "code",
   "execution_count": 13,
   "id": "78b31b73-f76c-4f71-b4bc-93661bfd0478",
   "metadata": {},
   "outputs": [
    {
     "name": "stdout",
     "output_type": "stream",
     "text": [
      "Original array:\n",
      "[[100   2   3]\n",
      " [  4   5   6]]\n",
      "\n",
      "View array:\n",
      "[[100   2   3]\n",
      " [  4   5   6]]\n"
     ]
    }
   ],
   "source": [
    "import numpy as np\n",
    "\n",
    "# Create a NumPy array\n",
    "original_array = np.array([[1, 2, 3], [4, 5, 6]])\n",
    "\n",
    "# Create a view of the original array\n",
    "view_array = original_array.view()\n",
    "\n",
    "# Modify the view array\n",
    "view_array[0, 0] = 100\n",
    "\n",
    "print(\"Original array:\")\n",
    "print(original_array)\n",
    "\n",
    "print(\"\\nView array:\")\n",
    "print(view_array)\n"
   ]
  },
  {
   "cell_type": "markdown",
   "id": "a309bea8-f179-4e0c-b14f-eaaa43151130",
   "metadata": {},
   "source": [
    "Q18. Write a function that takes two NumPy arrays and concatenates them along a specified axis."
   ]
  },
  {
   "cell_type": "code",
   "execution_count": 26,
   "id": "314b8315-34f5-484f-84f1-664cb558929b",
   "metadata": {},
   "outputs": [
    {
     "data": {
      "text/plain": [
       "array([[1, 2],\n",
       "       [3, 4],\n",
       "       [5, 6],\n",
       "       [7, 8]])"
      ]
     },
     "execution_count": 26,
     "metadata": {},
     "output_type": "execute_result"
    }
   ],
   "source": [
    "def concatenate_array(arr1,arr2, n):\n",
    "    return np.concatenate((arr1,arr2), axis=n)\n",
    "\n",
    "arr1=np.array([[1,2],[3,4]])\n",
    "arr2=np.array([[5,6],[7,8]])\n",
    "\n",
    "concatenate_array(arr1,arr2, 0) #contenating with axis=0 horizontaly"
   ]
  },
  {
   "cell_type": "code",
   "execution_count": 27,
   "id": "6c95df29-23e9-426b-bf60-4b1f2a8aaab6",
   "metadata": {},
   "outputs": [
    {
     "data": {
      "text/plain": [
       "array([[1, 2, 5, 6],\n",
       "       [3, 4, 7, 8]])"
      ]
     },
     "execution_count": 27,
     "metadata": {},
     "output_type": "execute_result"
    }
   ],
   "source": [
    "concatenate_array(arr1,arr2, 1) #contenating with axis=1 vertically"
   ]
  },
  {
   "cell_type": "markdown",
   "id": "f948a663-d348-46ce-b405-4df0180aacf1",
   "metadata": {},
   "source": [
    "Q19. Create two NumPy arrays with different shapes and concatenate them horizontally using `numpy.concatenate`."
   ]
  },
  {
   "cell_type": "code",
   "execution_count": 28,
   "id": "cab1c8b0-fba4-4623-b814-066d7996de91",
   "metadata": {},
   "outputs": [
    {
     "data": {
      "text/plain": [
       "array([[ 1,  2],\n",
       "       [ 3,  4],\n",
       "       [ 9, 10],\n",
       "       [ 5,  6],\n",
       "       [ 7,  8]])"
      ]
     },
     "execution_count": 28,
     "metadata": {},
     "output_type": "execute_result"
    }
   ],
   "source": [
    "arr1=np.array([[1,2],[3,4],[9,10]])\n",
    "arr2=np.array([[5,6],[7,8]])\n",
    "np.concatenate((arr1,arr2), axis=0)"
   ]
  },
  {
   "cell_type": "markdown",
   "id": "278c26af-1ded-4e28-b3c5-d1b3479835ec",
   "metadata": {},
   "source": [
    "Q20. Write a function that vertically stacks multiple NumPy arrays given as a list."
   ]
  },
  {
   "cell_type": "code",
   "execution_count": 31,
   "id": "33e1de44-8c44-4837-a16e-dc3d7d164022",
   "metadata": {},
   "outputs": [
    {
     "data": {
      "text/plain": [
       "('\\nVertically stacked arrays:\\n',\n",
       " array([[ 1,  2],\n",
       "        [ 3,  4],\n",
       "        [ 5,  6],\n",
       "        [ 7,  8],\n",
       "        [ 9, 10],\n",
       "        [11, 12]]))"
      ]
     },
     "execution_count": 31,
     "metadata": {},
     "output_type": "execute_result"
    }
   ],
   "source": [
    "def array_stacking(*arr):\n",
    "    stacked_array = np.vstack((arr))\n",
    "    return\"\\nVertically stacked arrays:\\n\", stacked_array\n",
    "\n",
    "arr1=np.array([[1,2],[3,4],[5,6]])\n",
    "arr2=np.array([[7,8],[9,10]])\n",
    "arr3=np.array([11,12])\n",
    "array_stacking(arr1,arr2,arr3)"
   ]
  },
  {
   "cell_type": "markdown",
   "id": "44589698-b32f-407c-acbb-3789b296c157",
   "metadata": {},
   "source": [
    "Q21. Write a Python function using NumPy to create an array of integers within a specified range (inclusive)\n",
    "with a given step size."
   ]
  },
  {
   "cell_type": "code",
   "execution_count": 33,
   "id": "c9255bd2-3aa2-4ecd-8a9b-41abf8cb21d3",
   "metadata": {},
   "outputs": [
    {
     "name": "stdin",
     "output_type": "stream",
     "text": [
      "Enter any integer value for starting element of the array: 2\n",
      "Enter any integer value for end value of the array: 11\n",
      "Enter any integer value for step between each element of the array: 3\n"
     ]
    },
    {
     "data": {
      "text/plain": [
       "array([ 2,  5,  8, 11])"
      ]
     },
     "execution_count": 33,
     "metadata": {},
     "output_type": "execute_result"
    }
   ],
   "source": [
    "def int_array(start,stop,step):\n",
    "    return np.array([i for i in range(start,stop+1,step)])\n",
    "\n",
    "start=int(input(\"Enter any integer value for starting element of the array:\"))\n",
    "stop=int(input(\"Enter any integer value for end value of the array:\"))\n",
    "step=int(input(\"Enter any integer value for step between each element of the array:\"))\n",
    "int_array(start,stop,step)"
   ]
  },
  {
   "cell_type": "markdown",
   "id": "4450e3be-1b9a-4fb8-a5b8-4e32286d7a77",
   "metadata": {},
   "source": [
    "Q22. Write a Python function using NumPy to generate an array of 10 equally spaced values between 0 and 1\n",
    "(inclusive)."
   ]
  },
  {
   "cell_type": "code",
   "execution_count": 34,
   "id": "27d3d560-e620-43b4-b5ab-a9ff918374d4",
   "metadata": {},
   "outputs": [
    {
     "data": {
      "text/plain": [
       "array([0.        , 0.11111111, 0.22222222, 0.33333333, 0.44444444,\n",
       "       0.55555556, 0.66666667, 0.77777778, 0.88888889, 1.        ])"
      ]
     },
     "execution_count": 34,
     "metadata": {},
     "output_type": "execute_result"
    }
   ],
   "source": [
    "def gen_array():\n",
    "    return np.linspace(0,1,10)\n",
    "\n",
    "gen_array()"
   ]
  },
  {
   "cell_type": "markdown",
   "id": "71220a8e-e451-4fc8-b005-21aca2faffd1",
   "metadata": {},
   "source": [
    "Q23. Write a Python function using NumPy to create an array of 5 logarithmically spaced values between 1 and\n",
    "1000 (inclusive)."
   ]
  },
  {
   "cell_type": "code",
   "execution_count": 5,
   "id": "ca8553d7-ff9e-497c-b457-c4178cfc0e14",
   "metadata": {},
   "outputs": [
    {
     "data": {
      "text/plain": [
       "array([1.00000000e+001, 5.62341325e+250,             inf,             inf,\n",
       "                   inf])"
      ]
     },
     "execution_count": 5,
     "metadata": {},
     "output_type": "execute_result"
    }
   ],
   "source": [
    "def log_generator():\n",
    "    return np.logspace(1,1000,num=5)\n",
    "    \n",
    "log_generator()"
   ]
  },
  {
   "cell_type": "markdown",
   "id": "e29602ef-3ae9-4bf4-9804-8388141b06c3",
   "metadata": {},
   "source": [
    "Q24.Create a Pandas DataFrame using a NumPy array that contains 5 rows and 3 columns, where the values\n",
    "are random integers between 1 and 100."
   ]
  },
  {
   "cell_type": "code",
   "execution_count": 9,
   "id": "615970ed-ee8c-4de6-90f7-339c856b2753",
   "metadata": {},
   "outputs": [
    {
     "name": "stdout",
     "output_type": "stream",
     "text": [
      "    0   1   2\n",
      "0  62   3  53\n",
      "1  88  54   9\n",
      "2  81  90  71\n",
      "3  17  30  89\n",
      "4  41  28  89\n"
     ]
    }
   ],
   "source": [
    "# Generate a 5x3 NumPy array with random integers between 1 and 100\n",
    "data_array = np.random.randint(1, 101, size=(5, 3))\n",
    "\n",
    "# Create a Pandas DataFrame from the NumPy array\n",
    "df1=pd.DataFrame(data_array)\n",
    "print(df1)"
   ]
  },
  {
   "cell_type": "markdown",
   "id": "934ce555-fe1a-477d-8792-2ed9b66342b7",
   "metadata": {},
   "source": [
    "Q25. Write a function that takes a Pandas DataFrame and replaces all negative values in a specific column\n",
    "with zeros. Use NumPy operations within the Pandas DataFrame."
   ]
  },
  {
   "cell_type": "code",
   "execution_count": 10,
   "id": "a2b12efd-fe41-4a82-bca9-e661e957ed29",
   "metadata": {},
   "outputs": [
    {
     "name": "stdout",
     "output_type": "stream",
     "text": [
      "Original DataFrame:\n",
      "   A   B\n",
      "0  0   6\n",
      "1  2  -7\n",
      "2  0   8\n",
      "3  4  -9\n",
      "4  0  10\n",
      "\n",
      "DataFrame with negative values replaced by zeros:\n",
      "   A   B\n",
      "0  0   6\n",
      "1  2  -7\n",
      "2  0   8\n",
      "3  4  -9\n",
      "4  0  10\n"
     ]
    }
   ],
   "source": [
    "def replace_negatives_with_zeros(df, column_name):\n",
    "    \n",
    "    # Use np.where() to replace negative values with zeros in the specified column\n",
    "    df[column_name] = np.where(df[column_name] < 0, 0, df[column_name])\n",
    "    \n",
    "    return df\n",
    "\n",
    "\n",
    "df = pd.DataFrame({'A': [-1, 2, -3, 4, -5],\n",
    "                   'B': [6, -7, 8, -9, 10]})\n",
    "\n",
    "# Replace negative values with zeros in column 'A'\n",
    "df_updated = replace_negatives_with_zeros(df, 'A')\n",
    "\n",
    "print(\"Original DataFrame:\")\n",
    "print(df)\n",
    "print(\"\\nDataFrame with negative values replaced by zeros:\")\n",
    "print(df_updated)\n"
   ]
  },
  {
   "cell_type": "markdown",
   "id": "3bf33bc7-a541-4882-8a2d-020a27f1fd5a",
   "metadata": {},
   "source": [
    "Q26. Access the 3rd element from the given NumPy array.\n",
    "arr = np.array([10, 20, 30, 40, 50])"
   ]
  },
  {
   "cell_type": "code",
   "execution_count": 11,
   "id": "d3483b85-bfed-4fd9-a10d-042ab7778d6b",
   "metadata": {},
   "outputs": [
    {
     "data": {
      "text/plain": [
       "30"
      ]
     },
     "execution_count": 11,
     "metadata": {},
     "output_type": "execute_result"
    }
   ],
   "source": [
    "arr = np.array([10, 20, 30, 40, 50])\n",
    "arr[2]"
   ]
  },
  {
   "cell_type": "markdown",
   "id": "3bf4a51b-08a2-4555-917f-ae785e2f881a",
   "metadata": {},
   "source": [
    "27. Retrieve the element at index (1, 2) from the 2D NumPy array.\n",
    "arr_2d = np.array([[1, 2, 3],\n",
    "                   [4, 5, 6],\n",
    "                   [7, 8, 9]])"
   ]
  },
  {
   "cell_type": "code",
   "execution_count": 12,
   "id": "a2d7c3b2-2fe9-4d1a-ba9f-456a2a74c70f",
   "metadata": {},
   "outputs": [
    {
     "data": {
      "text/plain": [
       "6"
      ]
     },
     "execution_count": 12,
     "metadata": {},
     "output_type": "execute_result"
    }
   ],
   "source": [
    "arr_2d = np.array([[1, 2, 3],\n",
    "                   [4, 5, 6],\n",
    "                   [7, 8, 9]])\n",
    "arr_2d[(1,2)]"
   ]
  },
  {
   "cell_type": "markdown",
   "id": "e01822b4-ac5f-45cb-bb7e-0fb4dec21e0c",
   "metadata": {},
   "source": [
    "28. Using boolean indexing, extract elements greater than 5 from the given NumPy array.\n",
    "arr = np.array([3, 8, 2, 10, 5, 7])"
   ]
  },
  {
   "cell_type": "code",
   "execution_count": 13,
   "id": "c643cbd1-66f1-46c2-8ce2-7d63541031dc",
   "metadata": {},
   "outputs": [
    {
     "name": "stdout",
     "output_type": "stream",
     "text": [
      "Elements greater than 5: [ 8 10  7]\n"
     ]
    }
   ],
   "source": [
    "arr = np.array([3, 8, 2, 10, 5, 7])\n",
    "greater_than_5 = arr[arr > 5]\n",
    "print(\"Elements greater than 5:\", greater_than_5)"
   ]
  },
  {
   "cell_type": "markdown",
   "id": "85e99a4e-58c9-486f-b674-5c485592c2ba",
   "metadata": {},
   "source": [
    "29. Perform basic slicing to extract elements from index 2 to 5 (inclusive) from the given NumPy array.\n",
    "arr = np.array([1, 2, 3, 4, 5, 6, 7, 8, 9])"
   ]
  },
  {
   "cell_type": "code",
   "execution_count": 14,
   "id": "4f2e1eae-a31c-4deb-801f-7426f76a3745",
   "metadata": {},
   "outputs": [
    {
     "name": "stdout",
     "output_type": "stream",
     "text": [
      "[3 4 5 6]\n"
     ]
    }
   ],
   "source": [
    "arr = np.array([1, 2, 3, 4, 5, 6, 7, 8, 9])\n",
    "arr1=arr[2:6]\n",
    "print(arr1)"
   ]
  },
  {
   "cell_type": "markdown",
   "id": "bbda36e6-c1fe-4b25-9fc4-34390fd6b239",
   "metadata": {},
   "source": [
    "30. Slice the 2D NumPy array to extract the sub-array `[[2, 3], [5, 6]]` from the given array.\n",
    "arr_2d = np.array([[1, 2, 3],\n",
    "                   [4, 5, 6],\n",
    "                   [7, 8, 9]])"
   ]
  },
  {
   "cell_type": "code",
   "execution_count": 16,
   "id": "fc2d3525-d48d-4f0c-9381-3411aae12edd",
   "metadata": {},
   "outputs": [
    {
     "data": {
      "text/plain": [
       "array([[2, 3],\n",
       "       [5, 6]])"
      ]
     },
     "execution_count": 16,
     "metadata": {},
     "output_type": "execute_result"
    }
   ],
   "source": [
    "arr_2d[0:2,1:3]"
   ]
  },
  {
   "cell_type": "markdown",
   "id": "f44a8822-b87c-410f-b817-5529407e15b9",
   "metadata": {},
   "source": [
    "Q31.Write a NumPy function to extract elements in specific order from a given 2D array based on indices\n",
    "provided in another array"
   ]
  },
  {
   "cell_type": "code",
   "execution_count": 19,
   "id": "46eeeb88-c662-4c43-b3c4-881350df9942",
   "metadata": {},
   "outputs": [
    {
     "name": "stdout",
     "output_type": "stream",
     "text": [
      "Extracted elements based on indices: [[1 2 3]\n",
      " [7 8 9]\n",
      " [4 5 6]]\n"
     ]
    }
   ],
   "source": [
    "def extract_elements_by_indices(arr, indices):\n",
    "    \n",
    "    # Use fancy indexing to extract elements from arr based on indices\n",
    "    extracted_elements = arr[indices]\n",
    "    \n",
    "    return extracted_elements\n",
    "\n",
    "\n",
    "arr = np.array([[1, 2, 3],\n",
    "                [4, 5, 6],\n",
    "                [7, 8, 9]])\n",
    "\n",
    "indices = np.array([0, 2, 1])  # Indices to extract elements in the order [0, 2, 1]\n",
    "\n",
    "# Extract elements from arr based on indices\n",
    "extracted_elements = extract_elements_by_indices(arr, indices)\n",
    "\n",
    "print(\"Extracted elements based on indices:\", extracted_elements)\n"
   ]
  },
  {
   "cell_type": "markdown",
   "id": "aa6992f0-0ade-4b43-abca-809b32cd603b",
   "metadata": {},
   "source": [
    "32. Create a NumPy function that filters elements greater than a threshold from a given 1D array using\n",
    "boolean indexing."
   ]
  },
  {
   "cell_type": "code",
   "execution_count": 18,
   "id": "d66c03b3-40a8-4b14-b8ce-ebedb8b77f42",
   "metadata": {},
   "outputs": [
    {
     "name": "stdout",
     "output_type": "stream",
     "text": [
      "Elements greater than 5: [ 8 10  7  9 11]\n"
     ]
    }
   ],
   "source": [
    "arr = np.array([3, 8, 2, 10, 5, 7,9,2,3,11])\n",
    "Threshold = arr[arr > 5]\n",
    "print(\"Elements greater than 5:\", Threshold)"
   ]
  },
  {
   "cell_type": "markdown",
   "id": "8350dd8f-4abc-4bd9-b104-1421d80c7bbe",
   "metadata": {},
   "source": [
    "33. Develop a NumPy function that extracts specific elements from a 3D array using indices provided in three\n",
    "separate arrays for each dimension."
   ]
  },
  {
   "cell_type": "code",
   "execution_count": 21,
   "id": "1e632e55-a73f-427d-b75f-e4eb2ea8900e",
   "metadata": {},
   "outputs": [
    {
     "name": "stdout",
     "output_type": "stream",
     "text": [
      "Extracted elements: [ 1 11]\n"
     ]
    }
   ],
   "source": [
    "def extract_element(array_3d, x,y,z):\n",
    "    extracted_element=array_3d[x,y,z]\n",
    "    return extracted_element\n",
    "    \n",
    "arr = np.array([[[1, 2, 3],\n",
    "                 [4, 5, 6]],\n",
    "                [[7, 8, 9],\n",
    "                 [10, 11, 12]]])\n",
    "\n",
    "x = np.array([0, 1])  # Indices for the first dimension\n",
    "y = np.array([0, 1])  # Indices for the second dimension\n",
    "z = np.array([0, 2])  # Indices for the third dimension\n",
    "\n",
    "# Extract elements from arr based on indices\n",
    "extracted_elements = extract_element(arr, x,y,z)\n",
    "\n",
    "print(\"Extracted elements:\", extracted_elements)"
   ]
  },
  {
   "cell_type": "markdown",
   "id": "6c079385-fbaf-4ef9-85e4-a504002fae74",
   "metadata": {},
   "source": [
    "34. Write a NumPy function that returns elements from an array where both two conditions are satisfied\n",
    "using boolean indexing."
   ]
  },
  {
   "cell_type": "code",
   "execution_count": 22,
   "id": "e9bf0e85-db11-48ec-99fc-d14c546a8561",
   "metadata": {},
   "outputs": [
    {
     "name": "stdout",
     "output_type": "stream",
     "text": [
      "Elements satisfying both conditions: [ 6  8 10]\n"
     ]
    }
   ],
   "source": [
    "def elements_satisfying_conditions(arr, condition1, condition2):\n",
    "    \n",
    "    elements = arr[(condition1) & (condition2)]\n",
    "    \n",
    "    return elements\n",
    "\n",
    "\n",
    "arr = np.array([1, 2, 3, 4, 5, 6, 7, 8, 9, 10])\n",
    "condition1 = arr > 4  # First condition: elements greater than 2\n",
    "condition2 = arr % 2 == 0  # Second condition: even elements\n",
    "\n",
    "# Get elements that satisfy both conditions\n",
    "result = elements_satisfying_conditions(arr, condition1, condition2)\n",
    "\n",
    "print(\"Elements satisfying both conditions:\", result)\n"
   ]
  },
  {
   "cell_type": "markdown",
   "id": "b100cf0d-adc9-4bf9-b315-0eae24d17b29",
   "metadata": {},
   "source": [
    "35. Create a NumPy function that extracts elements from a 2D array using row and column indices provided\n",
    "in separate arrays."
   ]
  },
  {
   "cell_type": "code",
   "execution_count": 23,
   "id": "9d7827dd-2830-416f-8155-955081508b22",
   "metadata": {},
   "outputs": [
    {
     "name": "stdout",
     "output_type": "stream",
     "text": [
      "Extracted elements: [1 5]\n"
     ]
    }
   ],
   "source": [
    "def extract_element(array_2d, row, col):\n",
    "    extracted_element=array_2d[row,col]\n",
    "    return extracted_element\n",
    "    \n",
    "arr = np.array([[1, 2, 3],\n",
    "                 [4, 5, 6]])\n",
    "\n",
    "row = np.array([0, 1])  \n",
    "col= np.array([0, 1])  \n",
    "\n",
    "\n",
    "# Extract elements from arr based on indices\n",
    "extracted_elements = extract_element(arr, row, col)\n",
    "\n",
    "print(\"Extracted elements:\", extracted_elements)"
   ]
  },
  {
   "cell_type": "markdown",
   "id": "323bcf04-a35c-4e3b-9d75-eae0bba3457f",
   "metadata": {},
   "source": [
    "36. Given an array arr of shape (3, 3), add a scalar value of 5 to each element using NumPy broadcasting."
   ]
  },
  {
   "cell_type": "code",
   "execution_count": 28,
   "id": "06af174c-a8d3-4bc6-b51a-3f8082752014",
   "metadata": {},
   "outputs": [
    {
     "name": "stdout",
     "output_type": "stream",
     "text": [
      "[[6. 6. 6.]\n",
      " [6. 6. 6.]\n",
      " [6. 6. 6.]]\n"
     ]
    }
   ],
   "source": [
    "arr=np.ones((3,3))\n",
    "res=arr+5\n",
    "print(res)"
   ]
  },
  {
   "cell_type": "markdown",
   "id": "ccbd2485-4581-4509-8492-706144713d46",
   "metadata": {},
   "source": [
    "37. Consider two arrays arr1 of shape (1, 3) and arr2 of shape (3, 4). Multiply each row of arr2 by the\n",
    "corresponding element in arr1 using NumPy broadcasting."
   ]
  },
  {
   "cell_type": "code",
   "execution_count": 33,
   "id": "d2119021-7942-46ea-ad31-be22d2c42d1f",
   "metadata": {},
   "outputs": [
    {
     "name": "stdout",
     "output_type": "stream",
     "text": [
      "[[ 1  2  3  4]\n",
      " [10 12 14 16]\n",
      " [27 30 33 36]]\n"
     ]
    }
   ],
   "source": [
    "arr1=np.array([1,2,3])\n",
    "arr2=np.array([[1,2,3,4],\n",
    "             [5,6,7,8],\n",
    "             [9,10,11,12]])\n",
    "arr1_reshaped = arr1.reshape(3, 1) #reshaping array1 for multiplying with each row of array2\n",
    "res=arr2*arr1_reshaped\n",
    "print(res)"
   ]
  },
  {
   "cell_type": "markdown",
   "id": "102fbe02-cd19-47ac-9ab5-47deca8d6f73",
   "metadata": {},
   "source": [
    "38. Given a 1D array arr1 of shape (1, 4) and a 2D array arr2 of shape (4, 3), add arr1 to each row of arr2 using\n",
    "NumPy broadcasting."
   ]
  },
  {
   "cell_type": "code",
   "execution_count": 38,
   "id": "ccccf339-b75c-4b3a-996f-737d8a07b933",
   "metadata": {},
   "outputs": [
    {
     "name": "stdout",
     "output_type": "stream",
     "text": [
      "[[ 2  3  4]\n",
      " [ 6  7  8]\n",
      " [10 11 12]\n",
      " [14 15 16]]\n"
     ]
    }
   ],
   "source": [
    "arr_1d=np.array([1,2,3,4])\n",
    "arr_2d=np.array([[1,2,3],\n",
    "                 [4,5,6],\n",
    "                 [7,8,9],\n",
    "                 [10,11,12]])\n",
    "res=arr_1d.reshape(4,1)+arr_2d\n",
    "print(res)"
   ]
  },
  {
   "cell_type": "code",
   "execution_count": null,
   "id": "a27f68cf-741e-4f35-bdb6-64b5750af5ee",
   "metadata": {},
   "outputs": [],
   "source": [
    "39. Consider two arrays arr1 of shape (3, 1) and arr2 of shape (1, 3). Add these arrays using NumPy\n",
    "broadcasting."
   ]
  },
  {
   "cell_type": "code",
   "execution_count": 42,
   "id": "00297e33-a7a5-4961-a594-c10d98d41eb0",
   "metadata": {},
   "outputs": [
    {
     "name": "stdout",
     "output_type": "stream",
     "text": [
      "[[2 3 4]\n",
      " [3 4 5]\n",
      " [4 5 6]]\n"
     ]
    }
   ],
   "source": [
    "arr1=np.array([[1],[2],[3]]) #array(3,1)\n",
    "arr2=np.array([1,2,3]) #array(1,3)\n",
    "res=arr1+arr2\n",
    "print(res)"
   ]
  },
  {
   "cell_type": "code",
   "execution_count": null,
   "id": "8061316f-f014-459b-a451-1f192e49f472",
   "metadata": {},
   "outputs": [],
   "source": [
    "40. Given arrays arr1 of shape (2, 3) and arr2 of shape (2, 2), perform multiplication using NumPy\n",
    "broadcasting. Handle the shape incompatibility."
   ]
  },
  {
   "cell_type": "code",
   "execution_count": 53,
   "id": "00fe094d-09dc-4678-b35a-9f600456c26e",
   "metadata": {},
   "outputs": [
    {
     "name": "stdout",
     "output_type": "stream",
     "text": [
      "[[ 6  6]\n",
      " [14 14]\n",
      " [22 22]]\n"
     ]
    }
   ],
   "source": [
    "arr1=np.array([[1,2,3],\n",
    "              [4,5,6]])\n",
    "arr2=np.array([[2,2],\n",
    "              [2,2]])\n",
    "rarr1=arr1.reshape(3,2)\n",
    "res=rarr1@arr2\n",
    "print(res)"
   ]
  },
  {
   "cell_type": "markdown",
   "id": "3acf0d00-b5cb-40ad-82e5-fdc8c87fc599",
   "metadata": {},
   "source": [
    "41. Calculate column wise mean for the given array:\n",
    "arr = np.array([[1, 2, 3], [4, 5, 6]])"
   ]
  },
  {
   "cell_type": "code",
   "execution_count": 58,
   "id": "9e1aa375-74a9-4ad8-8df2-3ef40600515b",
   "metadata": {},
   "outputs": [
    {
     "data": {
      "text/plain": [
       "array([2.5, 3.5, 4.5])"
      ]
     },
     "execution_count": 58,
     "metadata": {},
     "output_type": "execute_result"
    }
   ],
   "source": [
    "arr = np.array([[1, 2, 3], [4, 5, 6]])\n",
    "arr.mean(axis=0)"
   ]
  },
  {
   "cell_type": "markdown",
   "id": "1de1c9a2-5e9d-492d-9ff6-03b5ced7b584",
   "metadata": {},
   "source": [
    "42. Find maximum value in each row of the given array:\n",
    "arr = np.array([[1, 2, 3], [4, 5, 6]])"
   ]
  },
  {
   "cell_type": "code",
   "execution_count": 57,
   "id": "21cc9b08-9434-449c-8c39-d0312fde2f2b",
   "metadata": {},
   "outputs": [
    {
     "data": {
      "text/plain": [
       "array([2., 5.])"
      ]
     },
     "execution_count": 57,
     "metadata": {},
     "output_type": "execute_result"
    }
   ],
   "source": [
    "arr = np.array([[1, 2, 3], [4, 5, 6]])\n",
    "arr.mean(axis=1)"
   ]
  },
  {
   "cell_type": "markdown",
   "id": "32912666-af30-4062-91e2-3553951e8419",
   "metadata": {},
   "source": [
    "43. For the given array, find indices of maximum value in each column.\n",
    "arr = np.array([[1, 2, 3], [4, 5, 6]])"
   ]
  },
  {
   "cell_type": "code",
   "execution_count": 59,
   "id": "4f79b35f-3254-4411-9452-ed2b45ab03c7",
   "metadata": {},
   "outputs": [
    {
     "data": {
      "text/plain": [
       "array([4, 5, 6])"
      ]
     },
     "execution_count": 59,
     "metadata": {},
     "output_type": "execute_result"
    }
   ],
   "source": [
    "arr = np.array([[1, 2, 3], [4, 5, 6]])\n",
    "arr.max(axis=0)"
   ]
  },
  {
   "cell_type": "markdown",
   "id": "de79ed30-d749-4efd-a683-e654aefe1af6",
   "metadata": {},
   "source": [
    "44. For the given array, apply custom function to calculate moving sum along rows.\n",
    "arr = np.array([[1, 2, 3], [4, 5, 6]])"
   ]
  },
  {
   "cell_type": "code",
   "execution_count": 63,
   "id": "e56f7cf2-453c-4dbe-b3a2-ee17927aa570",
   "metadata": {},
   "outputs": [
    {
     "name": "stdout",
     "output_type": "stream",
     "text": [
      "Original array:\n",
      "[[1 2 3]\n",
      " [4 5 6]]\n",
      "\n",
      "Moving sum along rows (custom function):\n",
      "[[ 1  3  6]\n",
      " [ 4  9 15]]\n"
     ]
    }
   ],
   "source": [
    "def moving_sum_along_rows(arr):\n",
    "    # Initialize an empty list to store the moving sum results\n",
    "    moving_sums = []\n",
    "    \n",
    "    # Iterate over each row in the array\n",
    "    for row in arr:\n",
    "        # Initialize an empty list to store the moving sum for the current row\n",
    "        row_moving_sum = []\n",
    "        \n",
    "        # Initialize a variable to store the cumulative sum\n",
    "        cumulative_sum = 0\n",
    "        \n",
    "        # Iterate over each element in the row\n",
    "        for element in row:\n",
    "            # Add the current element to the cumulative sum\n",
    "            cumulative_sum += element\n",
    "            \n",
    "            # Append the cumulative sum to the row_moving_sum list\n",
    "            row_moving_sum.append(cumulative_sum)\n",
    "        \n",
    "        # Append the row_moving_sum list to the moving_sums list\n",
    "        moving_sums.append(row_moving_sum)\n",
    "    \n",
    "    # Convert the moving_sums list to a NumPy array and return it\n",
    "    return np.array(moving_sums)\n",
    "\n",
    "# Given array\n",
    "arr = np.array([[1, 2, 3],\n",
    "                [4, 5, 6]])\n",
    "\n",
    "# Calculate the moving sum along rows using the custom function\n",
    "result = moving_sum_along_rows(arr)\n",
    "\n",
    "print(\"Original array:\")\n",
    "print(arr)\n",
    "print(\"\\nMoving sum along rows (custom function):\")\n",
    "print(result)\n"
   ]
  },
  {
   "cell_type": "markdown",
   "id": "07ca9a80-8a80-413c-8990-da24687ae958",
   "metadata": {},
   "source": [
    "45. In the given array, check if all elements in each column are even.\n",
    "arr = np.array([[2, 4, 6], [3, 5, 7]])"
   ]
  },
  {
   "cell_type": "code",
   "execution_count": 65,
   "id": "fc365c0a-d303-4fc2-85ea-1cdfe030cfde",
   "metadata": {},
   "outputs": [
    {
     "name": "stdout",
     "output_type": "stream",
     "text": [
      "[ True False False]\n"
     ]
    }
   ],
   "source": [
    "arr = np.array([[2, 4, 6], [8, 5, 7]])\n",
    "all_even_columns = np.all(arr % 2 == 0, axis=0)\n",
    "print(all_even_columns)"
   ]
  },
  {
   "cell_type": "markdown",
   "id": "287229f2-848d-4879-ad96-e2826ae31b5b",
   "metadata": {},
   "source": [
    "46. Given a NumPy array arr, reshape it into a matrix of dimensions `m` rows and `n` columns. Return the\n",
    "reshaped matrix.\n",
    "original_array = np.array([1, 2, 3, 4, 5, 6])"
   ]
  },
  {
   "cell_type": "code",
   "execution_count": 69,
   "id": "32b99371-8c94-4dda-a76c-8c85250791e9",
   "metadata": {},
   "outputs": [
    {
     "name": "stdout",
     "output_type": "stream",
     "text": [
      "[[1]\n",
      " [2]\n",
      " [3]\n",
      " [4]\n",
      " [5]\n",
      " [6]]\n",
      "\n",
      " [[1 2]\n",
      " [3 4]\n",
      " [5 6]]\n",
      "\n",
      " [[1 2 3]\n",
      " [4 5 6]]\n",
      "\n",
      " [[[1 2 3]]\n",
      "\n",
      " [[4 5 6]]]\n"
     ]
    }
   ],
   "source": [
    "original_array = np.array([1, 2, 3, 4, 5, 6])\n",
    "print(original_array.reshape(6,1))\n",
    "print(\"\\n\",original_array.reshape(3,2))\n",
    "print(\"\\n\",original_array.reshape(2,3))\n",
    "print(\"\\n\",original_array.reshape(2,1,3))"
   ]
  },
  {
   "cell_type": "markdown",
   "id": "c4d305f8-a18d-4a6d-98b6-6214cff09f4e",
   "metadata": {},
   "source": [
    "47. Create a function that takes a matrix as input and returns the flattened array.\n",
    "input_matrix = np.array([[1, 2, 3], [4, 5, 6]])"
   ]
  },
  {
   "cell_type": "code",
   "execution_count": 70,
   "id": "c9ac6132-ebc0-43cf-ac70-32c33603aced",
   "metadata": {},
   "outputs": [
    {
     "name": "stdout",
     "output_type": "stream",
     "text": [
      "Input matrix:\n",
      "[[1 2 3]\n",
      " [4 5 6]]\n",
      "\n",
      "Flattened array:\n",
      "[1 2 3 4 5 6]\n"
     ]
    }
   ],
   "source": [
    "def flatten_matrix(input_matrix):\n",
    "    \n",
    "    return input_matrix.flatten()\n",
    "\n",
    "# Given input matrix\n",
    "input_matrix = np.array([[1, 2, 3],\n",
    "                         [4, 5, 6]])\n",
    "\n",
    "# Flatten the matrix\n",
    "flattened_array = flatten_matrix(input_matrix)\n",
    "\n",
    "print(\"Input matrix:\")\n",
    "print(input_matrix)\n",
    "print(\"\\nFlattened array:\")\n",
    "print(flattened_array)\n"
   ]
  },
  {
   "cell_type": "markdown",
   "id": "e6e39aba-ae24-45f3-bcc2-21c1682369cb",
   "metadata": {},
   "source": [
    "48. Write a function that concatenates two given arrays along a specified axis.\n",
    "array1 = np.array([[1, 2], [3, 4]])\n",
    "array2 = np.array([[5, 6], [7, 8]])"
   ]
  },
  {
   "cell_type": "code",
   "execution_count": 72,
   "id": "0b0686f3-cecc-4f9e-9fc5-364107841b8d",
   "metadata": {},
   "outputs": [
    {
     "data": {
      "text/plain": [
       "array([[1, 2],\n",
       "       [3, 4],\n",
       "       [5, 6],\n",
       "       [7, 8]])"
      ]
     },
     "execution_count": 72,
     "metadata": {},
     "output_type": "execute_result"
    }
   ],
   "source": [
    "def concatenate_array(arr1,arr2, n):\n",
    "    return np.concatenate((arr1,arr2), axis=n)\n",
    "\n",
    "array1=np.array([[1,2],[3,4]])\n",
    "array2=np.array([[5,6],[7,8]])\n",
    "\n",
    "concatenate_array(array1,array2, 0) #concatenate along axis=0\n"
   ]
  },
  {
   "cell_type": "code",
   "execution_count": 73,
   "id": "ef40c9e4-98d7-4791-8e09-fe965ca0d43b",
   "metadata": {},
   "outputs": [
    {
     "data": {
      "text/plain": [
       "array([[1, 2, 5, 6],\n",
       "       [3, 4, 7, 8]])"
      ]
     },
     "execution_count": 73,
     "metadata": {},
     "output_type": "execute_result"
    }
   ],
   "source": [
    "concatenate_array(array1,array2, 1) #concatenate along axis=1"
   ]
  },
  {
   "cell_type": "markdown",
   "id": "cab076c9-345e-49f6-9e0f-b943e1315582",
   "metadata": {},
   "source": [
    "Q49.Create a function that splits an array into multiple sub-arrays along a specified axis.\n",
    "original_array = np.array([[1, 2, 3], [4, 5, 6], [7, 8, 9]])"
   ]
  },
  {
   "cell_type": "code",
   "execution_count": 75,
   "id": "3dd0c5e4-852a-4c26-bb9a-5638e121be70",
   "metadata": {},
   "outputs": [
    {
     "data": {
      "text/plain": [
       "[array([[1, 2, 3]]), array([[4, 5, 6]]), array([[7, 8, 9]])]"
      ]
     },
     "execution_count": 75,
     "metadata": {},
     "output_type": "execute_result"
    }
   ],
   "source": [
    "def split_array(arr,split_num,axis):\n",
    "    return np.split(arr,split_num,axis=axis)\n",
    "\n",
    "original_array = np.array([[1, 2, 3], [4, 5, 6], [7, 8, 9]])\n",
    "split_array(original_array,3,0)"
   ]
  },
  {
   "cell_type": "code",
   "execution_count": 76,
   "id": "75564cba-da1a-4914-b8cc-0a9e388b6360",
   "metadata": {},
   "outputs": [
    {
     "data": {
      "text/plain": [
       "[array([[1],\n",
       "        [4],\n",
       "        [7]]),\n",
       " array([[2],\n",
       "        [5],\n",
       "        [8]]),\n",
       " array([[3],\n",
       "        [6],\n",
       "        [9]])]"
      ]
     },
     "execution_count": 76,
     "metadata": {},
     "output_type": "execute_result"
    }
   ],
   "source": [
    "split_array(original_array,3,1)"
   ]
  },
  {
   "cell_type": "markdown",
   "id": "40345976-a0ab-4bfe-86f9-d2b93fe50db3",
   "metadata": {},
   "source": [
    "Q50.  Write a function that inserts and then deletes elements from a given array at specified indices.\n",
    "original_array = np.array([1, 2, 3, 4, 5])\n",
    "indices_to_insert = [2, 4]\n",
    "values_to_insert = [10, 11]\n",
    "indices_to_delete = [1, 3]"
   ]
  },
  {
   "cell_type": "code",
   "execution_count": 78,
   "id": "420c8c8c-fe03-4a9a-a5d1-a8f2f72037db",
   "metadata": {},
   "outputs": [
    {
     "name": "stdout",
     "output_type": "stream",
     "text": [
      "The original array [1 2 3 4 5]\n",
      "The new array with values inserted at specified indices [ 1  2 10  3  4 11  5]\n",
      "The array after deleting specified indices [ 1 10  4 11  5]\n"
     ]
    }
   ],
   "source": [
    "def func(arr,indices_to_insert,values_to_insert,indices_to_delete):\n",
    "    print(\"The original array\", arr)\n",
    "    inserted_arr=np.insert(arr,indices_to_insert,values_to_insert)\n",
    "    print(\"The new array with values inserted at specified indices\",inserted_arr)\n",
    "    del_arr=np.delete(inserted_arr,indices_to_delete)\n",
    "    print(\"The array after deleting specified indices\",del_arr)\n",
    "    \n",
    "\n",
    "original_array = np.array([1, 2, 3, 4, 5])\n",
    "indices_to_insert = [2, 4]\n",
    "values_to_insert = [10, 11]\n",
    "indices_to_delete = [1, 3]\n",
    "func(original_array,indices_to_insert,values_to_insert,indices_to_delete)"
   ]
  },
  {
   "cell_type": "markdown",
   "id": "2c0978f6-2d09-4dda-b595-bceb89097b16",
   "metadata": {},
   "source": [
    "51. Create a NumPy array `arr1` with random integers and another array `arr2` with integers from 1 to 10.\n",
    "Perform element-wise addition between `arr1` and `arr2`."
   ]
  },
  {
   "cell_type": "code",
   "execution_count": 84,
   "id": "a6fc386a-07ca-42b4-842d-050bad68096d",
   "metadata": {},
   "outputs": [
    {
     "name": "stdout",
     "output_type": "stream",
     "text": [
      "[[[0.35781581 0.8354861 ]]]\n",
      "\n",
      " [ 1  2  3  4  5  6  7  8  9 10]\n",
      "\n",
      " [[ 1.35781581  2.35781581  3.35781581  4.35781581  5.35781581  6.35781581\n",
      "   7.35781581  8.35781581  9.35781581 10.35781581]\n",
      " [ 1.8354861   2.8354861   3.8354861   4.8354861   5.8354861   6.8354861\n",
      "   7.8354861   8.8354861   9.8354861  10.8354861 ]]\n"
     ]
    }
   ],
   "source": [
    "arr1=np.array([np.random.rand(1,2)])\n",
    "print(arr1)\n",
    "arr2=np.array([i for i in range(1,11)])\n",
    "print(\"\\n\",arr2)\n",
    "res=arr1.reshape(2,1)+arr2\n",
    "print(\"\\n\",res)"
   ]
  },
  {
   "cell_type": "markdown",
   "id": "5de4548b-61c5-4876-957c-d60aba5f0c76",
   "metadata": {},
   "source": [
    "Q52. Generate a NumPy array `arr1` with sequential integers from 10 to 1 and another array `arr2` with integers\n",
    "from 1 to 10. Subtract `arr2` from `arr1` element-wise."
   ]
  },
  {
   "cell_type": "code",
   "execution_count": 86,
   "id": "bb977136-504b-47a0-8aee-739de94c6729",
   "metadata": {},
   "outputs": [
    {
     "name": "stdout",
     "output_type": "stream",
     "text": [
      "[10  9  8  7  6  5  4  3  2  1]\n",
      "\n",
      " [ 1  2  3  4  5  6  7  8  9 10]\n",
      "\n",
      " [ 9  7  5  3  1 -1 -3 -5 -7 -9]\n"
     ]
    }
   ],
   "source": [
    "arr1=np.array([i for i in range(10,0,-1)])\n",
    "print(arr1)\n",
    "arr2=np.array([i for i in range(1,11)])\n",
    "print(\"\\n\",arr2)\n",
    "res=arr1-arr2\n",
    "print(\"\\n\",res)"
   ]
  },
  {
   "cell_type": "markdown",
   "id": "d2c4fa93-122b-45e2-9886-7af546a3bff1",
   "metadata": {},
   "source": [
    "Q53. Create a NumPy array `arr1` with random integers and another array `arr2` with integers from 1 to 5.\n",
    "Perform element-wise multiplication between `arr1` and `arr2`."
   ]
  },
  {
   "cell_type": "code",
   "execution_count": 87,
   "id": "ef9a7aba-11fd-4057-91f3-d6ff075a3101",
   "metadata": {},
   "outputs": [
    {
     "name": "stdout",
     "output_type": "stream",
     "text": [
      "[[[0.22434785]\n",
      "  [0.83934999]]]\n",
      "\n",
      " [1 2 3 4 5]\n",
      "\n",
      " [[[0.22434785 0.44869569 0.67304354 0.89739138 1.12173923]\n",
      "  [0.83934999 1.67869997 2.51804996 3.35739994 4.19674993]]]\n"
     ]
    }
   ],
   "source": [
    "arr1=np.array([np.random.rand(2,1)])\n",
    "print(arr1)\n",
    "arr2=np.array([i for i in range(1,6)])\n",
    "print(\"\\n\",arr2)\n",
    "res=arr1*arr2\n",
    "print(\"\\n\",res)"
   ]
  },
  {
   "cell_type": "markdown",
   "id": "ee91ecec-ab0b-4589-b50e-cb1075f5d677",
   "metadata": {},
   "source": [
    "Q54. Generate a NumPy array `arr1` with even integers from 2 to 10 and another array `arr2` with integers from 1\n",
    "to 5. Perform element-wise division of `arr1` by `arr2`."
   ]
  },
  {
   "cell_type": "code",
   "execution_count": 88,
   "id": "ac8f9326-072b-4bb2-8198-889b38e99d11",
   "metadata": {},
   "outputs": [
    {
     "name": "stdout",
     "output_type": "stream",
     "text": [
      "[ 2  4  6  8 10]\n",
      "\n",
      " [1 2 3 4 5]\n",
      "\n",
      " [2. 2. 2. 2. 2.]\n"
     ]
    }
   ],
   "source": [
    "arr1=np.array([i for i in range(2,11) if i%2==0])\n",
    "print(arr1)\n",
    "arr2=np.array([i for i in range(1,6)])\n",
    "print(\"\\n\",arr2)\n",
    "res=arr1/arr2\n",
    "print(\"\\n\",res)"
   ]
  },
  {
   "cell_type": "markdown",
   "id": "3b128538-bd31-4215-8957-a67a6da4e8fc",
   "metadata": {},
   "source": [
    "Q55. Create a NumPy array `arr1` with integers from 1 to 5 and another array `arr2` with the same numbers\n",
    "reversed. Calculate the exponentiation of `arr1` raised to the power of `arr2` element-wise."
   ]
  },
  {
   "cell_type": "code",
   "execution_count": 93,
   "id": "ee10ea81-50dd-4acb-91e0-d2df432dacc1",
   "metadata": {},
   "outputs": [
    {
     "name": "stdout",
     "output_type": "stream",
     "text": [
      "[1 2 3 4 5]\n",
      "\n",
      " [5 4 3 2 1]\n",
      "\n",
      " [ 1 16 27 16  5]\n"
     ]
    }
   ],
   "source": [
    "arr1=np.arange(1,6)\n",
    "print(arr1)\n",
    "arr2=np.flip(arr1)\n",
    "print(\"\\n\",arr2)\n",
    "res=np.power(arr1,arr2)\n",
    "print(\"\\n\",res)\n"
   ]
  },
  {
   "cell_type": "markdown",
   "id": "018e74a4-b13c-4fbf-80e4-f93ba0fb7978",
   "metadata": {},
   "source": [
    "Q56. Write a function that counts the occurrences of a specific substring within a NumPy array of strings.\n",
    "arr = np.array(['hello', 'world', 'hello', 'numpy', 'hello'])"
   ]
  },
  {
   "cell_type": "code",
   "execution_count": 2,
   "id": "e3278e45-9531-4f1d-b151-9967d3db9ca3",
   "metadata": {},
   "outputs": [
    {
     "data": {
      "text/plain": [
       "3"
      ]
     },
     "execution_count": 2,
     "metadata": {},
     "output_type": "execute_result"
    }
   ],
   "source": [
    "def count_substring(arr, subs):\n",
    "    count=0\n",
    "    for s in arr:\n",
    "        count+=s.count(subs)\n",
    "    return count\n",
    "\n",
    "arr = np.array(['hello', 'world', 'hello', 'numpy', 'hello'])\n",
    "subs='hello'\n",
    "count_substring(arr, subs)"
   ]
  },
  {
   "cell_type": "markdown",
   "id": "7ee76ab2-9ec7-4b25-9783-91c52a58ed84",
   "metadata": {},
   "source": [
    "Q57. Write a function that extracts uppercase characters from a NumPy array of strings.\n",
    "arr = np.array(['Hello', 'World', 'OpenAI', 'GPT'])"
   ]
  },
  {
   "cell_type": "code",
   "execution_count": 7,
   "id": "8b26fbab-a980-4c57-81b0-256029d8ba6f",
   "metadata": {},
   "outputs": [
    {
     "data": {
      "text/plain": [
       "['H', 'W', 'O', 'A', 'I', 'G', 'P', 'T']"
      ]
     },
     "execution_count": 7,
     "metadata": {},
     "output_type": "execute_result"
    }
   ],
   "source": [
    "def upper_case(arr):\n",
    "    lst=[]\n",
    "    for s in arr:\n",
    "        for i in s:\n",
    "            if i.isupper()==True:\n",
    "                lst.append(i)\n",
    "    return lst\n",
    "\n",
    "arr = np.array(['Hello', 'World', 'OpenAI', 'GPT'])\n",
    "upper_case(arr)"
   ]
  },
  {
   "cell_type": "markdown",
   "id": "20672da9-9711-4e3a-9635-9e61c7dda21f",
   "metadata": {},
   "source": [
    "Q58. Write a function that replaces occurrences of a substring in a NumPy array of strings with a new string.\n",
    "arr = np.array(['apple', 'banana', 'grape', 'pineapple'])"
   ]
  },
  {
   "cell_type": "code",
   "execution_count": 8,
   "id": "82486bda-356e-4ab4-ad15-4e5d2f4138ca",
   "metadata": {},
   "outputs": [
    {
     "name": "stdout",
     "output_type": "stream",
     "text": [
      "Original array:\n",
      "['apple' 'banana' 'grape' 'pineapple']\n",
      "\n",
      "After replacement:\n",
      "['orange' 'banana' 'grape' 'pineorange']\n"
     ]
    }
   ],
   "source": [
    "def replace_substring(arr, old_substring, new_substring):\n",
    "    \n",
    "    return np.array([s.replace(old_substring, new_substring) for s in arr])\n",
    "\n",
    "# Given NumPy array of strings\n",
    "arr = np.array(['apple', 'banana', 'grape', 'pineapple'])\n",
    "\n",
    "# Substring to be replaced and new substring\n",
    "old_substring = 'apple'\n",
    "new_substring = 'orange'\n",
    "\n",
    "# Replace occurrences of old_substring with new_substring in the array\n",
    "result = replace_substring(arr, old_substring, new_substring)\n",
    "\n",
    "print(\"Original array:\")\n",
    "print(arr)\n",
    "print(\"\\nAfter replacement:\")\n",
    "print(result)\n"
   ]
  },
  {
   "cell_type": "markdown",
   "id": "46268e11-c38a-424b-adcf-e0d97cb58fe4",
   "metadata": {},
   "source": [
    "Q59. Write a function that concatenates strings in a NumPy array element-wise.\n",
    "arr1 = np.array(['Hello', 'World'])\n",
    "arr2 = np.array(['Open', 'AI'])"
   ]
  },
  {
   "cell_type": "code",
   "execution_count": 9,
   "id": "036e88d0-6229-47dc-a272-634d21a434a1",
   "metadata": {},
   "outputs": [
    {
     "data": {
      "text/plain": [
       "('HelloWorld', 'OpenAI')"
      ]
     },
     "execution_count": 9,
     "metadata": {},
     "output_type": "execute_result"
    }
   ],
   "source": [
    "def concat(arr1,arr2):\n",
    "    return arr1[0]+arr1[1], arr2[0]+arr2[1]\n",
    "        \n",
    "arr1 = np.array(['Hello', 'World'])\n",
    "arr2 = np.array(['Open', 'AI'])\n",
    "concat(arr1,arr2)"
   ]
  },
  {
   "cell_type": "code",
   "execution_count": 10,
   "id": "1121129f-b218-4849-ba10-10eaab8000b9",
   "metadata": {},
   "outputs": [
    {
     "name": "stdout",
     "output_type": "stream",
     "text": [
      "Array 1:\n",
      "['Hello' 'World']\n",
      "\n",
      "Array 2:\n",
      "['Open' 'AI']\n",
      "\n",
      "Concatenated array:\n",
      "['HelloOpen' 'WorldAI']\n"
     ]
    }
   ],
   "source": [
    "def concatenate_strings(arr1, arr2):\n",
    "    \n",
    "    # Check if both arrays have the same shape\n",
    "    if arr1.shape != arr2.shape:\n",
    "        raise ValueError(\"Arrays must have the same shape for element-wise concatenation.\")\n",
    "    \n",
    "    # Concatenate strings element-wise using list comprehension\n",
    "    concatenated_array = np.array([s1 + s2 for s1, s2 in zip(arr1, arr2)])\n",
    "    \n",
    "    return concatenated_array\n",
    "\n",
    "# Given NumPy arrays of strings\n",
    "arr1 = np.array(['Hello', 'World'])\n",
    "arr2 = np.array(['Open', 'AI'])\n",
    "\n",
    "# Concatenate strings element-wise\n",
    "result = concatenate_strings(arr1, arr2)\n",
    "\n",
    "print(\"Array 1:\")\n",
    "print(arr1)\n",
    "print(\"\\nArray 2:\")\n",
    "print(arr2)\n",
    "print(\"\\nConcatenated array:\")\n",
    "print(result)\n"
   ]
  },
  {
   "cell_type": "markdown",
   "id": "2c717fdd-44bc-437b-a83a-25b2e57bcc81",
   "metadata": {},
   "source": [
    "Q60. Write a function that finds the length of the longest string in a NumPy array.\n",
    "arr = np.array(['apple', 'banana', 'grape', 'pineapple'])"
   ]
  },
  {
   "cell_type": "code",
   "execution_count": 14,
   "id": "18469f78-9b1d-450f-a7c6-8b423fdcf5d3",
   "metadata": {},
   "outputs": [
    {
     "data": {
      "text/plain": [
       "('The longest string length is', 9)"
      ]
     },
     "execution_count": 14,
     "metadata": {},
     "output_type": "execute_result"
    }
   ],
   "source": [
    "def longest_str(arr):\n",
    "    max_length=max((len(s)) for s in arr)\n",
    "    return \"The longest string length is\", max_length\n",
    "\n",
    "arr = np.array(['apple', 'banana', 'grape', 'pineapple'])\n",
    "longest_str(arr)          "
   ]
  },
  {
   "cell_type": "markdown",
   "id": "a493935e-d6ea-4fe7-9162-a8f4701822fd",
   "metadata": {},
   "source": [
    "Q61. Create a dataset of 100 random integers between 1 and 1000. Compute the mean, median, variance, and\n",
    "standard deviation of the dataset using NumPy's functions."
   ]
  },
  {
   "cell_type": "code",
   "execution_count": 19,
   "id": "cce4fc53-2032-49f5-9051-01d62ea80618",
   "metadata": {},
   "outputs": [
    {
     "name": "stdout",
     "output_type": "stream",
     "text": [
      "Dataset\n",
      " [ 685  560  630  193  836  764  708  360   10  724  278  755  805  600\n",
      "   71  473  601  397  315  706  487  552   88  175  601  850  678  538\n",
      "  846   73  778  917  116  977  756  710  848  432  449  851  100  985\n",
      "  178  756  798  660  148  911  424  289  962  266  698  640  545  544\n",
      "  715  245  152  676  511  460  883  184   29  803  129  129  933   54\n",
      "  902  551  489  757  274  336  389  618   43  443  544  889  258  322\n",
      " 1000  938   58  292  871  120  780  431   83   92  897  399  612  566\n",
      "  909  634]\n",
      "\n",
      "The mean of dataset is 524.97\n",
      "\n",
      " The median of dataset is 551.5\n",
      "\n",
      " The variance of dataset is 82414.08910000001\n",
      "\n",
      " The standard deviation of dataset is 287.07854169199067\n"
     ]
    }
   ],
   "source": [
    "np.random.seed(0) # Set seed for reproducibility (optional)\n",
    "\n",
    "# Generate dataset of 100 random integers between 1 and 1000\n",
    "dataset = np.random.randint(1, 1001, size=100)\n",
    "\n",
    "# Compute mean, median, variance, and standard deviation\n",
    "mean = np.mean(dataset)\n",
    "median = np.median(dataset)\n",
    "variance = np.var(dataset)\n",
    "std_deviation = np.std(dataset)\n",
    "print(\"Dataset\\n\",dataset)\n",
    "print(\"\\nThe mean of dataset is\",mean)\n",
    "print(\"\\n The median of dataset is\",median)\n",
    "print(\"\\n The variance of dataset is\",variance)\n",
    "print(\"\\n The standard deviation of dataset is\",std_deviation)"
   ]
  },
  {
   "cell_type": "markdown",
   "id": "3c134521-a5d0-4779-b957-76a444c3ec6a",
   "metadata": {},
   "source": [
    "62. Generate an array of 50 random numbers between 1 and 100. Find the 25th and 75th percentiles of the\n",
    "dataset."
   ]
  },
  {
   "cell_type": "code",
   "execution_count": 23,
   "id": "2b8d0014-4c20-4e85-8200-1baf8349b1bc",
   "metadata": {},
   "outputs": [
    {
     "data": {
      "text/plain": [
       "26.25"
      ]
     },
     "execution_count": 23,
     "metadata": {},
     "output_type": "execute_result"
    }
   ],
   "source": [
    "arr=np.array([np.random.randint(1,100,50)])\n",
    "np.percentile(arr,25)"
   ]
  },
  {
   "cell_type": "code",
   "execution_count": 24,
   "id": "cf9689f3-4265-4119-88cb-a5a01f6450ff",
   "metadata": {},
   "outputs": [
    {
     "data": {
      "text/plain": [
       "70.5"
      ]
     },
     "execution_count": 24,
     "metadata": {},
     "output_type": "execute_result"
    }
   ],
   "source": [
    "np.percentile(arr,75)"
   ]
  },
  {
   "cell_type": "markdown",
   "id": "4e7f7ed9-775a-4211-94fd-40a16674e515",
   "metadata": {},
   "source": [
    "Q63. Create two arrays representing two sets of variables. Compute the correlation coefficient between these\n",
    "arrays using NumPy's `corrcoef` function."
   ]
  },
  {
   "cell_type": "code",
   "execution_count": 26,
   "id": "bad1b03a-9d85-4095-b253-837faab094ac",
   "metadata": {},
   "outputs": [
    {
     "data": {
      "text/plain": [
       "array([[1.        , 0.97072534],\n",
       "       [0.97072534, 1.        ]])"
      ]
     },
     "execution_count": 26,
     "metadata": {},
     "output_type": "execute_result"
    }
   ],
   "source": [
    "arr1=([1,3,5])\n",
    "arr2=([-2,8,12])\n",
    "np.corrcoef(arr1,arr2)"
   ]
  },
  {
   "cell_type": "markdown",
   "id": "3d77d824-c0b1-4fef-8747-99822f910b73",
   "metadata": {},
   "source": [
    "Q64. Create two matrices and perform matrix multiplication using NumPy's `dot` function."
   ]
  },
  {
   "cell_type": "code",
   "execution_count": 31,
   "id": "888dcb89-a6da-4f43-9487-6cc23f0ed8e5",
   "metadata": {},
   "outputs": [
    {
     "name": "stdout",
     "output_type": "stream",
     "text": [
      "[[ 8 13 12]\n",
      " [20 31 30]\n",
      " [32 49 48]]\n"
     ]
    }
   ],
   "source": [
    "m1=np.matrix([[1,2,3],\n",
    "             [4,5,6],\n",
    "             [7,8,9]])\n",
    "m2=np.matrix([[1,2,2],\n",
    "             [2,1,2],\n",
    "             [1,3,2]])\n",
    "res=m1.dot(m2)\n",
    "print(res)"
   ]
  },
  {
   "cell_type": "markdown",
   "id": "a1f147c4-72a5-44fe-8de7-fc75c20b0ac0",
   "metadata": {},
   "source": [
    "65. Create an array of 50 integers between 10 and 1000. Calculate the 10th, 50th (median), and 90th\n",
    "percentiles along with the first and third quartiles."
   ]
  },
  {
   "cell_type": "code",
   "execution_count": 33,
   "id": "b55dbf63-3fcd-4ac8-aca1-01adc383c2d7",
   "metadata": {},
   "outputs": [
    {
     "name": "stdout",
     "output_type": "stream",
     "text": [
      "[[923  74 537 460 871 881 951 196 812 904  87 444 133 744 973 363 832 126\n",
      "  237 325 646 413  14 213 188 943 600 185 470 880 692 827 550 606 234 885\n",
      "  912 646 472 762 239 450 322 695 780 958 851 549 889 871]]\n",
      "The 10th percentile is 179.8\n",
      "The 90th percentile is 913.1\n",
      "The median(50th percentile) is 603.0\n",
      "The first quartile(25th percentile) is 322.75\n",
      "The third quartile(75th percentile) is 866.0\n"
     ]
    }
   ],
   "source": [
    "arr=np.array([np.random.randint(10,1001,50)])\n",
    "print(arr)\n",
    "print(\"The 10th percentile is\",np.percentile(arr,10))\n",
    "print(\"The 90th percentile is\",np.percentile(arr,90))\n",
    "print(\"The median(50th percentile) is\",np.median(arr))\n",
    "print(\"The first quartile(25th percentile) is\",np.percentile(arr,25))\n",
    "print(\"The third quartile(75th percentile) is\",np.percentile(arr,75))"
   ]
  },
  {
   "cell_type": "markdown",
   "id": "37a4e054-16ff-45a3-a237-d47f0b021193",
   "metadata": {},
   "source": [
    "66. Create a NumPy array of integers and find the index of a specific element."
   ]
  },
  {
   "cell_type": "code",
   "execution_count": 35,
   "id": "edf852e8-d585-4075-9ef1-30efbb8f5aff",
   "metadata": {},
   "outputs": [
    {
     "name": "stdout",
     "output_type": "stream",
     "text": [
      "The index of 30 in the array is: 2\n"
     ]
    }
   ],
   "source": [
    "array = np.array([10, 20, 30, 40, 50])\n",
    "\n",
    "# Find the index of a specific element (e.g., 30)\n",
    "element_to_find = 30\n",
    "index = np.where(array == element_to_find)[0]\n",
    "\n",
    "if index.size == 0:\n",
    "    print(f\"The element {element_to_find} is not found in the array.\")\n",
    "else:\n",
    "    print(f\"The index of {element_to_find} in the array is: {index[0]}\")"
   ]
  },
  {
   "cell_type": "markdown",
   "id": "5e43f5c5-43da-4537-ab71-269c7676db37",
   "metadata": {},
   "source": [
    "Q67. Generate a random NumPy array and sort it in ascending order"
   ]
  },
  {
   "cell_type": "code",
   "execution_count": 39,
   "id": "26db9f4d-d1a3-4aa5-b71c-4a1dd5603e1c",
   "metadata": {},
   "outputs": [
    {
     "name": "stdout",
     "output_type": "stream",
     "text": [
      "The original array is [[2 5 9 8 3 6 3 2]]\n",
      "The sorted array is [[2 2 3 3 5 6 8 9]]\n"
     ]
    }
   ],
   "source": [
    "arr=np.array([np.random.randint(1,10,8)])\n",
    "sorted_arr=np.sort(arr)\n",
    "print(\"The original array is\",arr)\n",
    "print(\"The sorted array is\", sorted_arr)"
   ]
  },
  {
   "cell_type": "markdown",
   "id": "bfb8b2cd-8650-408e-87f9-37b25bb5b270",
   "metadata": {},
   "source": [
    "Q68. Filter elements >20  in the given NumPy array.\n",
    "arr = np.array([12, 25, 6, 42, 8, 30])"
   ]
  },
  {
   "cell_type": "code",
   "execution_count": 46,
   "id": "a49c31e5-1342-4fcb-8685-d54f8cb2440a",
   "metadata": {},
   "outputs": [
    {
     "name": "stdout",
     "output_type": "stream",
     "text": [
      "The filtered elements>20 are [25 42 30]\n"
     ]
    }
   ],
   "source": [
    "arr = np.array([12, 25, 6, 42, 8, 30])\n",
    "filter_arr=arr[arr>20]\n",
    "print(\"The filtered elements>20 are\", filter_arr)"
   ]
  },
  {
   "cell_type": "markdown",
   "id": "ff21019c-4191-4cdf-b170-ba1fb9bbcbd6",
   "metadata": {},
   "source": [
    "Q69. Filter elements which are divisible by 3 from a given NumPy array.\n",
    "arr = np.array([1, 5, 8, 12, 15])"
   ]
  },
  {
   "cell_type": "code",
   "execution_count": 53,
   "id": "ce539006-09a2-4e68-b439-8b3b766ea7a6",
   "metadata": {},
   "outputs": [
    {
     "name": "stdout",
     "output_type": "stream",
     "text": [
      "The filteredelements which are divisible by 3 are [12 15]\n"
     ]
    }
   ],
   "source": [
    "arr = np.array([1, 5, 8, 12, 15])\n",
    "filter_arr=arr[arr%3==0]\n",
    "print(\"The filteredelements which are divisible by 3 are\", filter_arr)"
   ]
  },
  {
   "cell_type": "markdown",
   "id": "c7c7247d-5d32-40f7-bfd7-5fe584fb8b45",
   "metadata": {},
   "source": [
    "Q70. Filter elements which are ≥ 20 and ≤ 40 from a given NumPy array.\n",
    "arr = np.array([10, 20, 30, 40, 50])"
   ]
  },
  {
   "cell_type": "code",
   "execution_count": 56,
   "id": "91ad5d44-0874-46ef-9566-7c5a44712b82",
   "metadata": {},
   "outputs": [
    {
     "name": "stdout",
     "output_type": "stream",
     "text": [
      "Original array: [10 20 30 40 50]\n",
      "Filtered elements between 20 and 40 (inclusive): [20 30 40]\n"
     ]
    }
   ],
   "source": [
    "arr = np.array([10, 20, 30, 40, 50])\n",
    "\n",
    "# Filter elements between 20 and 40 (inclusive)\n",
    "filtered_array = arr[(arr >= 20) & (arr <= 40)]\n",
    "\n",
    "print(\"Original array:\", arr)\n",
    "print(\"Filtered elements between 20 and 40 (inclusive):\", filtered_array)\n"
   ]
  },
  {
   "cell_type": "markdown",
   "id": "9c09293c-618e-43d1-85b1-54cbefb5ba2d",
   "metadata": {},
   "source": [
    "Q71. For the given NumPy array, check its byte order using the `dtype` attribute byteorder.\n",
    "arr = np.array([1, 2, 3])"
   ]
  },
  {
   "cell_type": "code",
   "execution_count": 57,
   "id": "1740471e-3640-4a28-81ae-f475ed9318ee",
   "metadata": {},
   "outputs": [
    {
     "name": "stdout",
     "output_type": "stream",
     "text": [
      "Byte order: =\n"
     ]
    }
   ],
   "source": [
    "arr = np.array([1, 2, 3])\n",
    "byte_order = arr.dtype.byteorder\n",
    "\n",
    "print(\"Byte order:\", byte_order)"
   ]
  },
  {
   "cell_type": "markdown",
   "id": "09c5777a-0f2d-415e-b4bc-467837782b1d",
   "metadata": {},
   "source": [
    "Q72. For the given NumPy array, perform byte swapping in place using `byteswap()`.\n",
    "arr = np.array([1, 2, 3], dtype=np.int32)"
   ]
  },
  {
   "cell_type": "code",
   "execution_count": 68,
   "id": "943e6cd9-38ef-4374-b87a-19a91323f0b7",
   "metadata": {},
   "outputs": [
    {
     "name": "stdout",
     "output_type": "stream",
     "text": [
      "Byte swapped array [16777216 33554432 50331648]\n"
     ]
    }
   ],
   "source": [
    "arr = np.array([1, 2, 3], dtype=np.int32)\n",
    "arr_swap=arr.byteswap()\n",
    "print(\"Byte swapped array\",arr_swap)"
   ]
  },
  {
   "cell_type": "markdown",
   "id": "9a791da0-9954-4d11-8429-95a947c0dd54",
   "metadata": {},
   "source": [
    "Q73. For the given NumPy array, swap its byte order without modifying the original array using\n",
    "`newbyteorder()`.\n",
    "arr = np.array([1, 2, 3], dtype=np.int32)"
   ]
  },
  {
   "cell_type": "code",
   "execution_count": 69,
   "id": "8d93ff83-82d0-430c-b7e1-a3494b4ee723",
   "metadata": {},
   "outputs": [
    {
     "name": "stdout",
     "output_type": "stream",
     "text": [
      "Original array [1 2 3]\n",
      "Byte swapped array [16777216 33554432 50331648]\n"
     ]
    }
   ],
   "source": [
    "arr = np.array([1, 2, 3], dtype=np.int32)\n",
    "arr_swap=arr.newbyteorder()\n",
    "print(\"Original array\",arr)\n",
    "print(\"Byte swapped array\",arr_swap)"
   ]
  },
  {
   "cell_type": "markdown",
   "id": "9768b798-2f77-4f1e-a2f2-1c3e83ae504a",
   "metadata": {},
   "source": [
    "Q74. For the given NumPy array and swap its byte order conditionally based on system endianness using\n",
    "`newbyteorder()`.\n",
    "arr = np.array([1, 2, 3], dtype=np.int32)"
   ]
  },
  {
   "cell_type": "code",
   "execution_count": 70,
   "id": "2c4c31e9-e34b-438f-aaa9-df8ec6454b9b",
   "metadata": {},
   "outputs": [
    {
     "name": "stdout",
     "output_type": "stream",
     "text": [
      "Array with swapped byte order: [1 2 3]\n"
     ]
    }
   ],
   "source": [
    "arr = np.array([1, 2, 3], dtype=np.int32)\n",
    "\n",
    "# Swap byte order conditionally based on system endianness\n",
    "arr = arr.newbyteorder() if arr.dtype.byteorder != '=' else arr\n",
    "\n",
    "print(\"Array with swapped byte order:\", arr)"
   ]
  },
  {
   "cell_type": "markdown",
   "id": "9696a1d7-ec0e-4c87-9c75-eb1cfd7d721e",
   "metadata": {},
   "source": [
    "Q75. For the given NumPy array, check if byte swapping is necessary for the current system using `dtype`\n",
    "attribute `byteorder`.\n",
    "arr = np.array([1, 2, 3], dtype=np.int32)"
   ]
  },
  {
   "cell_type": "code",
   "execution_count": 71,
   "id": "254add3a-b9a9-4f13-b599-c963dd618667",
   "metadata": {},
   "outputs": [
    {
     "name": "stdout",
     "output_type": "stream",
     "text": [
      "Byte swapping is not necessary for the current system.\n"
     ]
    }
   ],
   "source": [
    "arr = np.array([1, 2, 3], dtype=np.int32)\n",
    "\n",
    "# Check if byte swapping is necessary\n",
    "byte_swapping_needed = arr.dtype.byteorder != '='\n",
    "\n",
    "if byte_swapping_needed:\n",
    "    print(\"Byte swapping is necessary for the current system.\")\n",
    "else:\n",
    "    print(\"Byte swapping is not necessary for the current system.\")"
   ]
  },
  {
   "cell_type": "markdown",
   "id": "0702accf-58ec-428f-8298-1fe9b72cf556",
   "metadata": {},
   "source": [
    "Q76. Create a NumPy array `arr1` with values from 1 to 10. Create a copy of `arr1` named `copy_arr` and modify\n",
    "an element in `copy_arr`. Check if modifying `copy_arr` affects `arr1`."
   ]
  },
  {
   "cell_type": "code",
   "execution_count": 73,
   "id": "f98a0ed6-e793-4c44-b072-a66128f086da",
   "metadata": {},
   "outputs": [
    {
     "name": "stdout",
     "output_type": "stream",
     "text": [
      "The original array is [ 1  2  3  4  5  6  7  8  9 10]\n",
      "The copied and modified array is [  1 100   3   4   5   6   7   8   9  10]\n"
     ]
    }
   ],
   "source": [
    "arr1=np.array(np.arange(1,11))\n",
    "copy_arr=arr1.copy()\n",
    "copy_arr[1]=100\n",
    "print(\"The original array is\", arr1)\n",
    "print(\"The copied and modified array is\", copy_arr)"
   ]
  },
  {
   "cell_type": "markdown",
   "id": "bb025ccd-218a-4c14-80e5-91c21ffa04de",
   "metadata": {},
   "source": [
    "Q77. Create a 2D NumPy array `matrix` of shape (3, 3) with random integers. Extract a slice `view_slice` from\n",
    "the matrix. Modify an element in `view_slice` and observe if it changes the original `matrix`."
   ]
  },
  {
   "cell_type": "code",
   "execution_count": 75,
   "id": "9d8133c9-1153-4e9c-b331-4c5f1e286ebb",
   "metadata": {},
   "outputs": [
    {
     "name": "stdout",
     "output_type": "stream",
     "text": [
      "Original matrix:\n",
      " [[5 3 2]\n",
      " [4 8 1]\n",
      " [6 7 4]]\n",
      "\n",
      "View slice from the matrix:\n",
      "[[8 1]\n",
      " [7 4]]\n",
      "\n",
      "Modified view slice:\n",
      "[[99  1]\n",
      " [ 7  4]]\n",
      "\n",
      "Original matrix after modification:\n",
      "[[ 5  3  2]\n",
      " [ 4 99  1]\n",
      " [ 6  7  4]]\n"
     ]
    }
   ],
   "source": [
    "# Create a 2D NumPy array (matrix) of shape (3, 3) with random integers\n",
    "matrix = np.random.randint(1, 10, size=(3, 3))\n",
    "print(\"Original matrix:\\n\", matrix)\n",
    "\n",
    "# Extract a slice (view_slice) from the matrix\n",
    "view_slice = matrix[1:, 1:]\n",
    "print(\"\\nView slice from the matrix:\")\n",
    "print(view_slice)\n",
    "\n",
    "# Modify an element in the view_slice\n",
    "view_slice[0, 0] = 99\n",
    "\n",
    "# Check if the modification reflects in the original matrix\n",
    "print(\"\\nModified view slice:\")\n",
    "print(view_slice)\n",
    "print(\"\\nOriginal matrix after modification:\")\n",
    "print(matrix)\n"
   ]
  },
  {
   "cell_type": "markdown",
   "id": "4af20309-90c7-4628-8137-3dfdbaf50dd7",
   "metadata": {},
   "source": [
    "Q78. Create a NumPy array `array_a` of shape (4, 3) with sequential integers from 1 to 12. Extract a slice\n",
    "`view_b` from `array_a` and broadcast the addition of 5 to view_b. Check if it alters the original `array_a`."
   ]
  },
  {
   "cell_type": "code",
   "execution_count": 85,
   "id": "f26dc29d-5a1d-4d63-9447-1f578332fd61",
   "metadata": {},
   "outputs": [
    {
     "name": "stdout",
     "output_type": "stream",
     "text": [
      "The original array before modification [[ 1  2  3]\n",
      " [ 4  5  6]\n",
      " [ 7  8  9]\n",
      " [10 11 12]]\n",
      "\n",
      "Extracting slice array_a[1:,1:] [[ 5  6]\n",
      " [ 8  9]\n",
      " [11 12]]\n",
      "\n",
      "view_b after broadcasting addition of 5 [[10 11]\n",
      " [13 14]\n",
      " [16 17]]\n",
      "\n",
      "The original array after modification [[ 1  2  3]\n",
      " [ 4  5  6]\n",
      " [ 7  8  9]\n",
      " [10 11 12]]\n"
     ]
    }
   ],
   "source": [
    "array_a=np.array([[1,2,3],\n",
    "                 [4,5,6],\n",
    "                 [7,8,9],\n",
    "                 [10,11,12]])\n",
    "print(\"The original array before modification\",array_a)\n",
    "view_b=array_a[1:,1:]\n",
    "print(\"\\nExtracting slice array_a[1:,1:]\",view_b)\n",
    "view_b=view_b+5\n",
    "print(\"\\nview_b after broadcasting addition of 5\",view_b) #view_b after broadcasting addition of 5\n",
    "print(\"\\nThe original array after modification\",array_a)"
   ]
  },
  {
   "cell_type": "markdown",
   "id": "0cc8a6fa-31e0-4168-be16-e39c8b7c5bd7",
   "metadata": {},
   "source": [
    "Q79. Create a NumPy array `orig_array` of shape (2, 4) with values from 1 to 8. Create a reshaped view\n",
    "`reshaped_view` of shape (4, 2) from orig_array. Modify an element in `reshaped_view` and check if it\n",
    "reflects changes in the original `orig_array`."
   ]
  },
  {
   "cell_type": "code",
   "execution_count": 87,
   "id": "ab6473c3-605c-40c1-842b-a97c8fa1b085",
   "metadata": {},
   "outputs": [
    {
     "name": "stdout",
     "output_type": "stream",
     "text": [
      "The originial array [[1 2 3 4]\n",
      " [5 6 7 8]]\n",
      "\n",
      " The reshaped array [[1 2]\n",
      " [3 4]\n",
      " [5 6]\n",
      " [7 8]]\n",
      "\n",
      " The reshaped arrayafter modifying an element [[100   2]\n",
      " [  3   4]\n",
      " [  5   6]\n",
      " [  7   8]]\n",
      "The originial array after changes [[100   2   3   4]\n",
      " [  5   6   7   8]]\n"
     ]
    }
   ],
   "source": [
    "orig_array=np.array([[1,2,3,4],\n",
    "                     [5,6,7,8]])\n",
    "print(\"The originial array\", orig_array)\n",
    "reshaped_view=orig_array.reshape(4,2)\n",
    "print(\"\\n The reshaped array\", reshaped_view)\n",
    "reshaped_view[0,0]=100\n",
    "print(\"\\n The reshaped arrayafter modifying an element\", reshaped_view)\n",
    "print(\"The originial array after changes\", orig_array)"
   ]
  },
  {
   "cell_type": "markdown",
   "id": "ad328e8b-9e1a-4d8d-8254-8a0e7f0abae9",
   "metadata": {},
   "source": [
    "Q80. Create a NumPy array `data` of shape (3, 4) with random integers. Extract a copy `data_copy` of\n",
    "elements greater than 5. Modify an element in `data_copy` and verify if it affects the original `data`."
   ]
  },
  {
   "cell_type": "code",
   "execution_count": 94,
   "id": "a83e6855-da70-4990-b233-9ac8ff37fd06",
   "metadata": {},
   "outputs": [
    {
     "name": "stdout",
     "output_type": "stream",
     "text": [
      "The original array\n",
      " [[10  3  4  3]\n",
      " [ 2  7  9  9]\n",
      " [ 6  9  2 10]]\n",
      "Extracting elements greater than 5\n",
      " [10  7  9  9  6  9 10]\n",
      "\n",
      "modified extracted array\n",
      " [1000    7    9    9    6    9   10]\n",
      "\n",
      "Originial array after the process\n",
      " [[10  3  4  3]\n",
      " [ 2  7  9  9]\n",
      " [ 6  9  2 10]]\n"
     ]
    }
   ],
   "source": [
    "data=np.random.randint(1,11,size=(3,4))\n",
    "print(\"The original array\\n\",data)\n",
    "data_copy=np.copy(data[data>5])\n",
    "print(\"Extracting elements greater than 5\\n\", data_copy)\n",
    "data_copy[0]=1000\n",
    "print(\"\\nmodified extracted array\\n\",data_copy)\n",
    "print(\"\\nOriginial array after the process\\n\", data)"
   ]
  },
  {
   "cell_type": "markdown",
   "id": "81cf5587-70f5-49fd-ac77-95756cd37c6a",
   "metadata": {},
   "source": [
    "Q81. Create two matrices A and B of identical shape containing integers and perform addition and subtraction\n",
    "operations between them."
   ]
  },
  {
   "cell_type": "code",
   "execution_count": 4,
   "id": "a16f7288-8483-4503-961b-d726a14950a2",
   "metadata": {},
   "outputs": [
    {
     "name": "stdout",
     "output_type": "stream",
     "text": [
      "Matrix A \n",
      " [[6 8 1]\n",
      " [4 1 4]\n",
      " [1 1 3]]\n",
      "Matrix B \n",
      " [[9 3 1]\n",
      " [1 9 7]\n",
      " [5 1 6]]\n",
      "Matrix A+ Matrix B=\n",
      " [[15 11  2]\n",
      " [ 5 10 11]\n",
      " [ 6  2  9]]\n",
      "Matrix A-Matrix B=\n",
      " [[-3  5  0]\n",
      " [ 3 -8 -3]\n",
      " [-4  0 -3]]\n"
     ]
    }
   ],
   "source": [
    "mat_A=np.random.randint(1,10,size=(3,3))\n",
    "print(\"Matrix A \\n\",mat_A)\n",
    "mat_B=np.random.randint(1,10,size=(3,3))\n",
    "print(\"Matrix B \\n\",mat_B)\n",
    "add=mat_A+mat_B\n",
    "print(\"Matrix A+ Matrix B=\\n\",add)\n",
    "sub=mat_A-mat_B\n",
    "print(\"Matrix A-Matrix B=\\n\",sub)"
   ]
  },
  {
   "cell_type": "markdown",
   "id": "7b2cba5c-f855-4ea5-8d66-0f8263729400",
   "metadata": {},
   "source": [
    "Q82. Generate two matrices `C` (3x2) and `D` (2x4) and perform matrix multiplication."
   ]
  },
  {
   "cell_type": "code",
   "execution_count": 7,
   "id": "b908147a-bdd1-470b-942f-5f68b88e1290",
   "metadata": {},
   "outputs": [
    {
     "name": "stdout",
     "output_type": "stream",
     "text": [
      "Matrix C \n",
      " [[1 2]\n",
      " [8 9]\n",
      " [1 9]] \n",
      " having size (3, 2)\n",
      "Matrix D \n",
      " [[3 7 7 9]\n",
      " [6 7 1 7]] \n",
      " having size (2, 4)\n",
      "The result of matrix multiplication is\n",
      " [[ 15  21   9  23]\n",
      " [ 78 119  65 135]\n",
      " [ 57  70  16  72]]\n"
     ]
    }
   ],
   "source": [
    "mat_C=np.random.randint(1,10,size=(3,2))\n",
    "print(\"Matrix C \\n\",mat_C,\"\\n having size\", mat_C.shape)\n",
    "mat_D=np.random.randint(1,10,size=(2,4))\n",
    "print(\"Matrix D \\n\",mat_D,\"\\n having size\", mat_D.shape)\n",
    "mat_mul=mat_C@mat_D\n",
    "print(\"The result of matrix multiplication is\\n\", mat_mul)"
   ]
  },
  {
   "cell_type": "markdown",
   "id": "f2d1b124-f957-490c-a34a-652610cd85af",
   "metadata": {},
   "source": [
    "Q83. Create a matrix `E` and find its transpose."
   ]
  },
  {
   "cell_type": "code",
   "execution_count": 8,
   "id": "eb5c801d-18e7-480d-a2f6-06c4144fed81",
   "metadata": {},
   "outputs": [
    {
     "name": "stdout",
     "output_type": "stream",
     "text": [
      "The matrix E is \n",
      " [[6 4]\n",
      " [8 9]\n",
      " [6 1]\n",
      " [9 8]]\n",
      "The transposed matrix is\n",
      " [[6 8 6 9]\n",
      " [4 9 1 8]]\n"
     ]
    }
   ],
   "source": [
    "mat_E=np.random.randint(1,10,size=(4,2))\n",
    "print(\"The matrix E is \\n\", mat_E)\n",
    "print(\"The transposed matrix is\\n\",mat_E.T)"
   ]
  },
  {
   "cell_type": "markdown",
   "id": "04d6aea9-7e91-4ce4-9c50-fe6ad58f057d",
   "metadata": {},
   "source": [
    "Q84. Generate a square matrix `F` and compute its determinant."
   ]
  },
  {
   "cell_type": "code",
   "execution_count": 9,
   "id": "cefd2bfa-8169-40cd-90e1-6dd4260768de",
   "metadata": {},
   "outputs": [
    {
     "name": "stdout",
     "output_type": "stream",
     "text": [
      "The matrix F is\n",
      " [[7 9 1]\n",
      " [7 4 4]\n",
      " [9 6 4]]\n",
      "Determinant of matrix F is\n",
      " 22.000000000000036\n"
     ]
    }
   ],
   "source": [
    "mat_F=np.random.randint(1,10,size=(3,3))\n",
    "print(\"The matrix F is\\n\",mat_F)\n",
    "det=np.linalg.det(mat_F)\n",
    "print(\"Determinant of matrix F is\\n\", det)"
   ]
  },
  {
   "cell_type": "markdown",
   "id": "2052a284-60b6-42eb-9f82-4f593a4c3291",
   "metadata": {},
   "source": [
    "85. Create a square matrix `G` and find its inverse."
   ]
  },
  {
   "cell_type": "code",
   "execution_count": 10,
   "id": "ec8cf0f9-1d56-4667-9bca-74e1da635730",
   "metadata": {},
   "outputs": [
    {
     "name": "stdout",
     "output_type": "stream",
     "text": [
      "The matrix G is\n",
      " [[9 7 1]\n",
      " [1 3 4]\n",
      " [9 1 9]]\n",
      "The inverse of matrix G is\n",
      " [[-0.36363636 -1.36363636  1.45454545]\n",
      " [ 0.36363636  0.86363636 -0.95454545]\n",
      " [ 0.27272727  1.77272727 -1.59090909]]\n"
     ]
    }
   ],
   "source": [
    "mat_G=np.random.randint(1,10,size=(3,3))\n",
    "print(\"The matrix G is\\n\",mat_G)\n",
    "inv=np.linalg.inv(mat_F)\n",
    "print(\"The inverse of matrix G is\\n\", inv)"
   ]
  },
  {
   "cell_type": "code",
   "execution_count": null,
   "id": "be29c8e9-70f4-40c9-8a0a-551e412f4415",
   "metadata": {},
   "outputs": [],
   "source": []
  }
 ],
 "metadata": {
  "kernelspec": {
   "display_name": "Python 3 (ipykernel)",
   "language": "python",
   "name": "python3"
  },
  "language_info": {
   "codemirror_mode": {
    "name": "ipython",
    "version": 3
   },
   "file_extension": ".py",
   "mimetype": "text/x-python",
   "name": "python",
   "nbconvert_exporter": "python",
   "pygments_lexer": "ipython3",
   "version": "3.10.8"
  }
 },
 "nbformat": 4,
 "nbformat_minor": 5
}
